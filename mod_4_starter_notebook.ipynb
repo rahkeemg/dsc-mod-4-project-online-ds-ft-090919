{
 "cells": [
  {
   "cell_type": "markdown",
   "metadata": {},
   "source": [
    "# Mod 4 Project - Starter Notebook\n",
    "\n",
    "In this project, we will take a look at a zillow dataset on the housing prices.\n",
    "\n",
    "\n",
    "## Outline:\n",
    "\n",
    "<ul>\n",
    "    <li>Abstract</li>\n",
    "    <li>Load and preprocess the data</li>\n",
    "    <li>Filter for the desired area</li>\n",
    "    <li>Find the best model to use for making predictions</li>\n",
    "    <li>Graph predictions of our data</li>\n",
    "    <li>Summary of the results</li>\n",
    "</ul>"
   ]
  },
  {
   "cell_type": "markdown",
   "metadata": {},
   "source": [
    "## Abstract \n",
    "\n",
    "The area that we will be looking at for this project is Central Florida.\n",
    "\n",
    "We are going to create a time series model to find the best zip code to buy homes within this county of Florida.\n",
    "\n",
    "![map of Orange County, Florda](images/769-orange-county-florida.jpg)"
   ]
  },
  {
   "cell_type": "markdown",
   "metadata": {},
   "source": [
    "### Import libraries to run notebook"
   ]
  },
  {
   "cell_type": "code",
   "execution_count": 1,
   "metadata": {},
   "outputs": [],
   "source": [
    "import pandas as pd\n",
    "import numpy as np\n",
    "import statsmodels.api as sm\n",
    "import helper_functions as hf\n",
    "import matplotlib.pyplot as plt\n",
    "import itertools\n",
    "from matplotlib.pylab import rcParams\n",
    "from statsmodels.tsa.seasonal import seasonal_decompose\n",
    "from statsmodels.tsa.statespace import sarimax\n",
    "from statsmodels.graphics.tsaplots import plot_pacf, plot_acf\n",
    "\n",
    "%matplotlib inline\n",
    "%reload_ext autoreload\n",
    "%autoreload 2"
   ]
  },
  {
   "cell_type": "code",
   "execution_count": 2,
   "metadata": {},
   "outputs": [],
   "source": [
    "data_wide = pd.read_csv('./zillow_data.csv')"
   ]
  },
  {
   "cell_type": "code",
   "execution_count": 3,
   "metadata": {},
   "outputs": [
    {
     "data": {
      "text/html": [
       "<div>\n",
       "<style scoped>\n",
       "    .dataframe tbody tr th:only-of-type {\n",
       "        vertical-align: middle;\n",
       "    }\n",
       "\n",
       "    .dataframe tbody tr th {\n",
       "        vertical-align: top;\n",
       "    }\n",
       "\n",
       "    .dataframe thead th {\n",
       "        text-align: right;\n",
       "    }\n",
       "</style>\n",
       "<table border=\"1\" class=\"dataframe\">\n",
       "  <thead>\n",
       "    <tr style=\"text-align: right;\">\n",
       "      <th></th>\n",
       "      <th>RegionID</th>\n",
       "      <th>RegionName</th>\n",
       "      <th>City</th>\n",
       "      <th>State</th>\n",
       "      <th>Metro</th>\n",
       "      <th>CountyName</th>\n",
       "      <th>SizeRank</th>\n",
       "      <th>1996-04</th>\n",
       "      <th>1996-05</th>\n",
       "      <th>1996-06</th>\n",
       "      <th>...</th>\n",
       "      <th>2017-07</th>\n",
       "      <th>2017-08</th>\n",
       "      <th>2017-09</th>\n",
       "      <th>2017-10</th>\n",
       "      <th>2017-11</th>\n",
       "      <th>2017-12</th>\n",
       "      <th>2018-01</th>\n",
       "      <th>2018-02</th>\n",
       "      <th>2018-03</th>\n",
       "      <th>2018-04</th>\n",
       "    </tr>\n",
       "  </thead>\n",
       "  <tbody>\n",
       "    <tr>\n",
       "      <th>0</th>\n",
       "      <td>84654</td>\n",
       "      <td>60657</td>\n",
       "      <td>Chicago</td>\n",
       "      <td>IL</td>\n",
       "      <td>Chicago</td>\n",
       "      <td>Cook</td>\n",
       "      <td>1</td>\n",
       "      <td>334200.0</td>\n",
       "      <td>335400.0</td>\n",
       "      <td>336500.0</td>\n",
       "      <td>...</td>\n",
       "      <td>1005500</td>\n",
       "      <td>1007500</td>\n",
       "      <td>1007800</td>\n",
       "      <td>1009600</td>\n",
       "      <td>1013300</td>\n",
       "      <td>1018700</td>\n",
       "      <td>1024400</td>\n",
       "      <td>1030700</td>\n",
       "      <td>1033800</td>\n",
       "      <td>1030600</td>\n",
       "    </tr>\n",
       "    <tr>\n",
       "      <th>1</th>\n",
       "      <td>90668</td>\n",
       "      <td>75070</td>\n",
       "      <td>McKinney</td>\n",
       "      <td>TX</td>\n",
       "      <td>Dallas-Fort Worth</td>\n",
       "      <td>Collin</td>\n",
       "      <td>2</td>\n",
       "      <td>235700.0</td>\n",
       "      <td>236900.0</td>\n",
       "      <td>236700.0</td>\n",
       "      <td>...</td>\n",
       "      <td>308000</td>\n",
       "      <td>310000</td>\n",
       "      <td>312500</td>\n",
       "      <td>314100</td>\n",
       "      <td>315000</td>\n",
       "      <td>316600</td>\n",
       "      <td>318100</td>\n",
       "      <td>319600</td>\n",
       "      <td>321100</td>\n",
       "      <td>321800</td>\n",
       "    </tr>\n",
       "    <tr>\n",
       "      <th>2</th>\n",
       "      <td>91982</td>\n",
       "      <td>77494</td>\n",
       "      <td>Katy</td>\n",
       "      <td>TX</td>\n",
       "      <td>Houston</td>\n",
       "      <td>Harris</td>\n",
       "      <td>3</td>\n",
       "      <td>210400.0</td>\n",
       "      <td>212200.0</td>\n",
       "      <td>212200.0</td>\n",
       "      <td>...</td>\n",
       "      <td>321000</td>\n",
       "      <td>320600</td>\n",
       "      <td>320200</td>\n",
       "      <td>320400</td>\n",
       "      <td>320800</td>\n",
       "      <td>321200</td>\n",
       "      <td>321200</td>\n",
       "      <td>323000</td>\n",
       "      <td>326900</td>\n",
       "      <td>329900</td>\n",
       "    </tr>\n",
       "    <tr>\n",
       "      <th>3</th>\n",
       "      <td>84616</td>\n",
       "      <td>60614</td>\n",
       "      <td>Chicago</td>\n",
       "      <td>IL</td>\n",
       "      <td>Chicago</td>\n",
       "      <td>Cook</td>\n",
       "      <td>4</td>\n",
       "      <td>498100.0</td>\n",
       "      <td>500900.0</td>\n",
       "      <td>503100.0</td>\n",
       "      <td>...</td>\n",
       "      <td>1289800</td>\n",
       "      <td>1287700</td>\n",
       "      <td>1287400</td>\n",
       "      <td>1291500</td>\n",
       "      <td>1296600</td>\n",
       "      <td>1299000</td>\n",
       "      <td>1302700</td>\n",
       "      <td>1306400</td>\n",
       "      <td>1308500</td>\n",
       "      <td>1307000</td>\n",
       "    </tr>\n",
       "    <tr>\n",
       "      <th>4</th>\n",
       "      <td>93144</td>\n",
       "      <td>79936</td>\n",
       "      <td>El Paso</td>\n",
       "      <td>TX</td>\n",
       "      <td>El Paso</td>\n",
       "      <td>El Paso</td>\n",
       "      <td>5</td>\n",
       "      <td>77300.0</td>\n",
       "      <td>77300.0</td>\n",
       "      <td>77300.0</td>\n",
       "      <td>...</td>\n",
       "      <td>119100</td>\n",
       "      <td>119400</td>\n",
       "      <td>120000</td>\n",
       "      <td>120300</td>\n",
       "      <td>120300</td>\n",
       "      <td>120300</td>\n",
       "      <td>120300</td>\n",
       "      <td>120500</td>\n",
       "      <td>121000</td>\n",
       "      <td>121500</td>\n",
       "    </tr>\n",
       "  </tbody>\n",
       "</table>\n",
       "<p>5 rows × 272 columns</p>\n",
       "</div>"
      ],
      "text/plain": [
       "   RegionID  RegionName      City State              Metro CountyName  \\\n",
       "0     84654       60657   Chicago    IL            Chicago       Cook   \n",
       "1     90668       75070  McKinney    TX  Dallas-Fort Worth     Collin   \n",
       "2     91982       77494      Katy    TX            Houston     Harris   \n",
       "3     84616       60614   Chicago    IL            Chicago       Cook   \n",
       "4     93144       79936   El Paso    TX            El Paso    El Paso   \n",
       "\n",
       "   SizeRank   1996-04   1996-05   1996-06   ...     2017-07  2017-08  2017-09  \\\n",
       "0         1  334200.0  335400.0  336500.0   ...     1005500  1007500  1007800   \n",
       "1         2  235700.0  236900.0  236700.0   ...      308000   310000   312500   \n",
       "2         3  210400.0  212200.0  212200.0   ...      321000   320600   320200   \n",
       "3         4  498100.0  500900.0  503100.0   ...     1289800  1287700  1287400   \n",
       "4         5   77300.0   77300.0   77300.0   ...      119100   119400   120000   \n",
       "\n",
       "   2017-10  2017-11  2017-12  2018-01  2018-02  2018-03  2018-04  \n",
       "0  1009600  1013300  1018700  1024400  1030700  1033800  1030600  \n",
       "1   314100   315000   316600   318100   319600   321100   321800  \n",
       "2   320400   320800   321200   321200   323000   326900   329900  \n",
       "3  1291500  1296600  1299000  1302700  1306400  1308500  1307000  \n",
       "4   120300   120300   120300   120300   120500   121000   121500  \n",
       "\n",
       "[5 rows x 272 columns]"
      ]
     },
     "execution_count": 3,
     "metadata": {},
     "output_type": "execute_result"
    }
   ],
   "source": [
    "data_wide.head()"
   ]
  },
  {
   "cell_type": "code",
   "execution_count": 4,
   "metadata": {
    "scrolled": true
   },
   "outputs": [
    {
     "data": {
      "text/html": [
       "<div>\n",
       "<style scoped>\n",
       "    .dataframe tbody tr th:only-of-type {\n",
       "        vertical-align: middle;\n",
       "    }\n",
       "\n",
       "    .dataframe tbody tr th {\n",
       "        vertical-align: top;\n",
       "    }\n",
       "\n",
       "    .dataframe thead th {\n",
       "        text-align: right;\n",
       "    }\n",
       "</style>\n",
       "<table border=\"1\" class=\"dataframe\">\n",
       "  <thead>\n",
       "    <tr style=\"text-align: right;\">\n",
       "      <th></th>\n",
       "      <th>RegionID</th>\n",
       "      <th>RegionName</th>\n",
       "      <th>City</th>\n",
       "      <th>State</th>\n",
       "      <th>Metro</th>\n",
       "      <th>CountyName</th>\n",
       "      <th>SizeRank</th>\n",
       "      <th>value</th>\n",
       "    </tr>\n",
       "    <tr>\n",
       "      <th>time</th>\n",
       "      <th></th>\n",
       "      <th></th>\n",
       "      <th></th>\n",
       "      <th></th>\n",
       "      <th></th>\n",
       "      <th></th>\n",
       "      <th></th>\n",
       "      <th></th>\n",
       "    </tr>\n",
       "  </thead>\n",
       "  <tbody>\n",
       "    <tr>\n",
       "      <th>1996-04-01</th>\n",
       "      <td>84654</td>\n",
       "      <td>60657</td>\n",
       "      <td>Chicago</td>\n",
       "      <td>IL</td>\n",
       "      <td>Chicago</td>\n",
       "      <td>Cook</td>\n",
       "      <td>1</td>\n",
       "      <td>334200.0</td>\n",
       "    </tr>\n",
       "    <tr>\n",
       "      <th>1996-04-01</th>\n",
       "      <td>90668</td>\n",
       "      <td>75070</td>\n",
       "      <td>McKinney</td>\n",
       "      <td>TX</td>\n",
       "      <td>Dallas-Fort Worth</td>\n",
       "      <td>Collin</td>\n",
       "      <td>2</td>\n",
       "      <td>235700.0</td>\n",
       "    </tr>\n",
       "    <tr>\n",
       "      <th>1996-04-01</th>\n",
       "      <td>91982</td>\n",
       "      <td>77494</td>\n",
       "      <td>Katy</td>\n",
       "      <td>TX</td>\n",
       "      <td>Houston</td>\n",
       "      <td>Harris</td>\n",
       "      <td>3</td>\n",
       "      <td>210400.0</td>\n",
       "    </tr>\n",
       "    <tr>\n",
       "      <th>1996-04-01</th>\n",
       "      <td>84616</td>\n",
       "      <td>60614</td>\n",
       "      <td>Chicago</td>\n",
       "      <td>IL</td>\n",
       "      <td>Chicago</td>\n",
       "      <td>Cook</td>\n",
       "      <td>4</td>\n",
       "      <td>498100.0</td>\n",
       "    </tr>\n",
       "    <tr>\n",
       "      <th>1996-04-01</th>\n",
       "      <td>93144</td>\n",
       "      <td>79936</td>\n",
       "      <td>El Paso</td>\n",
       "      <td>TX</td>\n",
       "      <td>El Paso</td>\n",
       "      <td>El Paso</td>\n",
       "      <td>5</td>\n",
       "      <td>77300.0</td>\n",
       "    </tr>\n",
       "  </tbody>\n",
       "</table>\n",
       "</div>"
      ],
      "text/plain": [
       "            RegionID RegionName      City State              Metro CountyName  \\\n",
       "time                                                                            \n",
       "1996-04-01     84654      60657   Chicago    IL            Chicago       Cook   \n",
       "1996-04-01     90668      75070  McKinney    TX  Dallas-Fort Worth     Collin   \n",
       "1996-04-01     91982      77494      Katy    TX            Houston     Harris   \n",
       "1996-04-01     84616      60614   Chicago    IL            Chicago       Cook   \n",
       "1996-04-01     93144      79936   El Paso    TX            El Paso    El Paso   \n",
       "\n",
       "            SizeRank     value  \n",
       "time                            \n",
       "1996-04-01         1  334200.0  \n",
       "1996-04-01         2  235700.0  \n",
       "1996-04-01         3  210400.0  \n",
       "1996-04-01         4  498100.0  \n",
       "1996-04-01         5   77300.0  "
      ]
     },
     "execution_count": 4,
     "metadata": {},
     "output_type": "execute_result"
    }
   ],
   "source": [
    "data_long = hf.melt_data_v2(data_wide)\n",
    "data_long['time'] = pd.to_datetime(data_long['time'], format='%Y-%m-%d')\n",
    "data_long['RegionName'] = data_long['RegionName'].astype('str')\n",
    "\n",
    "data_long.set_index(keys='time', inplace=True)\n",
    "data_long.head()"
   ]
  },
  {
   "cell_type": "markdown",
   "metadata": {},
   "source": [
    "## Filter for the desired area within Florida\n",
    "\n",
    "In this project, we will be looing at zip codes in Florida, specifically areas near Orlando"
   ]
  },
  {
   "cell_type": "code",
   "execution_count": 5,
   "metadata": {},
   "outputs": [
    {
     "name": "stdout",
     "output_type": "stream",
     "text": [
      "<class 'pandas.core.frame.DataFrame'>\n",
      "DatetimeIndex: 205265 entries, 1996-04-01 to 2018-04-01\n",
      "Data columns (total 8 columns):\n",
      "RegionID      205265 non-null int64\n",
      "RegionName    205265 non-null object\n",
      "City          205265 non-null object\n",
      "State         205265 non-null object\n",
      "Metro         198110 non-null object\n",
      "CountyName    205265 non-null object\n",
      "SizeRank      205265 non-null int64\n",
      "value         205265 non-null float64\n",
      "dtypes: float64(1), int64(2), object(5)\n",
      "memory usage: 14.1+ MB\n"
     ]
    }
   ],
   "source": [
    "#separate out areas within the state of Florida\n",
    "df_fl = data_long.loc[data_long.State=='FL']\n",
    "df_fl.info()"
   ]
  },
  {
   "cell_type": "code",
   "execution_count": 6,
   "metadata": {},
   "outputs": [
    {
     "data": {
      "text/plain": [
       "RegionID         0\n",
       "RegionName       0\n",
       "City             0\n",
       "State            0\n",
       "Metro         7155\n",
       "CountyName       0\n",
       "SizeRank         0\n",
       "value            0\n",
       "dtype: int64"
      ]
     },
     "execution_count": 6,
     "metadata": {},
     "output_type": "execute_result"
    }
   ],
   "source": [
    "df_fl.isna().sum()"
   ]
  },
  {
   "cell_type": "markdown",
   "metadata": {},
   "source": [
    "Since the Metro area has a large amount of information that is missing, this column will not be used, although it is a good label of where homes are located related to nearest cities.  \n",
    "\n",
    "We will use county inplace of metro area to identify the housing areas.\n",
    "\n",
    "The benefit of using county as well is that there is not a great difference the unique counties and metro-areas within the state of Florida"
   ]
  },
  {
   "cell_type": "code",
   "execution_count": 7,
   "metadata": {},
   "outputs": [
    {
     "name": "stdout",
     "output_type": "stream",
     "text": [
      "Number of unique Metro areas in FL: 28\n",
      "Number of unique counties in FL: 57\n",
      "Number of unique cities in FL: 401\n"
     ]
    }
   ],
   "source": [
    "print(f\"Number of unique Metro areas in FL: {df_fl.Metro.nunique()}\" + \n",
    "        f\"\\nNumber of unique counties in FL: {df_fl.CountyName.nunique()}\" + \n",
    "     f\"\\nNumber of unique cities in FL: {df_fl.City.nunique()}\")"
   ]
  },
  {
   "cell_type": "code",
   "execution_count": 8,
   "metadata": {},
   "outputs": [
    {
     "name": "stdout",
     "output_type": "stream",
     "text": [
      "<class 'pandas.core.frame.DataFrame'>\n",
      "DatetimeIndex: 205265 entries, 1996-04-01 to 2018-04-01\n",
      "Data columns (total 8 columns):\n",
      "RegionID      205265 non-null int64\n",
      "RegionName    205265 non-null object\n",
      "City          205265 non-null object\n",
      "State         205265 non-null object\n",
      "Metro         198110 non-null object\n",
      "CountyName    205265 non-null object\n",
      "SizeRank      205265 non-null int64\n",
      "value         205265 non-null float64\n",
      "dtypes: float64(1), int64(2), object(5)\n",
      "memory usage: 14.1+ MB\n"
     ]
    },
    {
     "data": {
      "text/html": [
       "<div>\n",
       "<style scoped>\n",
       "    .dataframe tbody tr th:only-of-type {\n",
       "        vertical-align: middle;\n",
       "    }\n",
       "\n",
       "    .dataframe tbody tr th {\n",
       "        vertical-align: top;\n",
       "    }\n",
       "\n",
       "    .dataframe thead th {\n",
       "        text-align: right;\n",
       "    }\n",
       "</style>\n",
       "<table border=\"1\" class=\"dataframe\">\n",
       "  <thead>\n",
       "    <tr style=\"text-align: right;\">\n",
       "      <th></th>\n",
       "      <th>RegionID</th>\n",
       "      <th>RegionName</th>\n",
       "      <th>City</th>\n",
       "      <th>State</th>\n",
       "      <th>Metro</th>\n",
       "      <th>CountyName</th>\n",
       "      <th>SizeRank</th>\n",
       "      <th>value</th>\n",
       "    </tr>\n",
       "    <tr>\n",
       "      <th>time</th>\n",
       "      <th></th>\n",
       "      <th></th>\n",
       "      <th></th>\n",
       "      <th></th>\n",
       "      <th></th>\n",
       "      <th></th>\n",
       "      <th></th>\n",
       "      <th></th>\n",
       "    </tr>\n",
       "  </thead>\n",
       "  <tbody>\n",
       "    <tr>\n",
       "      <th>1996-04-01</th>\n",
       "      <td>71831</td>\n",
       "      <td>32162</td>\n",
       "      <td>The Villages</td>\n",
       "      <td>FL</td>\n",
       "      <td>The Villages</td>\n",
       "      <td>Sumter</td>\n",
       "      <td>12</td>\n",
       "      <td>101000.0</td>\n",
       "    </tr>\n",
       "    <tr>\n",
       "      <th>1996-04-01</th>\n",
       "      <td>72463</td>\n",
       "      <td>33160</td>\n",
       "      <td>Sunny Isles Beach</td>\n",
       "      <td>FL</td>\n",
       "      <td>Miami-Fort Lauderdale</td>\n",
       "      <td>Miami-Dade</td>\n",
       "      <td>61</td>\n",
       "      <td>337300.0</td>\n",
       "    </tr>\n",
       "    <tr>\n",
       "      <th>1996-04-01</th>\n",
       "      <td>72363</td>\n",
       "      <td>33025</td>\n",
       "      <td>Miramar</td>\n",
       "      <td>FL</td>\n",
       "      <td>Miami-Fort Lauderdale</td>\n",
       "      <td>Broward</td>\n",
       "      <td>83</td>\n",
       "      <td>111600.0</td>\n",
       "    </tr>\n",
       "    <tr>\n",
       "      <th>1996-04-01</th>\n",
       "      <td>72578</td>\n",
       "      <td>33411</td>\n",
       "      <td>Royal Palm Beach</td>\n",
       "      <td>FL</td>\n",
       "      <td>Miami-Fort Lauderdale</td>\n",
       "      <td>Palm Beach</td>\n",
       "      <td>84</td>\n",
       "      <td>126800.0</td>\n",
       "    </tr>\n",
       "    <tr>\n",
       "      <th>1996-04-01</th>\n",
       "      <td>72442</td>\n",
       "      <td>33139</td>\n",
       "      <td>Miami Beach</td>\n",
       "      <td>FL</td>\n",
       "      <td>Miami-Fort Lauderdale</td>\n",
       "      <td>Miami-Dade</td>\n",
       "      <td>85</td>\n",
       "      <td>480200.0</td>\n",
       "    </tr>\n",
       "  </tbody>\n",
       "</table>\n",
       "</div>"
      ],
      "text/plain": [
       "            RegionID RegionName               City State  \\\n",
       "time                                                       \n",
       "1996-04-01     71831      32162       The Villages    FL   \n",
       "1996-04-01     72463      33160  Sunny Isles Beach    FL   \n",
       "1996-04-01     72363      33025            Miramar    FL   \n",
       "1996-04-01     72578      33411   Royal Palm Beach    FL   \n",
       "1996-04-01     72442      33139        Miami Beach    FL   \n",
       "\n",
       "                            Metro  CountyName  SizeRank     value  \n",
       "time                                                               \n",
       "1996-04-01           The Villages      Sumter        12  101000.0  \n",
       "1996-04-01  Miami-Fort Lauderdale  Miami-Dade        61  337300.0  \n",
       "1996-04-01  Miami-Fort Lauderdale     Broward        83  111600.0  \n",
       "1996-04-01  Miami-Fort Lauderdale  Palm Beach        84  126800.0  \n",
       "1996-04-01  Miami-Fort Lauderdale  Miami-Dade        85  480200.0  "
      ]
     },
     "execution_count": 8,
     "metadata": {},
     "output_type": "execute_result"
    }
   ],
   "source": [
    "df_fl.info()\n",
    "df_fl.head()"
   ]
  },
  {
   "cell_type": "markdown",
   "metadata": {},
   "source": [
    "# Step 2: Data Preprocessing"
   ]
  },
  {
   "cell_type": "markdown",
   "metadata": {},
   "source": [
    "# Step 3: EDA and Visualization"
   ]
  },
  {
   "cell_type": "code",
   "execution_count": 9,
   "metadata": {},
   "outputs": [],
   "source": [
    "from matplotlib import rc\n",
    "\n",
    "font = {'family' : 'normal',\n",
    "        'weight' : 'bold',\n",
    "        'size'   : 12}\n",
    "\n",
    "rc('font', **font)\n",
    "\n",
    "# NOTE: if you visualizations are too cluttered to read, try calling 'plt.gcf().autofmt_xdate()'!"
   ]
  },
  {
   "cell_type": "code",
   "execution_count": 11,
   "metadata": {},
   "outputs": [
    {
     "data": {
      "text/html": [
       "<div>\n",
       "<style scoped>\n",
       "    .dataframe tbody tr th:only-of-type {\n",
       "        vertical-align: middle;\n",
       "    }\n",
       "\n",
       "    .dataframe tbody tr th {\n",
       "        vertical-align: top;\n",
       "    }\n",
       "\n",
       "    .dataframe thead th {\n",
       "        text-align: right;\n",
       "    }\n",
       "</style>\n",
       "<table border=\"1\" class=\"dataframe\">\n",
       "  <thead>\n",
       "    <tr style=\"text-align: right;\">\n",
       "      <th></th>\n",
       "      <th>RegionID</th>\n",
       "      <th>RegionName</th>\n",
       "      <th>City</th>\n",
       "      <th>State</th>\n",
       "      <th>Metro</th>\n",
       "      <th>CountyName</th>\n",
       "      <th>SizeRank</th>\n",
       "      <th>value</th>\n",
       "    </tr>\n",
       "    <tr>\n",
       "      <th>time</th>\n",
       "      <th></th>\n",
       "      <th></th>\n",
       "      <th></th>\n",
       "      <th></th>\n",
       "      <th></th>\n",
       "      <th></th>\n",
       "      <th></th>\n",
       "      <th></th>\n",
       "    </tr>\n",
       "  </thead>\n",
       "  <tbody>\n",
       "    <tr>\n",
       "      <th>1996-04-01</th>\n",
       "      <td>71831</td>\n",
       "      <td>32162</td>\n",
       "      <td>The Villages</td>\n",
       "      <td>FL</td>\n",
       "      <td>The Villages</td>\n",
       "      <td>Sumter</td>\n",
       "      <td>12</td>\n",
       "      <td>101000.0</td>\n",
       "    </tr>\n",
       "    <tr>\n",
       "      <th>1996-04-01</th>\n",
       "      <td>72463</td>\n",
       "      <td>33160</td>\n",
       "      <td>Sunny Isles Beach</td>\n",
       "      <td>FL</td>\n",
       "      <td>Miami-Fort Lauderdale</td>\n",
       "      <td>Miami-Dade</td>\n",
       "      <td>61</td>\n",
       "      <td>337300.0</td>\n",
       "    </tr>\n",
       "    <tr>\n",
       "      <th>1996-04-01</th>\n",
       "      <td>72363</td>\n",
       "      <td>33025</td>\n",
       "      <td>Miramar</td>\n",
       "      <td>FL</td>\n",
       "      <td>Miami-Fort Lauderdale</td>\n",
       "      <td>Broward</td>\n",
       "      <td>83</td>\n",
       "      <td>111600.0</td>\n",
       "    </tr>\n",
       "    <tr>\n",
       "      <th>1996-04-01</th>\n",
       "      <td>72578</td>\n",
       "      <td>33411</td>\n",
       "      <td>Royal Palm Beach</td>\n",
       "      <td>FL</td>\n",
       "      <td>Miami-Fort Lauderdale</td>\n",
       "      <td>Palm Beach</td>\n",
       "      <td>84</td>\n",
       "      <td>126800.0</td>\n",
       "    </tr>\n",
       "    <tr>\n",
       "      <th>1996-04-01</th>\n",
       "      <td>72442</td>\n",
       "      <td>33139</td>\n",
       "      <td>Miami Beach</td>\n",
       "      <td>FL</td>\n",
       "      <td>Miami-Fort Lauderdale</td>\n",
       "      <td>Miami-Dade</td>\n",
       "      <td>85</td>\n",
       "      <td>480200.0</td>\n",
       "    </tr>\n",
       "  </tbody>\n",
       "</table>\n",
       "</div>"
      ],
      "text/plain": [
       "            RegionID RegionName               City State  \\\n",
       "time                                                       \n",
       "1996-04-01     71831      32162       The Villages    FL   \n",
       "1996-04-01     72463      33160  Sunny Isles Beach    FL   \n",
       "1996-04-01     72363      33025            Miramar    FL   \n",
       "1996-04-01     72578      33411   Royal Palm Beach    FL   \n",
       "1996-04-01     72442      33139        Miami Beach    FL   \n",
       "\n",
       "                            Metro  CountyName  SizeRank     value  \n",
       "time                                                               \n",
       "1996-04-01           The Villages      Sumter        12  101000.0  \n",
       "1996-04-01  Miami-Fort Lauderdale  Miami-Dade        61  337300.0  \n",
       "1996-04-01  Miami-Fort Lauderdale     Broward        83  111600.0  \n",
       "1996-04-01  Miami-Fort Lauderdale  Palm Beach        84  126800.0  \n",
       "1996-04-01  Miami-Fort Lauderdale  Miami-Dade        85  480200.0  "
      ]
     },
     "execution_count": 11,
     "metadata": {},
     "output_type": "execute_result"
    }
   ],
   "source": [
    "df_fl.head()"
   ]
  },
  {
   "cell_type": "code",
   "execution_count": 12,
   "metadata": {},
   "outputs": [
    {
     "data": {
      "text/plain": [
       "<matplotlib.axes._subplots.AxesSubplot at 0x2688e7a3f60>"
      ]
     },
     "execution_count": 12,
     "metadata": {},
     "output_type": "execute_result"
    },
    {
     "name": "stderr",
     "output_type": "stream",
     "text": [
      "C:\\Users\\Rahkeem\\Anaconda3\\envs\\learn-env\\lib\\site-packages\\matplotlib\\font_manager.py:1241: UserWarning: findfont: Font family ['normal'] not found. Falling back to DejaVu Sans.\n",
      "  (prop.get_family(), self.defaultFamily[fontext]))\n",
      "C:\\Users\\Rahkeem\\Anaconda3\\envs\\learn-env\\lib\\site-packages\\matplotlib\\font_manager.py:1241: UserWarning: findfont: Font family ['normal'] not found. Falling back to DejaVu Sans.\n",
      "  (prop.get_family(), self.defaultFamily[fontext]))\n"
     ]
    },
    {
     "data": {
      "image/png": "[encoded data removed]",
      "text/plain": [
       "<Figure size 1080x360 with 1 Axes>"
      ]
     },
     "metadata": {
      "needs_background": "light"
     },
     "output_type": "display_data"
    }
   ],
   "source": [
    "# Florida monthly means ovre the years\n",
    "florida_monthly = df_fl.groupby(pd.Grouper(freq='MS'))\n",
    "florida_monthly.value.mean().plot(figsize=(15,5))"
   ]
  },
  {
   "cell_type": "code",
   "execution_count": 13,
   "metadata": {},
   "outputs": [],
   "source": [
    "# Separate out the areas that are part of Central Florida\n",
    "central_florida = ['Levy', 'Marion', 'Volusia', 'Citrus', 'Sumter',\n",
    "                           'Lake', 'Seminole', 'Hernando', 'Orange', 'Brevard', 'Pasco',\n",
    "                           'Pinellas', 'Hillsborough', 'Polk', ' Osceola', 'Indian River']"
   ]
  },
  {
   "cell_type": "code",
   "execution_count": 14,
   "metadata": {
    "scrolled": false
   },
   "outputs": [
    {
     "data": {
      "image/png": "[encoded data removed]",
      "text/plain": [
       "<Figure size 1296x504 with 1 Axes>"
      ]
     },
     "metadata": {
      "needs_background": "light"
     },
     "output_type": "display_data"
    }
   ],
   "source": [
    "#Plot the means for each county in Central Florida\n",
    "plt.figure(figsize=(18,7))\n",
    "\n",
    "for county in central_florida:    \n",
    "    county_df = df_fl.loc[(df_fl.CountyName==county), ['value']].resample('MS').mean()\n",
    "    plt.plot(county_df, label=county)\n",
    "plt.legend()\n",
    "plt.show()\n",
    "\n",
    "# df_fl_2011.loc[(df_fl_2011.CountyName=='Orange'), ['value']].resample('MS').mean()"
   ]
  },
  {
   "cell_type": "markdown",
   "metadata": {},
   "source": [
    "Overall, Central FLorida's counties resemble the entire state of Florida.  Each of these counties were affected by the housing market crash, but some were affected more than others."
   ]
  },
  {
   "cell_type": "markdown",
   "metadata": {},
   "source": [
    "Based on our graph below, there appears to be some seasonality that is occurring within the housing market for orange county as time passes by.\n",
    "\n",
    "TO create our model, we will look at the average of Central Florida's mean prices by month. "
   ]
  },
  {
   "cell_type": "code",
   "execution_count": 16,
   "metadata": {},
   "outputs": [],
   "source": [
    "central_fl = df_fl.loc[(df_fl.CountyName.isin(central_florida)), ['value']].resample('MS').mean()"
   ]
  },
  {
   "cell_type": "code",
   "execution_count": 17,
   "metadata": {
    "scrolled": false
   },
   "outputs": [
    {
     "name": "stderr",
     "output_type": "stream",
     "text": [
      "C:\\Users\\Rahkeem\\Anaconda3\\envs\\learn-env\\lib\\site-packages\\statsmodels\\regression\\linear_model.py:1283: RuntimeWarning: invalid value encountered in sqrt\n",
      "  return rho, np.sqrt(sigmasq)\n",
      "C:\\Users\\Rahkeem\\Anaconda3\\envs\\learn-env\\lib\\site-packages\\matplotlib\\font_manager.py:1241: UserWarning: findfont: Font family ['normal'] not found. Falling back to DejaVu Sans.\n",
      "  (prop.get_family(), self.defaultFamily[fontext]))\n"
     ]
    },
    {
     "data": {
      "image/png": "[encoded data removed]",
      "text/plain": [
       "<Figure size 432x288 with 1 Axes>"
      ]
     },
     "metadata": {
      "needs_background": "light"
     },
     "output_type": "display_data"
    },
    {
     "data": {
      "image/png": "[encoded data removed]",
      "text/plain": [
       "<Figure size 864x360 with 1 Axes>"
      ]
     },
     "metadata": {
      "needs_background": "light"
     },
     "output_type": "display_data"
    },
    {
     "data": {
      "image/png": "[encoded data removed]",
      "text/plain": [
       "<Figure size 864x360 with 1 Axes>"
      ]
     },
     "metadata": {
      "needs_background": "light"
     },
     "output_type": "display_data"
    }
   ],
   "source": [
    "## Looking at difference by year\n",
    "# Look at the distribution of the diffs and look at the one with the smallest standard deviation\n",
    "\n",
    "plt.gcf().autofmt_xdate()\n",
    "\n",
    "central_fl_diff = central_fl.diff(periods=1)\n",
    "rcParams['figure.figsize'] = (12, 5)\n",
    "plt.plot(central_fl_diff)\n",
    "\n",
    "rcParams['figure.figsize'] = (12, 5)\n",
    "plot_acf(central_fl['value'], title='Orange County Auto Correlation');\n",
    "plot_pacf(central_fl['value'], title='Orange County Partial Auto Correlation');"
   ]
  },
  {
   "cell_type": "markdown",
   "metadata": {},
   "source": [
    "Based on what we see in our partial correlation plot, there is a high negative correlation somewhere between 220 - 245 lags.\n",
    "\n",
    "This high negative appears at lag = 180 months"
   ]
  },
  {
   "cell_type": "markdown",
   "metadata": {},
   "source": [
    "# Step 4: Reshape from Wide to Long Format"
   ]
  },
  {
   "cell_type": "code",
   "execution_count": 18,
   "metadata": {
    "scrolled": true
   },
   "outputs": [
    {
     "data": {
      "text/html": [
       "<div>\n",
       "<style scoped>\n",
       "    .dataframe tbody tr th:only-of-type {\n",
       "        vertical-align: middle;\n",
       "    }\n",
       "\n",
       "    .dataframe tbody tr th {\n",
       "        vertical-align: top;\n",
       "    }\n",
       "\n",
       "    .dataframe thead th {\n",
       "        text-align: right;\n",
       "    }\n",
       "</style>\n",
       "<table border=\"1\" class=\"dataframe\">\n",
       "  <thead>\n",
       "    <tr style=\"text-align: right;\">\n",
       "      <th></th>\n",
       "      <th>value</th>\n",
       "    </tr>\n",
       "    <tr>\n",
       "      <th>time</th>\n",
       "      <th></th>\n",
       "    </tr>\n",
       "  </thead>\n",
       "  <tbody>\n",
       "    <tr>\n",
       "      <th>1996-04-01</th>\n",
       "      <td>87852.076677</td>\n",
       "    </tr>\n",
       "    <tr>\n",
       "      <th>1996-05-01</th>\n",
       "      <td>87926.198083</td>\n",
       "    </tr>\n",
       "    <tr>\n",
       "      <th>1996-06-01</th>\n",
       "      <td>87991.693291</td>\n",
       "    </tr>\n",
       "    <tr>\n",
       "      <th>1996-07-01</th>\n",
       "      <td>88042.492013</td>\n",
       "    </tr>\n",
       "    <tr>\n",
       "      <th>1996-08-01</th>\n",
       "      <td>88106.389776</td>\n",
       "    </tr>\n",
       "  </tbody>\n",
       "</table>\n",
       "</div>"
      ],
      "text/plain": [
       "                   value\n",
       "time                    \n",
       "1996-04-01  87852.076677\n",
       "1996-05-01  87926.198083\n",
       "1996-06-01  87991.693291\n",
       "1996-07-01  88042.492013\n",
       "1996-08-01  88106.389776"
      ]
     },
     "execution_count": 18,
     "metadata": {},
     "output_type": "execute_result"
    }
   ],
   "source": [
    "central_fl.head()"
   ]
  },
  {
   "cell_type": "markdown",
   "metadata": {},
   "source": [
    "# Step 5: ARIMA Modeling"
   ]
  },
  {
   "cell_type": "markdown",
   "metadata": {},
   "source": [
    "Before getting into the ARIMA modeling, combinations for the model needs to be created.  \n",
    "Here, the parameters for all combinations of seasons are also added to our values for seasonal & non seasonal arima modeling."
   ]
  },
  {
   "cell_type": "code",
   "execution_count": 19,
   "metadata": {
    "scrolled": true
   },
   "outputs": [
    {
     "data": {
      "text/plain": [
       "[(0, 0, 0, 0),\n",
       " (0, 0, 1, 0),\n",
       " (0, 1, 0, 0),\n",
       " (0, 1, 1, 0),\n",
       " (1, 0, 0, 0),\n",
       " (1, 0, 1, 0),\n",
       " (1, 1, 0, 0),\n",
       " (1, 1, 1, 0),\n",
       " (0, 0, 0, 1),\n",
       " (0, 0, 1, 1),\n",
       " (0, 1, 0, 1),\n",
       " (0, 1, 1, 1),\n",
       " (1, 0, 0, 1),\n",
       " (1, 0, 1, 1),\n",
       " (1, 1, 0, 1),\n",
       " (1, 1, 1, 1),\n",
       " (0, 0, 0, 2),\n",
       " (0, 0, 1, 2),\n",
       " (0, 1, 0, 2),\n",
       " (0, 1, 1, 2),\n",
       " (1, 0, 0, 2),\n",
       " (1, 0, 1, 2),\n",
       " (1, 1, 0, 2),\n",
       " (1, 1, 1, 2),\n",
       " (0, 0, 0, 3),\n",
       " (0, 0, 1, 3),\n",
       " (0, 1, 0, 3),\n",
       " (0, 1, 1, 3),\n",
       " (1, 0, 0, 3),\n",
       " (1, 0, 1, 3),\n",
       " (1, 1, 0, 3),\n",
       " (1, 1, 1, 3),\n",
       " (0, 0, 0, 4),\n",
       " (0, 0, 1, 4),\n",
       " (0, 1, 0, 4),\n",
       " (0, 1, 1, 4),\n",
       " (1, 0, 0, 4),\n",
       " (1, 0, 1, 4),\n",
       " (1, 1, 0, 4),\n",
       " (1, 1, 1, 4),\n",
       " (0, 0, 0, 5),\n",
       " (0, 0, 1, 5),\n",
       " (0, 1, 0, 5),\n",
       " (0, 1, 1, 5),\n",
       " (1, 0, 0, 5),\n",
       " (1, 0, 1, 5),\n",
       " (1, 1, 0, 5),\n",
       " (1, 1, 1, 5),\n",
       " (0, 0, 0, 6),\n",
       " (0, 0, 1, 6),\n",
       " (0, 1, 0, 6),\n",
       " (0, 1, 1, 6),\n",
       " (1, 0, 0, 6),\n",
       " (1, 0, 1, 6),\n",
       " (1, 1, 0, 6),\n",
       " (1, 1, 1, 6),\n",
       " (0, 0, 0, 7),\n",
       " (0, 0, 1, 7),\n",
       " (0, 1, 0, 7),\n",
       " (0, 1, 1, 7),\n",
       " (1, 0, 0, 7),\n",
       " (1, 0, 1, 7),\n",
       " (1, 1, 0, 7),\n",
       " (1, 1, 1, 7),\n",
       " (0, 0, 0, 8),\n",
       " (0, 0, 1, 8),\n",
       " (0, 1, 0, 8),\n",
       " (0, 1, 1, 8),\n",
       " (1, 0, 0, 8),\n",
       " (1, 0, 1, 8),\n",
       " (1, 1, 0, 8),\n",
       " (1, 1, 1, 8),\n",
       " (0, 0, 0, 9),\n",
       " (0, 0, 1, 9),\n",
       " (0, 1, 0, 9),\n",
       " (0, 1, 1, 9),\n",
       " (1, 0, 0, 9),\n",
       " (1, 0, 1, 9),\n",
       " (1, 1, 0, 9),\n",
       " (1, 1, 1, 9),\n",
       " (0, 0, 0, 10),\n",
       " (0, 0, 1, 10),\n",
       " (0, 1, 0, 10),\n",
       " (0, 1, 1, 10),\n",
       " (1, 0, 0, 10),\n",
       " (1, 0, 1, 10),\n",
       " (1, 1, 0, 10),\n",
       " (1, 1, 1, 10),\n",
       " (0, 0, 0, 11),\n",
       " (0, 0, 1, 11),\n",
       " (0, 1, 0, 11),\n",
       " (0, 1, 1, 11),\n",
       " (1, 0, 0, 11),\n",
       " (1, 0, 1, 11),\n",
       " (1, 1, 0, 11),\n",
       " (1, 1, 1, 11),\n",
       " (0, 0, 0, 12),\n",
       " (0, 0, 1, 12),\n",
       " (0, 1, 0, 12),\n",
       " (0, 1, 1, 12),\n",
       " (1, 0, 0, 12),\n",
       " (1, 0, 1, 12),\n",
       " (1, 1, 0, 12),\n",
       " (1, 1, 1, 12)]"
      ]
     },
     "execution_count": 19,
     "metadata": {},
     "output_type": "execute_result"
    }
   ],
   "source": [
    "p = d = q = range(0, 2)\n",
    "\n",
    "# Generate all different combinations of p, q and q triplets\n",
    "pdq = list(itertools.product(p, d, q))\n",
    "\n",
    "# Generate all different combinations of seasonal p, q and q triplets\n",
    "# pdqs = [(x[0], x[1], x[2], 12) for x in list(itertools.product(p, d, q))]\n",
    "\n",
    "# Generate combinations of SARIMA modeling with different seasonalities\n",
    "pdqs = []    \n",
    "for i in range(0,13):\n",
    "    for x in pdq:\n",
    "        pdqs.append((x[0], x[1], x[2], i))\n",
    "\n",
    "pdqs"
   ]
  },
  {
   "cell_type": "code",
   "execution_count": 20,
   "metadata": {
    "scrolled": true
   },
   "outputs": [
    {
     "name": "stderr",
     "output_type": "stream",
     "text": [
      "C:\\Users\\Rahkeem\\Anaconda3\\envs\\learn-env\\lib\\site-packages\\statsmodels\\tsa\\statespace\\representation.py:375: FutureWarning: Using a non-tuple sequence for multidimensional indexing is deprecated; use `arr[tuple(seq)]` instead of `arr[seq]`. In the future this will be interpreted as an array index, `arr[np.array(seq)]`, which will result either in an error or a different result.\n",
      "  return matrix[[slice(None)]*(matrix.ndim-1) + [0]]\n"
     ]
    },
    {
     "name": "stdout",
     "output_type": "stream",
     "text": [
      "ARIMA (0, 0, 0) x (0, 0, 0, 0) : AIC Calculated =7090.036087884773, BIC Calculated =7093.61203698792\n",
      "ARIMA (0, 0, 0) x (0, 0, 1, 0) : AIC Calculated =6872.806440442, BIC Calculated =6879.950748506356\n",
      "ARIMA (0, 0, 0) x (1, 0, 0, 0) : AIC Calculated =4713.930258225683, BIC Calculated =4721.082156431976\n",
      "ARIMA (0, 0, 0) x (1, 0, 1, 0) : AIC Calculated =4352.49323085384, BIC Calculated =4363.209692950373\n",
      "ARIMA (0, 0, 0) x (0, 0, 0, 1) : AIC Calculated =7090.036087884773, BIC Calculated =7093.61203698792\n",
      "ARIMA (0, 0, 0) x (0, 0, 1, 1) : AIC Calculated =6872.806440442, BIC Calculated =6879.950748506356\n",
      "ARIMA (0, 0, 0) x (0, 1, 0, 1) : AIC Calculated =4714.914363638998, BIC Calculated =4718.4865176711755\n",
      "ARIMA (0, 0, 0) x (0, 1, 1, 1) : AIC Calculated =4353.738444144726, BIC Calculated =4360.875133152248\n",
      "ARIMA (0, 0, 0) x (1, 0, 0, 1) : AIC Calculated =4713.930258225683, BIC Calculated =4721.082156431976\n",
      "ARIMA (0, 0, 0) x (1, 0, 1, 1) : AIC Calculated =4352.49323085384, BIC Calculated =4363.209692950373\n",
      "ARIMA (0, 0, 0) x (1, 1, 0, 1) : AIC Calculated =3638.4991625539355, BIC Calculated =3645.6434706182913\n",
      "ARIMA (0, 0, 0) x (1, 1, 1, 1) : AIC Calculated =3571.260462037554, BIC Calculated =3581.965495548837\n",
      "ARIMA (0, 0, 0) x (0, 0, 0, 2) : AIC Calculated =7090.036087884773, BIC Calculated =7093.61203698792\n",
      "ARIMA (0, 0, 0) x (0, 0, 1, 2) : AIC Calculated =6849.867841615116, BIC Calculated =6857.004530622638\n",
      "ARIMA (0, 0, 0) x (0, 1, 0, 2) : AIC Calculated =5059.334394665673, BIC Calculated =5062.902739169434\n",
      "ARIMA (0, 0, 0) x (0, 1, 1, 2) : AIC Calculated =4960.339394537808, BIC Calculated =4967.4607577998395\n",
      "ARIMA (0, 0, 0) x (1, 0, 0, 2) : AIC Calculated =5060.874224251618, BIC Calculated =5068.018532315974\n",
      "ARIMA (0, 0, 0) x (1, 0, 1, 2) : AIC Calculated =4985.428541796505, BIC Calculated =4996.133575307788\n",
      "ARIMA (0, 0, 0) x (1, 1, 0, 2) : AIC Calculated =4198.61930425191, BIC Calculated =4205.748345066555\n",
      "ARIMA (0, 0, 0) x (1, 1, 1, 2) : AIC Calculated =4171.204263321459, BIC Calculated =4181.886308214505\n",
      "ARIMA (0, 0, 0) x (0, 0, 0, 3) : AIC Calculated =7090.036087884773, BIC Calculated =7093.61203698792\n",
      "ARIMA (0, 0, 0) x (0, 0, 1, 3) : AIC Calculated =32825.36688741643, BIC Calculated =32832.495928231074\n",
      "ARIMA (0, 0, 0) x (0, 1, 0, 3) : AIC Calculated =5250.3989274380965, BIC Calculated =5253.963447845419\n",
      "ARIMA (0, 0, 0) x (0, 1, 1, 3) : AIC Calculated =5158.091234153169, BIC Calculated =5165.197153323013\n",
      "ARIMA (0, 0, 0) x (1, 0, 0, 3) : AIC Calculated =5253.886183880635, BIC Calculated =5261.0228728881575\n",
      "ARIMA (0, 0, 0) x (1, 0, 1, 3) : AIC Calculated =5178.985790579827, BIC Calculated =5189.679351801795\n",
      "ARIMA (0, 0, 0) x (1, 1, 0, 3) : AIC Calculated =4516.274974580321, BIC Calculated =4523.38863070372\n",
      "ARIMA (0, 0, 0) x (1, 1, 1, 3) : AIC Calculated =4491.130146481251, BIC Calculated =4501.789025236017\n",
      "ARIMA (0, 0, 0) x (0, 0, 0, 4) : AIC Calculated =7090.036087884773, BIC Calculated =7093.61203698792\n",
      "ARIMA (0, 0, 0) x (0, 0, 1, 4) : AIC Calculated =40693.67663012947, BIC Calculated =40700.7979933915\n",
      "ARIMA (0, 0, 0) x (0, 1, 0, 4) : AIC Calculated =5378.781268964611, BIC Calculated =5382.341950595626\n",
      "ARIMA (0, 0, 0) x (0, 1, 1, 4) : AIC Calculated =5277.160979541337, BIC Calculated =5284.251334430296\n",
      "ARIMA (0, 0, 0) x (1, 0, 0, 4) : AIC Calculated =5383.86798370265, BIC Calculated =5390.997024517295\n",
      "ARIMA (0, 0, 0) x (1, 0, 1, 4) : AIC Calculated =5306.310311502026, BIC Calculated =5316.992356395072\n",
      "ARIMA (0, 0, 0) x (1, 1, 0, 4) : AIC Calculated =4733.845465798511, BIC Calculated =4740.943617968302\n"
     ]
    },
    {
     "name": "stderr",
     "output_type": "stream",
     "text": [
      "C:\\Users\\Rahkeem\\Anaconda3\\envs\\learn-env\\lib\\site-packages\\statsmodels\\base\\model.py:508: ConvergenceWarning: Maximum Likelihood optimization failed to converge. Check mle_retvals\n",
      "  \"Check mle_retvals\", ConvergenceWarning)\n"
     ]
    },
    {
     "name": "stdout",
     "output_type": "stream",
     "text": [
      "ARIMA (0, 0, 0) x (1, 1, 1, 4) : AIC Calculated =4722.810587546359, BIC Calculated =4733.446119879797\n",
      "ARIMA (0, 0, 0) x (0, 0, 0, 5) : AIC Calculated =7090.036087884773, BIC Calculated =7093.61203698792\n",
      "ARIMA (0, 0, 0) x (0, 0, 1, 5) : AIC Calculated =6779.8298083958425, BIC Calculated =6786.943464519241\n",
      "ARIMA (0, 0, 0) x (0, 1, 0, 5) : AIC Calculated =5472.692440906639, BIC Calculated =5476.249268968339\n"
     ]
    },
    {
     "name": "stderr",
     "output_type": "stream",
     "text": [
      "C:\\Users\\Rahkeem\\Anaconda3\\envs\\learn-env\\lib\\site-packages\\statsmodels\\base\\model.py:508: ConvergenceWarning: Maximum Likelihood optimization failed to converge. Check mle_retvals\n",
      "  \"Check mle_retvals\", ConvergenceWarning)\n"
     ]
    },
    {
     "name": "stdout",
     "output_type": "stream",
     "text": [
      "ARIMA (0, 0, 0) x (0, 1, 1, 5) : AIC Calculated =5356.461670480157, BIC Calculated =5363.536339014195\n",
      "ARIMA (0, 0, 0) x (1, 0, 0, 5) : AIC Calculated =5479.139914156663, BIC Calculated =5486.261277418694\n",
      "ARIMA (0, 0, 0) x (1, 0, 1, 5) : AIC Calculated =5398.907144557856, BIC Calculated =5409.577628742954\n",
      "ARIMA (0, 0, 0) x (1, 1, 0, 5) : AIC Calculated =4890.656847530968, BIC Calculated =4897.739374621285\n",
      "ARIMA (0, 0, 0) x (1, 1, 1, 5) : AIC Calculated =4865.997100322535, BIC Calculated =4876.60910312359\n",
      "ARIMA (0, 0, 0) x (0, 0, 0, 6) : AIC Calculated =7090.036087884773, BIC Calculated =7093.61203698792\n",
      "ARIMA (0, 0, 0) x (0, 0, 1, 6) : AIC Calculated =56391.6788287698, BIC Calculated =56398.784747939644\n",
      "ARIMA (0, 0, 0) x (0, 1, 0, 6) : AIC Calculated =5544.558494753708, BIC Calculated =5548.11145433863\n"
     ]
    },
    {
     "name": "stderr",
     "output_type": "stream",
     "text": [
      "C:\\Users\\Rahkeem\\Anaconda3\\envs\\learn-env\\lib\\site-packages\\statsmodels\\base\\model.py:508: ConvergenceWarning: Maximum Likelihood optimization failed to converge. Check mle_retvals\n",
      "  \"Check mle_retvals\", ConvergenceWarning)\n"
     ]
    },
    {
     "name": "stdout",
     "output_type": "stream",
     "text": [
      "ARIMA (0, 0, 0) x (0, 1, 1, 6) : AIC Calculated =5413.180039954949, BIC Calculated =5420.238898129972\n",
      "ARIMA (0, 0, 0) x (1, 0, 0, 6) : AIC Calculated =5552.218798540664, BIC Calculated =5559.332454664062\n",
      "ARIMA (0, 0, 0) x (1, 0, 1, 6) : AIC Calculated =5469.66763370335, BIC Calculated =5480.326512458115\n",
      "ARIMA (0, 0, 0) x (1, 1, 0, 6) : AIC Calculated =5008.105185998018, BIC Calculated =5015.171964975473\n",
      "ARIMA (0, 0, 0) x (1, 1, 1, 6) : AIC Calculated =4982.009137874149, BIC Calculated =4992.597425136683\n",
      "ARIMA (0, 0, 0) x (0, 0, 0, 7) : AIC Calculated =7090.036087884773, BIC Calculated =7093.61203698792\n",
      "ARIMA (0, 0, 0) x (0, 0, 1, 7) : AIC Calculated =64248.78578734947, BIC Calculated =64255.88393951926\n",
      "ARIMA (0, 0, 0) x (0, 1, 0, 7) : AIC Calculated =5601.138482685596, BIC Calculated =5604.687558770491\n"
     ]
    },
    {
     "name": "stderr",
     "output_type": "stream",
     "text": [
      "C:\\Users\\Rahkeem\\Anaconda3\\envs\\learn-env\\lib\\site-packages\\statsmodels\\base\\model.py:508: ConvergenceWarning: Maximum Likelihood optimization failed to converge. Check mle_retvals\n",
      "  \"Check mle_retvals\", ConvergenceWarning)\n"
     ]
    },
    {
     "name": "stdout",
     "output_type": "stream",
     "text": [
      "ARIMA (0, 0, 0) x (0, 1, 1, 7) : AIC Calculated =5450.291987079256, BIC Calculated =5457.334908914981\n",
      "ARIMA (0, 0, 0) x (1, 0, 0, 7) : AIC Calculated =5609.901484775457, BIC Calculated =5617.0074039453\n",
      "ARIMA (0, 0, 0) x (1, 0, 1, 7) : AIC Calculated =5525.464209588703, BIC Calculated =5536.111437843389\n",
      "ARIMA (0, 0, 0) x (1, 1, 0, 7) : AIC Calculated =5100.179237145479, BIC Calculated =5107.230143023743\n",
      "ARIMA (0, 0, 0) x (1, 1, 1, 7) : AIC Calculated =5074.094915524267, BIC Calculated =5084.659298277854\n",
      "ARIMA (0, 0, 0) x (0, 0, 0, 8) : AIC Calculated =7090.036087884773, BIC Calculated =7093.61203698792\n",
      "ARIMA (0, 0, 0) x (0, 0, 1, 8) : AIC Calculated =72134.95684802921, BIC Calculated =72142.04720291817\n",
      "ARIMA (0, 0, 0) x (0, 1, 0, 8) : AIC Calculated =5646.484640949277, BIC Calculated =5650.029818393756\n",
      "ARIMA (0, 0, 0) x (0, 1, 1, 8) : AIC Calculated =5478.381310647997, BIC Calculated =5485.408168140328\n",
      "ARIMA (0, 0, 0) x (1, 0, 0, 8) : AIC Calculated =5656.261289193389, BIC Calculated =5663.359441363179\n",
      "ARIMA (0, 0, 0) x (1, 0, 1, 8) : AIC Calculated =5571.203205020436, BIC Calculated =5581.838737353874\n",
      "ARIMA (0, 0, 0) x (1, 1, 0, 8) : AIC Calculated =5173.584694915922, BIC Calculated =5180.619600708852\n",
      "ARIMA (0, 0, 0) x (1, 1, 1, 8) : AIC Calculated =5136.63202017634, BIC Calculated =5147.1723064148355\n",
      "ARIMA (0, 0, 0) x (0, 0, 0, 9) : AIC Calculated =7090.036087884773, BIC Calculated =7093.61203698792\n",
      "ARIMA (0, 0, 0) x (0, 0, 1, 9) : AIC Calculated =6684.878224621182, BIC Calculated =6691.960751711499\n",
      "ARIMA (0, 0, 0) x (0, 1, 0, 9) : AIC Calculated =5683.175565435196, BIC Calculated =5686.716828980355\n",
      "ARIMA (0, 0, 0) x (0, 1, 1, 9) : AIC Calculated =5492.13578225345, BIC Calculated =5499.146445325315\n",
      "ARIMA (0, 0, 0) x (1, 0, 0, 9) : AIC Calculated =5693.896350431749, BIC Calculated =5700.986705320708\n",
      "ARIMA (0, 0, 0) x (1, 0, 1, 9) : AIC Calculated =5609.080897927541, BIC Calculated =5619.704688563016\n",
      "ARIMA (0, 0, 0) x (1, 1, 0, 9) : AIC Calculated =5231.96002096552, BIC Calculated =5238.978797638776\n",
      "ARIMA (0, 0, 0) x (1, 1, 1, 9) : AIC Calculated =6769.515625139171, BIC Calculated =6780.031619746968\n",
      "ARIMA (0, 0, 0) x (0, 0, 0, 10) : AIC Calculated =7090.036087884773, BIC Calculated =7093.61203698792\n",
      "ARIMA (0, 0, 0) x (0, 0, 1, 10) : AIC Calculated =6660.630517790278, BIC Calculated =6667.705186324315\n",
      "ARIMA (0, 0, 0) x (0, 1, 0, 10) : AIC Calculated =5712.985697740549, BIC Calculated =5716.523032007567\n",
      "ARIMA (0, 0, 0) x (0, 1, 1, 10) : AIC Calculated =5498.743392379295, BIC Calculated =5505.737728829881\n",
      "ARIMA (0, 0, 0) x (1, 0, 0, 10) : AIC Calculated =5724.592005276927, BIC Calculated =5731.674532367244\n",
      "ARIMA (0, 0, 0) x (1, 0, 1, 10) : AIC Calculated =5640.7181753407385, BIC Calculated =5651.330178141794\n",
      "ARIMA (0, 0, 0) x (1, 1, 0, 10) : AIC Calculated =5277.58697538786, BIC Calculated =5284.589491808949\n",
      "ARIMA (0, 0, 0) x (1, 1, 1, 10) : AIC Calculated =5258.142873537748, BIC Calculated =5268.634378213627\n",
      "ARIMA (0, 0, 0) x (0, 0, 0, 11) : AIC Calculated =7090.036087884773, BIC Calculated =7093.61203698792\n",
      "ARIMA (0, 0, 0) x (0, 0, 1, 11) : AIC Calculated =6636.590495805772, BIC Calculated =6643.657274783227\n",
      "ARIMA (0, 0, 0) x (0, 1, 0, 11) : AIC Calculated =5737.2024288202865, BIC Calculated =5740.735818309014\n",
      "ARIMA (0, 0, 0) x (0, 1, 1, 11) : AIC Calculated =5499.509602737644, BIC Calculated =5506.487478189957\n",
      "ARIMA (0, 0, 0) x (1, 0, 0, 11) : AIC Calculated =5749.637813241627, BIC Calculated =5756.712481775664\n",
      "ARIMA (0, 0, 0) x (1, 0, 1, 11) : AIC Calculated =5667.098409353052, BIC Calculated =5677.698577819235\n",
      "ARIMA (0, 0, 0) x (1, 1, 0, 11) : AIC Calculated =5312.382699009704, BIC Calculated =5319.368821896385\n",
      "ARIMA (0, 0, 0) x (1, 1, 1, 11) : AIC Calculated =5292.398085740257, BIC Calculated =5302.864898918727\n",
      "ARIMA (0, 0, 0) x (0, 0, 0, 12) : AIC Calculated =7090.036087884773, BIC Calculated =7093.61203698792\n",
      "ARIMA (0, 0, 0) x (0, 0, 1, 12) : AIC Calculated =6612.632712894508, BIC Calculated =6619.69157106953\n",
      "ARIMA (0, 0, 0) x (0, 1, 0, 12) : AIC Calculated =5756.757409300333, BIC Calculated =5760.286838387845\n",
      "ARIMA (0, 0, 0) x (0, 1, 1, 12) : AIC Calculated =5495.3967457035305, BIC Calculated =5502.358023550215\n",
      "ARIMA (0, 0, 0) x (1, 0, 0, 12) : AIC Calculated =5769.9686504585, BIC Calculated =5777.035429435955\n",
      "ARIMA (0, 0, 0) x (1, 0, 1, 12) : AIC Calculated =5689.4045051470575, BIC Calculated =5699.992792409592\n",
      "ARIMA (0, 0, 0) x (1, 1, 0, 12) : AIC Calculated =5337.952522540715, BIC Calculated =5344.922116407696\n"
     ]
    },
    {
     "name": "stderr",
     "output_type": "stream",
     "text": [
      "C:\\Users\\Rahkeem\\Anaconda3\\envs\\learn-env\\lib\\site-packages\\statsmodels\\base\\model.py:508: ConvergenceWarning: Maximum Likelihood optimization failed to converge. Check mle_retvals\n",
      "  \"Check mle_retvals\", ConvergenceWarning)\n"
     ]
    },
    {
     "name": "stdout",
     "output_type": "stream",
     "text": [
      "ARIMA (0, 0, 0) x (1, 1, 1, 12) : AIC Calculated =5316.704391629399, BIC Calculated =5327.146308399425\n",
      "ARIMA (0, 0, 1) x (0, 0, 0, 0) : AIC Calculated =6872.806440442, BIC Calculated =6879.950748506356\n",
      "ARIMA (0, 0, 1) x (0, 0, 1, 0) : AIC Calculated =6807.459922032849, BIC Calculated =6818.164955544133\n",
      "ARIMA (0, 0, 1) x (1, 0, 0, 0) : AIC Calculated =6806.270063429398, BIC Calculated =6816.986525525931\n",
      "ARIMA (0, 0, 1) x (1, 0, 1, 0) : AIC Calculated =6782.409007959643, BIC Calculated =6796.682385974687\n",
      "ARIMA (0, 0, 1) x (0, 0, 0, 1) : AIC Calculated =6872.806440442, BIC Calculated =6879.950748506356\n",
      "ARIMA (0, 0, 1) x (0, 0, 1, 1) : AIC Calculated =6807.459922032849, BIC Calculated =6818.164955544133\n",
      "ARIMA (0, 0, 1) x (0, 1, 0, 1) : AIC Calculated =4353.738444144726, BIC Calculated =4360.875133152248\n",
      "ARIMA (0, 0, 1) x (0, 1, 1, 1) : AIC Calculated =4552.177321761912, BIC Calculated =4562.87088298388\n",
      "ARIMA (0, 0, 1) x (1, 0, 0, 1) : AIC Calculated =6806.270063429398, BIC Calculated =6816.986525525931\n",
      "ARIMA (0, 0, 1) x (1, 0, 1, 1) : AIC Calculated =6782.409007959643, BIC Calculated =6796.682385974687\n",
      "ARIMA (0, 0, 1) x (1, 1, 0, 1) : AIC Calculated =3570.768631938423, BIC Calculated =3581.473665449706\n",
      "ARIMA (0, 0, 1) x (1, 1, 1, 1) : AIC Calculated =3557.8198773866698, BIC Calculated =3572.0779590159605\n",
      "ARIMA (0, 0, 1) x (0, 0, 0, 2) : AIC Calculated =6872.806440442, BIC Calculated =6879.950748506356\n",
      "ARIMA (0, 0, 1) x (0, 0, 1, 2) : AIC Calculated =8738.911344219196, BIC Calculated =8749.604905441163\n",
      "ARIMA (0, 0, 1) x (0, 1, 0, 2) : AIC Calculated =4910.226209818448, BIC Calculated =4917.355250633093\n",
      "ARIMA (0, 0, 1) x (0, 1, 1, 2) : AIC Calculated =4508.877064525794, BIC Calculated =4519.547548710892\n",
      "ARIMA (0, 0, 1) x (1, 0, 0, 2) : AIC Calculated =6806.362340429957, BIC Calculated =6817.07880252649\n",
      "ARIMA (0, 0, 1) x (1, 0, 1, 2) : AIC Calculated =6756.582389859401, BIC Calculated =6770.840471488692\n",
      "ARIMA (0, 0, 1) x (1, 1, 0, 2) : AIC Calculated =4154.357049104792, BIC Calculated =4165.05061032676\n"
     ]
    },
    {
     "name": "stderr",
     "output_type": "stream",
     "text": [
      "C:\\Users\\Rahkeem\\Anaconda3\\envs\\learn-env\\lib\\site-packages\\statsmodels\\base\\model.py:508: ConvergenceWarning: Maximum Likelihood optimization failed to converge. Check mle_retvals\n",
      "  \"Check mle_retvals\", ConvergenceWarning)\n"
     ]
    },
    {
     "name": "stdout",
     "output_type": "stream",
     "text": [
      "ARIMA (0, 0, 1) x (1, 1, 1, 2) : AIC Calculated =4381.4989560768545, BIC Calculated =4395.726268323652\n",
      "ARIMA (0, 0, 1) x (0, 0, 0, 3) : AIC Calculated =6872.806440442, BIC Calculated =6879.950748506356\n",
      "ARIMA (0, 0, 1) x (0, 0, 1, 3) : AIC Calculated =34249.84328699539, BIC Calculated =34260.525331888435\n",
      "ARIMA (0, 0, 1) x (0, 1, 0, 3) : AIC Calculated =5048.001007858244, BIC Calculated =5055.122371120275\n"
     ]
    },
    {
     "name": "stderr",
     "output_type": "stream",
     "text": [
      "C:\\Users\\Rahkeem\\Anaconda3\\envs\\learn-env\\lib\\site-packages\\statsmodels\\base\\model.py:508: ConvergenceWarning: Maximum Likelihood optimization failed to converge. Check mle_retvals\n",
      "  \"Check mle_retvals\", ConvergenceWarning)\n"
     ]
    },
    {
     "name": "stdout",
     "output_type": "stream",
     "text": [
      "ARIMA (0, 0, 1) x (0, 1, 1, 3) : AIC Calculated =4796.193787671671, BIC Calculated =4806.841015926357\n",
      "ARIMA (0, 0, 1) x (1, 0, 0, 3) : AIC Calculated =6780.483947828954, BIC Calculated =6791.188981340238\n",
      "ARIMA (0, 0, 1) x (1, 0, 1, 3) : AIC Calculated =8067.082277544205, BIC Calculated =8081.325004068267\n",
      "ARIMA (0, 0, 1) x (1, 1, 0, 3) : AIC Calculated =4471.597809097169, BIC Calculated =4482.268293282268\n",
      "ARIMA (0, 0, 1) x (1, 1, 1, 3) : AIC Calculated =5181.861536041741, BIC Calculated =5196.0578403813215\n",
      "ARIMA (0, 0, 1) x (0, 0, 0, 4) : AIC Calculated =6872.806440442, BIC Calculated =6879.950748506356\n",
      "ARIMA (0, 0, 1) x (0, 0, 1, 4) : AIC Calculated =41659.73607437, BIC Calculated =41670.40655855509\n",
      "ARIMA (0, 0, 1) x (0, 1, 0, 4) : AIC Calculated =5175.769224964553, BIC Calculated =5182.882881087952\n",
      "ARIMA (0, 0, 1) x (0, 1, 1, 4) : AIC Calculated =6906.787418199703, BIC Calculated =6917.4112088351785\n",
      "ARIMA (0, 0, 1) x (1, 0, 0, 4) : AIC Calculated =8738.917143012724, BIC Calculated =8749.610704234692\n",
      "ARIMA (0, 0, 1) x (1, 0, 1, 4) : AIC Calculated =6704.985275419243, BIC Calculated =6719.212587666041\n",
      "ARIMA (0, 0, 1) x (1, 1, 0, 4) : AIC Calculated =5353.464506543214, BIC Calculated =5364.1117347979\n"
     ]
    },
    {
     "name": "stderr",
     "output_type": "stream",
     "text": [
      "C:\\Users\\Rahkeem\\Anaconda3\\envs\\learn-env\\lib\\site-packages\\statsmodels\\base\\model.py:508: ConvergenceWarning: Maximum Likelihood optimization failed to converge. Check mle_retvals\n",
      "  \"Check mle_retvals\", ConvergenceWarning)\n"
     ]
    },
    {
     "name": "stdout",
     "output_type": "stream",
     "text": [
      "ARIMA (0, 0, 1) x (1, 1, 1, 4) : AIC Calculated =4466.14443988535, BIC Calculated =4480.309494065984\n",
      "ARIMA (0, 0, 1) x (0, 0, 0, 5) : AIC Calculated =6872.806440442, BIC Calculated =6879.950748506356\n",
      "ARIMA (0, 0, 1) x (0, 0, 1, 5) : AIC Calculated =7484.734428181984, BIC Calculated =7495.3933069367495\n",
      "ARIMA (0, 0, 1) x (0, 1, 0, 5) : AIC Calculated =5269.158750435155, BIC Calculated =5276.264669604998\n",
      "ARIMA (0, 0, 1) x (0, 1, 1, 5) : AIC Calculated =4992.8941845975205, BIC Calculated =5003.494353063703\n",
      "ARIMA (0, 0, 1) x (1, 0, 0, 5) : AIC Calculated =8070.397491150758, BIC Calculated =8081.079536043804\n",
      "ARIMA (0, 0, 1) x (1, 0, 1, 5) : AIC Calculated =6679.185798300001, BIC Calculated =6693.397636639687\n",
      "ARIMA (0, 0, 1) x (1, 1, 0, 5) : AIC Calculated =4791.674555518041, BIC Calculated =4802.298346153517\n"
     ]
    },
    {
     "name": "stderr",
     "output_type": "stream",
     "text": [
      "C:\\Users\\Rahkeem\\Anaconda3\\envs\\learn-env\\lib\\site-packages\\statsmodels\\base\\model.py:508: ConvergenceWarning: Maximum Likelihood optimization failed to converge. Check mle_retvals\n",
      "  \"Check mle_retvals\", ConvergenceWarning)\n"
     ]
    },
    {
     "name": "stdout",
     "output_type": "stream",
     "text": [
      "ARIMA (0, 0, 1) x (1, 1, 1, 5) : AIC Calculated =4675.427643852374, BIC Calculated =4689.561201807284\n",
      "ARIMA (0, 0, 1) x (0, 0, 0, 6) : AIC Calculated =6872.806440442, BIC Calculated =6879.950748506356\n"
     ]
    },
    {
     "name": "stderr",
     "output_type": "stream",
     "text": [
      "C:\\Users\\Rahkeem\\Anaconda3\\envs\\learn-env\\lib\\site-packages\\statsmodels\\base\\model.py:508: ConvergenceWarning: Maximum Likelihood optimization failed to converge. Check mle_retvals\n",
      "  \"Check mle_retvals\", ConvergenceWarning)\n"
     ]
    },
    {
     "name": "stdout",
     "output_type": "stream",
     "text": [
      "ARIMA (0, 0, 1) x (0, 0, 1, 6) : AIC Calculated =57972.330417483674, BIC Calculated =57982.97764573836\n",
      "ARIMA (0, 0, 1) x (0, 1, 0, 6) : AIC Calculated =5364.500618861276, BIC Calculated =5371.5987710310665\n",
      "ARIMA (0, 0, 1) x (0, 1, 1, 6) : AIC Calculated =7117.196358320711, BIC Calculated =7127.772717138106\n",
      "ARIMA (0, 0, 1) x (1, 0, 0, 6) : AIC Calculated =7712.643716006434, BIC Calculated =7723.314200191533\n",
      "ARIMA (0, 0, 1) x (1, 0, 1, 6) : AIC Calculated =7319.987445496916, BIC Calculated =7334.183749836497\n",
      "ARIMA (0, 0, 1) x (1, 1, 0, 6) : AIC Calculated =5202.398620742734, BIC Calculated =5212.998789208917\n",
      "ARIMA (0, 0, 1) x (1, 1, 1, 6) : AIC Calculated =6508.948046557463, BIC Calculated =6523.049858313991\n",
      "ARIMA (0, 0, 1) x (0, 0, 0, 7) : AIC Calculated =6872.806440442, BIC Calculated =6879.950748506356\n",
      "ARIMA (0, 0, 1) x (0, 0, 1, 7) : AIC Calculated =57051.28796579083, BIC Calculated =57061.92349812426\n",
      "ARIMA (0, 0, 1) x (0, 1, 0, 7) : AIC Calculated =5397.371802954175, BIC Calculated =5404.462157843134\n"
     ]
    },
    {
     "name": "stderr",
     "output_type": "stream",
     "text": [
      "C:\\Users\\Rahkeem\\Anaconda3\\envs\\learn-env\\lib\\site-packages\\statsmodels\\base\\model.py:508: ConvergenceWarning: Maximum Likelihood optimization failed to converge. Check mle_retvals\n",
      "  \"Check mle_retvals\", ConvergenceWarning)\n"
     ]
    },
    {
     "name": "stdout",
     "output_type": "stream",
     "text": [
      "ARIMA (0, 0, 1) x (0, 1, 1, 7) : AIC Calculated =5086.170860393359, BIC Calculated =5096.7232190827535\n",
      "ARIMA (0, 0, 1) x (1, 0, 0, 7) : AIC Calculated =6677.396224933298, BIC Calculated =6688.055103688063\n",
      "ARIMA (0, 0, 1) x (1, 0, 1, 7) : AIC Calculated =7193.277063461502, BIC Calculated =7207.45777323942\n",
      "ARIMA (0, 0, 1) x (1, 1, 0, 7) : AIC Calculated =5254.995888493941, BIC Calculated =5265.572247311336\n"
     ]
    },
    {
     "name": "stderr",
     "output_type": "stream",
     "text": [
      "C:\\Users\\Rahkeem\\Anaconda3\\envs\\learn-env\\lib\\site-packages\\statsmodels\\base\\model.py:508: ConvergenceWarning: Maximum Likelihood optimization failed to converge. Check mle_retvals\n",
      "  \"Check mle_retvals\", ConvergenceWarning)\n"
     ]
    },
    {
     "name": "stdout",
     "output_type": "stream",
     "text": [
      "ARIMA (0, 0, 1) x (1, 1, 1, 7) : AIC Calculated =6796.019560978458, BIC Calculated =6810.089372564316\n",
      "ARIMA (0, 0, 1) x (0, 0, 0, 8) : AIC Calculated =6872.806440442, BIC Calculated =6879.950748506356\n",
      "ARIMA (0, 0, 1) x (0, 0, 1, 8) : AIC Calculated =64731.45471246194, BIC Calculated =64742.078503097415\n",
      "ARIMA (0, 0, 1) x (0, 1, 0, 8) : AIC Calculated =5393.616648497786, BIC Calculated =5400.699175588103\n"
     ]
    },
    {
     "name": "stderr",
     "output_type": "stream",
     "text": [
      "C:\\Users\\Rahkeem\\Anaconda3\\envs\\learn-env\\lib\\site-packages\\statsmodels\\base\\model.py:508: ConvergenceWarning: Maximum Likelihood optimization failed to converge. Check mle_retvals\n",
      "  \"Check mle_retvals\", ConvergenceWarning)\n"
     ]
    },
    {
     "name": "stdout",
     "output_type": "stream",
     "text": [
      "ARIMA (0, 0, 1) x (0, 1, 1, 8) : AIC Calculated =5671.188226977698, BIC Calculated =5681.716391987582\n",
      "ARIMA (0, 0, 1) x (1, 0, 0, 8) : AIC Calculated =6651.926026213199, BIC Calculated =6662.573254467885\n",
      "ARIMA (0, 0, 1) x (1, 0, 1, 8) : AIC Calculated =7093.64970400796, BIC Calculated =7107.814758188594\n",
      "ARIMA (0, 0, 1) x (1, 1, 0, 8) : AIC Calculated =5267.500842879707, BIC Calculated =5278.0532015691015\n",
      "ARIMA (0, 0, 1) x (1, 1, 1, 8) : AIC Calculated =6852.02272707573, BIC Calculated =6866.060280422242\n",
      "ARIMA (0, 0, 1) x (0, 0, 0, 9) : AIC Calculated =6872.806440442, BIC Calculated =6879.950748506356\n",
      "ARIMA (0, 0, 1) x (0, 0, 1, 9) : AIC Calculated =7013.7322359571735, BIC Calculated =7024.344238758229\n",
      "ARIMA (0, 0, 1) x (0, 1, 0, 9) : AIC Calculated =5479.507962274837, BIC Calculated =5486.5826308088745\n",
      "ARIMA (0, 0, 1) x (0, 1, 1, 9) : AIC Calculated =7334.50054509439, BIC Calculated =7345.004319726024\n",
      "ARIMA (0, 0, 1) x (1, 0, 0, 9) : AIC Calculated =6625.942855353131, BIC Calculated =6636.578387686569\n",
      "ARIMA (0, 0, 1) x (1, 0, 1, 9) : AIC Calculated =6576.092705718004, BIC Calculated =6590.242042786078\n",
      "ARIMA (0, 0, 1) x (1, 1, 0, 9) : AIC Calculated =5298.185257419458, BIC Calculated =5308.713422429342\n",
      "ARIMA (0, 0, 1) x (1, 1, 1, 9) : AIC Calculated =6639.027140208504, BIC Calculated =6653.032173050682\n",
      "ARIMA (0, 0, 1) x (0, 0, 0, 10) : AIC Calculated =6872.806440442, BIC Calculated =6879.950748506356\n",
      "ARIMA (0, 0, 1) x (0, 0, 1, 10) : AIC Calculated =6567.995670353988, BIC Calculated =6578.595838820171\n",
      "ARIMA (0, 0, 1) x (0, 1, 0, 10) : AIC Calculated =5525.800412587445, BIC Calculated =5532.8671915649\n",
      "ARIMA (0, 0, 1) x (0, 1, 1, 10) : AIC Calculated =7373.819814796976, BIC Calculated =7384.298999126998\n",
      "ARIMA (0, 0, 1) x (1, 0, 0, 10) : AIC Calculated =6600.554452778288, BIC Calculated =6611.178243413763\n",
      "ARIMA (0, 0, 1) x (1, 0, 1, 10) : AIC Calculated =6550.422642056568, BIC Calculated =6564.556200011479\n",
      "ARIMA (0, 0, 1) x (1, 1, 0, 10) : AIC Calculated =5296.649349567524, BIC Calculated =5307.153124199158\n",
      "ARIMA (0, 0, 1) x (1, 1, 1, 10) : AIC Calculated =7306.572206284557, BIC Calculated =7320.544452057919\n",
      "ARIMA (0, 0, 1) x (0, 0, 0, 11) : AIC Calculated =6872.806440442, BIC Calculated =6879.950748506356\n",
      "ARIMA (0, 0, 1) x (0, 0, 1, 11) : AIC Calculated =6545.566029918562, BIC Calculated =6556.154317181096\n",
      "ARIMA (0, 0, 1) x (0, 1, 0, 11) : AIC Calculated =5533.930219125579, BIC Calculated =5540.989077300602\n",
      "ARIMA (0, 0, 1) x (0, 1, 1, 11) : AIC Calculated =7704.331275100644, BIC Calculated =7714.785665901116\n",
      "ARIMA (0, 0, 1) x (1, 0, 0, 11) : AIC Calculated =6574.543885201108, BIC Calculated =6585.155888002164\n",
      "ARIMA (0, 0, 1) x (1, 0, 1, 11) : AIC Calculated =6524.62473157359, BIC Calculated =6538.742447923636\n",
      "ARIMA (0, 0, 1) x (1, 1, 0, 11) : AIC Calculated =5716.195809657151, BIC Calculated =5726.6749939871725\n",
      "ARIMA (0, 0, 1) x (1, 1, 1, 11) : AIC Calculated =7598.666517390304, BIC Calculated =7612.605705124266\n",
      "ARIMA (0, 0, 1) x (0, 0, 0, 12) : AIC Calculated =6872.806440442, BIC Calculated =6879.950748506356\n",
      "ARIMA (0, 0, 1) x (0, 0, 1, 12) : AIC Calculated =6516.559804727118, BIC Calculated =6527.136163544513\n",
      "ARIMA (0, 0, 1) x (0, 1, 0, 12) : AIC Calculated =5728.635548003485, BIC Calculated =5735.686453881749\n",
      "ARIMA (0, 0, 1) x (0, 1, 1, 12) : AIC Calculated =7420.955315799535, BIC Calculated =7431.384706455329\n",
      "ARIMA (0, 0, 1) x (1, 0, 0, 12) : AIC Calculated =6549.23209088232, BIC Calculated =6559.832259348503\n",
      "ARIMA (0, 0, 1) x (1, 0, 1, 12) : AIC Calculated =6814.445302714946, BIC Calculated =6828.547114471473\n",
      "ARIMA (0, 0, 1) x (1, 1, 0, 12) : AIC Calculated =5722.828356860529, BIC Calculated =5733.282747661001\n",
      "ARIMA (0, 0, 1) x (1, 1, 1, 12) : AIC Calculated =7351.812892887931, BIC Calculated =7365.718747095658\n",
      "ARIMA (0, 1, 0) x (0, 0, 0, 0) : AIC Calculated =4714.914363638998, BIC Calculated =4718.4865176711755\n",
      "ARIMA (0, 1, 0) x (0, 0, 1, 0) : AIC Calculated =4353.738444144726, BIC Calculated =4360.875133152248\n",
      "ARIMA (0, 1, 0) x (1, 0, 0, 0) : AIC Calculated =3638.4991625539355, BIC Calculated =3645.6434706182913\n",
      "ARIMA (0, 1, 0) x (1, 0, 1, 0) : AIC Calculated =3571.260462037554, BIC Calculated =3581.965495548837\n",
      "ARIMA (0, 1, 0) x (0, 0, 0, 1) : AIC Calculated =4714.914363638998, BIC Calculated =4718.4865176711755\n",
      "ARIMA (0, 1, 0) x (0, 0, 1, 1) : AIC Calculated =4353.738444144726, BIC Calculated =4360.875133152248\n",
      "ARIMA (0, 1, 0) x (0, 1, 0, 1) : AIC Calculated =3624.125338772499, BIC Calculated =3627.6936832762603\n",
      "ARIMA (0, 1, 0) x (0, 1, 1, 1) : AIC Calculated =3556.2717935322653, BIC Calculated =3563.400834346911\n",
      "ARIMA (0, 1, 0) x (1, 0, 0, 1) : AIC Calculated =3638.4991625539355, BIC Calculated =3645.6434706182913\n",
      "ARIMA (0, 1, 0) x (1, 0, 1, 1) : AIC Calculated =3571.260462037554, BIC Calculated =3581.965495548837\n",
      "ARIMA (0, 1, 0) x (1, 1, 0, 1) : AIC Calculated =3578.2977798517163, BIC Calculated =3585.4344688592387\n",
      "ARIMA (0, 1, 0) x (1, 1, 1, 1) : AIC Calculated =3557.394084334065, BIC Calculated =3568.0876455560333\n",
      "ARIMA (0, 1, 0) x (0, 0, 0, 2) : AIC Calculated =4714.914363638998, BIC Calculated =4718.4865176711755\n",
      "ARIMA (0, 1, 0) x (0, 0, 1, 2) : AIC Calculated =4374.526836507581, BIC Calculated =4381.655877322226\n",
      "ARIMA (0, 1, 0) x (0, 1, 0, 2) : AIC Calculated =3878.883128638802, BIC Calculated =3882.4476490461248\n",
      "ARIMA (0, 1, 0) x (0, 1, 1, 2) : AIC Calculated =3826.9719185370714, BIC Calculated =3834.0855746604702\n",
      "ARIMA (0, 1, 0) x (1, 0, 0, 2) : AIC Calculated =3893.3429680985387, BIC Calculated =3900.479657106061\n",
      "ARIMA (0, 1, 0) x (1, 0, 1, 2) : AIC Calculated =3860.224598211563, BIC Calculated =3870.918159433531\n",
      "ARIMA (0, 1, 0) x (1, 1, 0, 2) : AIC Calculated =3828.8263433634547, BIC Calculated =3835.947706625486\n",
      "ARIMA (0, 1, 0) x (1, 1, 1, 2) : AIC Calculated =3816.973242752538, BIC Calculated =3827.643726937637\n",
      "ARIMA (0, 1, 0) x (0, 0, 0, 3) : AIC Calculated =4714.914363638998, BIC Calculated =4718.4865176711755\n",
      "ARIMA (0, 1, 0) x (0, 0, 1, 3) : AIC Calculated =4363.371673195668, BIC Calculated =4370.493036457699\n",
      "ARIMA (0, 1, 0) x (0, 1, 0, 3) : AIC Calculated =4007.8369373935784, BIC Calculated =4011.397619024594\n",
      "ARIMA (0, 1, 0) x (0, 1, 1, 3) : AIC Calculated =3920.211808876837, BIC Calculated =3927.3099610466274\n",
      "ARIMA (0, 1, 0) x (1, 0, 0, 3) : AIC Calculated =4021.1257270770393, BIC Calculated =4028.254767891685\n",
      "ARIMA (0, 1, 0) x (1, 0, 1, 3) : AIC Calculated =3978.336863581089, BIC Calculated =3989.0189084741355\n",
      "ARIMA (0, 1, 0) x (1, 1, 0, 3) : AIC Calculated =3932.03174348884, BIC Calculated =3939.1376626586834\n",
      "ARIMA (0, 1, 0) x (1, 1, 1, 3) : AIC Calculated =3919.5457337370044, BIC Calculated =3930.19296199169\n",
      "ARIMA (0, 1, 0) x (0, 0, 0, 4) : AIC Calculated =4714.914363638998, BIC Calculated =4718.4865176711755\n",
      "ARIMA (0, 1, 0) x (0, 0, 1, 4) : AIC Calculated =4359.0210002504045, BIC Calculated =4366.134656373803\n",
      "ARIMA (0, 1, 0) x (0, 1, 0, 4) : AIC Calculated =4103.311289956244, BIC Calculated =4106.868118017944\n",
      "ARIMA (0, 1, 0) x (0, 1, 1, 4) : AIC Calculated =4019.5476031978205, BIC Calculated =4026.6301302881375\n",
      "ARIMA (0, 1, 0) x (1, 0, 0, 4) : AIC Calculated =4114.482341288466, BIC Calculated =4121.603704550497\n",
      "ARIMA (0, 1, 0) x (1, 0, 1, 4) : AIC Calculated =4084.445434894017, BIC Calculated =4095.115919079116\n",
      "ARIMA (0, 1, 0) x (1, 1, 0, 4) : AIC Calculated =4024.806499894867, BIC Calculated =4031.8968547838263\n",
      "ARIMA (0, 1, 0) x (1, 1, 1, 4) : AIC Calculated =4017.619267443418, BIC Calculated =4028.2430580788932\n",
      "ARIMA (0, 1, 0) x (0, 0, 0, 5) : AIC Calculated =4714.914363638998, BIC Calculated =4718.4865176711755\n",
      "ARIMA (0, 1, 0) x (0, 0, 1, 5) : AIC Calculated =4414.787430581461, BIC Calculated =4421.893349751304\n",
      "ARIMA (0, 1, 0) x (0, 1, 0, 5) : AIC Calculated =4176.943645831313, BIC Calculated =4180.496605416235\n",
      "ARIMA (0, 1, 0) x (0, 1, 1, 5) : AIC Calculated =4088.1085869905783, BIC Calculated =4095.1753659680335\n",
      "ARIMA (0, 1, 0) x (1, 0, 0, 5) : AIC Calculated =4185.42032412859, BIC Calculated =4192.533980251989\n",
      "ARIMA (0, 1, 0) x (1, 0, 1, 5) : AIC Calculated =4164.4686408467205, BIC Calculated =4175.127519601486\n",
      "ARIMA (0, 1, 0) x (1, 1, 0, 5) : AIC Calculated =4091.6550635424464, BIC Calculated =4098.729732076484\n",
      "ARIMA (0, 1, 0) x (1, 1, 1, 5) : AIC Calculated =4076.6568891557445, BIC Calculated =4087.257057621927\n",
      "ARIMA (0, 1, 0) x (0, 0, 0, 6) : AIC Calculated =4714.914363638998, BIC Calculated =4718.4865176711755\n"
     ]
    },
    {
     "name": "stdout",
     "output_type": "stream",
     "text": [
      "ARIMA (0, 1, 0) x (0, 0, 1, 6) : AIC Calculated =4373.5700102650335, BIC Calculated =4380.668162434824\n",
      "ARIMA (0, 1, 0) x (0, 1, 0, 6) : AIC Calculated =4226.3107479868, BIC Calculated =4229.859824071696\n",
      "ARIMA (0, 1, 0) x (0, 1, 1, 6) : AIC Calculated =4113.23111238765, BIC Calculated =4120.282018265913\n",
      "ARIMA (0, 1, 0) x (1, 0, 0, 6) : AIC Calculated =4231.9994341337115, BIC Calculated =4239.105353303555\n",
      "ARIMA (0, 1, 0) x (1, 0, 1, 6) : AIC Calculated =4359.967964109199, BIC Calculated =4370.6151923638845\n",
      "ARIMA (0, 1, 0) x (1, 1, 0, 6) : AIC Calculated =4116.988245331971, BIC Calculated =4124.047103506993\n",
      "ARIMA (0, 1, 0) x (1, 1, 1, 6) : AIC Calculated =4103.42161976396, BIC Calculated =4113.997978581355\n",
      "ARIMA (0, 1, 0) x (0, 0, 0, 7) : AIC Calculated =4714.914363638998, BIC Calculated =4718.4865176711755\n",
      "ARIMA (0, 1, 0) x (0, 0, 1, 7) : AIC Calculated =4374.170306576837, BIC Calculated =4381.260661465796\n",
      "ARIMA (0, 1, 0) x (0, 1, 0, 7) : AIC Calculated =4263.472840741639, BIC Calculated =4267.018018186118\n",
      "ARIMA (0, 1, 0) x (0, 1, 1, 7) : AIC Calculated =4123.297485646484, BIC Calculated =4130.332391439414\n",
      "ARIMA (0, 1, 0) x (1, 0, 0, 7) : AIC Calculated =4266.192516993646, BIC Calculated =4273.290669163436\n",
      "ARIMA (0, 1, 0) x (1, 0, 1, 7) : AIC Calculated =4357.847956270043, BIC Calculated =4368.483488603481\n",
      "ARIMA (0, 1, 0) x (1, 1, 0, 7) : AIC Calculated =4128.426774729321, BIC Calculated =4135.4696965650455\n",
      "ARIMA (0, 1, 0) x (1, 1, 1, 7) : AIC Calculated =4114.550223683049, BIC Calculated =4125.102582372443\n",
      "ARIMA (0, 1, 0) x (0, 0, 0, 8) : AIC Calculated =4714.914363638998, BIC Calculated =4718.4865176711755\n",
      "ARIMA (0, 1, 0) x (0, 0, 1, 8) : AIC Calculated =4368.271948251145, BIC Calculated =4375.354475341462\n",
      "ARIMA (0, 1, 0) x (0, 1, 0, 8) : AIC Calculated =4295.857362483778, BIC Calculated =4299.398626028937\n",
      "ARIMA (0, 1, 0) x (0, 1, 1, 8) : AIC Calculated =4136.672546953076, BIC Calculated =4143.691323626332\n",
      "ARIMA (0, 1, 0) x (1, 0, 0, 8) : AIC Calculated =4295.190483939061, BIC Calculated =4302.28083882802\n",
      "ARIMA (0, 1, 0) x (1, 0, 1, 8) : AIC Calculated =4250.256531684928, BIC Calculated =4260.880322320403\n",
      "ARIMA (0, 1, 0) x (1, 1, 0, 8) : AIC Calculated =4141.657301612653, BIC Calculated =4148.684159104983\n",
      "ARIMA (0, 1, 0) x (1, 1, 1, 8) : AIC Calculated =4126.660849028939, BIC Calculated =4137.189014038823\n",
      "ARIMA (0, 1, 0) x (0, 0, 0, 9) : AIC Calculated =4714.914363638998, BIC Calculated =4718.4865176711755\n",
      "ARIMA (0, 1, 0) x (0, 0, 1, 9) : AIC Calculated =4347.474279653019, BIC Calculated =4354.548948187056\n",
      "ARIMA (0, 1, 0) x (0, 1, 0, 9) : AIC Calculated =4321.63899648563, BIC Calculated =4325.176330752648\n",
      "ARIMA (0, 1, 0) x (0, 1, 1, 9) : AIC Calculated =4140.283405193517, BIC Calculated =4147.285921614606\n",
      "ARIMA (0, 1, 0) x (1, 0, 0, 9) : AIC Calculated =4317.37696709115, BIC Calculated =4324.459494181467\n",
      "ARIMA (0, 1, 0) x (1, 0, 1, 9) : AIC Calculated =4270.631728960741, BIC Calculated =4281.243731761797\n",
      "ARIMA (0, 1, 0) x (1, 1, 0, 9) : AIC Calculated =4154.204338568718, BIC Calculated =4161.215001640583\n",
      "ARIMA (0, 1, 0) x (1, 1, 1, 9) : AIC Calculated =4138.392804182238, BIC Calculated =4148.896578813872\n",
      "ARIMA (0, 1, 0) x (0, 0, 0, 10) : AIC Calculated =4714.914363638998, BIC Calculated =4718.4865176711755\n",
      "ARIMA (0, 1, 0) x (0, 0, 1, 10) : AIC Calculated =4334.834097187374, BIC Calculated =4341.900876164829\n",
      "ARIMA (0, 1, 0) x (0, 1, 0, 10) : AIC Calculated =4342.6449296435, BIC Calculated =4346.178319132227\n",
      "ARIMA (0, 1, 0) x (0, 1, 1, 10) : AIC Calculated =4152.736817439992, BIC Calculated =4159.722940326673\n",
      "ARIMA (0, 1, 0) x (1, 0, 0, 10) : AIC Calculated =4334.507087552102, BIC Calculated =4341.58175608614\n",
      "ARIMA (0, 1, 0) x (1, 0, 1, 10) : AIC Calculated =4342.199302690189, BIC Calculated =4352.7994711563715\n",
      "ARIMA (0, 1, 0) x (1, 1, 0, 10) : AIC Calculated =4163.746932472004, BIC Calculated =4170.74126892259\n",
      "ARIMA (0, 1, 0) x (1, 1, 1, 10) : AIC Calculated =4146.278344081491, BIC Calculated =4156.757528411513\n",
      "ARIMA (0, 1, 0) x (0, 0, 0, 11) : AIC Calculated =4714.914363638998, BIC Calculated =4718.4865176711755\n",
      "ARIMA (0, 1, 0) x (0, 0, 1, 11) : AIC Calculated =4338.912192345928, BIC Calculated =4345.9710505209505\n",
      "ARIMA (0, 1, 0) x (0, 1, 0, 11) : AIC Calculated =4362.921311412863, BIC Calculated =4366.450740500375\n",
      "ARIMA (0, 1, 0) x (0, 1, 1, 11) : AIC Calculated =4159.514115555487, BIC Calculated =4166.483709422468\n",
      "ARIMA (0, 1, 0) x (1, 0, 0, 11) : AIC Calculated =4350.235593542757, BIC Calculated =4357.302372520212\n",
      "ARIMA (0, 1, 0) x (1, 0, 1, 11) : AIC Calculated =4353.083827539455, BIC Calculated =4363.67211480199\n",
      "ARIMA (0, 1, 0) x (1, 1, 0, 11) : AIC Calculated =4174.20270938724, BIC Calculated =4181.180584839553\n",
      "ARIMA (0, 1, 0) x (1, 1, 1, 11) : AIC Calculated =4152.706086466588, BIC Calculated =4163.16047726706\n",
      "ARIMA (0, 1, 0) x (0, 0, 0, 12) : AIC Calculated =4714.914363638998, BIC Calculated =4718.4865176711755\n",
      "ARIMA (0, 1, 0) x (0, 0, 1, 12) : AIC Calculated =4345.6713075126445, BIC Calculated =4352.722213390908\n",
      "ARIMA (0, 1, 0) x (0, 1, 0, 12) : AIC Calculated =4381.87519070771, BIC Calculated =4385.400643646842\n",
      "ARIMA (0, 1, 0) x (0, 1, 1, 12) : AIC Calculated =4165.796190568618, BIC Calculated =4172.749117672481\n",
      "ARIMA (0, 1, 0) x (1, 0, 0, 12) : AIC Calculated =4363.976946443475, BIC Calculated =4371.035804618497\n",
      "ARIMA (0, 1, 0) x (1, 0, 1, 12) : AIC Calculated =4336.942857783837, BIC Calculated =4347.519216601232\n",
      "ARIMA (0, 1, 0) x (1, 1, 0, 12) : AIC Calculated =4182.725079254745, BIC Calculated =4189.686357101429\n",
      "ARIMA (0, 1, 0) x (1, 1, 1, 12) : AIC Calculated =4160.859904350241, BIC Calculated =4171.289295006035\n",
      "ARIMA (0, 1, 1) x (0, 0, 0, 0) : AIC Calculated =4353.738444144726, BIC Calculated =4360.875133152248\n",
      "ARIMA (0, 1, 1) x (0, 0, 1, 0) : AIC Calculated =4552.177321761912, BIC Calculated =4562.87088298388\n",
      "ARIMA (0, 1, 1) x (1, 0, 0, 0) : AIC Calculated =3570.768631938423, BIC Calculated =3581.473665449706\n",
      "ARIMA (0, 1, 1) x (1, 0, 1, 0) : AIC Calculated =3557.8198773866698, BIC Calculated =3572.0779590159605\n",
      "ARIMA (0, 1, 1) x (0, 0, 0, 1) : AIC Calculated =4353.738444144726, BIC Calculated =4360.875133152248\n",
      "ARIMA (0, 1, 1) x (0, 0, 1, 1) : AIC Calculated =4552.177321761912, BIC Calculated =4562.87088298388\n",
      "ARIMA (0, 1, 1) x (0, 1, 0, 1) : AIC Calculated =3556.2717935322653, BIC Calculated =3563.400834346911\n",
      "ARIMA (0, 1, 1) x (0, 1, 1, 1) : AIC Calculated =3546.828510032338, BIC Calculated =3557.5105549253844\n",
      "ARIMA (0, 1, 1) x (1, 0, 0, 1) : AIC Calculated =3570.768631938423, BIC Calculated =3581.473665449706\n",
      "ARIMA (0, 1, 1) x (1, 0, 1, 1) : AIC Calculated =3557.8198773866698, BIC Calculated =3572.0779590159605\n",
      "ARIMA (0, 1, 1) x (1, 1, 0, 1) : AIC Calculated =3564.6503508384276, BIC Calculated =3575.3439120603957\n",
      "ARIMA (0, 1, 1) x (1, 1, 1, 1) : AIC Calculated =3546.6621380516845, BIC Calculated =3560.9048645757466\n",
      "ARIMA (0, 1, 1) x (0, 0, 0, 2) : AIC Calculated =4353.738444144726, BIC Calculated =4360.875133152248\n",
      "ARIMA (0, 1, 1) x (0, 0, 1, 2) : AIC Calculated =4040.3180326383795, BIC Calculated =4051.000077531426\n",
      "ARIMA (0, 1, 1) x (0, 1, 0, 2) : AIC Calculated =3698.935895214063, BIC Calculated =3706.057258476094\n",
      "ARIMA (0, 1, 1) x (0, 1, 1, 2) : AIC Calculated =3577.899391964819, BIC Calculated =3588.558270719584\n",
      "ARIMA (0, 1, 1) x (1, 0, 0, 2) : AIC Calculated =3848.7533046475655, BIC Calculated =3859.4583381588486\n",
      "ARIMA (0, 1, 1) x (1, 0, 1, 2) : AIC Calculated =3603.1405869205414, BIC Calculated =3617.3833134446036\n",
      "ARIMA (0, 1, 1) x (1, 1, 0, 2) : AIC Calculated =3605.431221629339, BIC Calculated =3616.1132665223854\n",
      "ARIMA (0, 1, 1) x (1, 1, 1, 2) : AIC Calculated =3579.7127494568495, BIC Calculated =3593.924587796536\n",
      "ARIMA (0, 1, 1) x (0, 0, 0, 3) : AIC Calculated =4353.738444144726, BIC Calculated =4360.875133152248\n",
      "ARIMA (0, 1, 1) x (0, 0, 1, 3) : AIC Calculated =4085.750957980569, BIC Calculated =4096.421442165668\n",
      "ARIMA (0, 1, 1) x (0, 1, 0, 3) : AIC Calculated =3814.6566489344787, BIC Calculated =3821.7703050578775\n",
      "ARIMA (0, 1, 1) x (0, 1, 1, 3) : AIC Calculated =3720.200299453206, BIC Calculated =3730.8358317866446\n",
      "ARIMA (0, 1, 1) x (1, 0, 0, 3) : AIC Calculated =3970.0297635848665, BIC Calculated =3980.7233248068346\n"
     ]
    },
    {
     "name": "stderr",
     "output_type": "stream",
     "text": [
      "C:\\Users\\Rahkeem\\Anaconda3\\envs\\learn-env\\lib\\site-packages\\statsmodels\\base\\model.py:508: ConvergenceWarning: Maximum Likelihood optimization failed to converge. Check mle_retvals\n",
      "  \"Check mle_retvals\", ConvergenceWarning)\n"
     ]
    },
    {
     "name": "stdout",
     "output_type": "stream",
     "text": [
      "ARIMA (0, 1, 1) x (1, 0, 1, 3) : AIC Calculated =3761.241721141604, BIC Calculated =3775.4690333884023\n",
      "ARIMA (0, 1, 1) x (1, 1, 0, 3) : AIC Calculated =3778.974726566563, BIC Calculated =3789.6336053213277\n",
      "ARIMA (0, 1, 1) x (1, 1, 1, 3) : AIC Calculated =3721.8793980607825, BIC Calculated =3736.060107838701\n",
      "ARIMA (0, 1, 1) x (0, 0, 0, 4) : AIC Calculated =4353.738444144726, BIC Calculated =4360.875133152248\n",
      "ARIMA (0, 1, 1) x (0, 0, 1, 4) : AIC Calculated =4020.2242838053235, BIC Calculated =4030.8831625600883\n",
      "ARIMA (0, 1, 1) x (0, 1, 0, 4) : AIC Calculated =3897.6151748236525, BIC Calculated =3904.7210939934957\n",
      "ARIMA (0, 1, 1) x (0, 1, 1, 4) : AIC Calculated =3705.4906102680607, BIC Calculated =3716.102613069116\n",
      "ARIMA (0, 1, 1) x (1, 0, 0, 4) : AIC Calculated =4293.499127342839, BIC Calculated =4304.181172235885\n",
      "ARIMA (0, 1, 1) x (1, 0, 1, 4) : AIC Calculated =3760.773541181637, BIC Calculated =3774.9853795213235\n",
      "ARIMA (0, 1, 1) x (1, 1, 0, 4) : AIC Calculated =3731.091885807466, BIC Calculated =3741.727418140905\n",
      "ARIMA (0, 1, 1) x (1, 1, 1, 4) : AIC Calculated =3707.209633663666, BIC Calculated =3721.35897073174\n",
      "ARIMA (0, 1, 1) x (0, 0, 0, 5) : AIC Calculated =4353.738444144726, BIC Calculated =4360.875133152248\n",
      "ARIMA (0, 1, 1) x (0, 0, 1, 5) : AIC Calculated =4100.906939402796, BIC Calculated =4111.554167657481\n",
      "ARIMA (0, 1, 1) x (0, 1, 0, 5) : AIC Calculated =3981.9146392762377, BIC Calculated =3989.012791446028\n",
      "ARIMA (0, 1, 1) x (0, 1, 1, 5) : AIC Calculated =3825.5921690677233, BIC Calculated =3836.1804563302576\n",
      "ARIMA (0, 1, 1) x (1, 0, 0, 5) : AIC Calculated =4285.8036154554375, BIC Calculated =4296.474099640536\n",
      "ARIMA (0, 1, 1) x (1, 0, 1, 5) : AIC Calculated =3888.646347242544, BIC Calculated =3902.8426515821247\n",
      "ARIMA (0, 1, 1) x (1, 1, 0, 5) : AIC Calculated =3870.1847848326292, BIC Calculated =3880.7967876336847\n",
      "ARIMA (0, 1, 1) x (1, 1, 1, 5) : AIC Calculated =3827.0219786232983, BIC Calculated =3841.139694973344\n",
      "ARIMA (0, 1, 1) x (0, 0, 0, 6) : AIC Calculated =4353.738444144726, BIC Calculated =4360.875133152248\n",
      "ARIMA (0, 1, 1) x (0, 0, 1, 6) : AIC Calculated =4031.7984994996477, BIC Calculated =4042.4340318330865\n",
      "ARIMA (0, 1, 1) x (0, 1, 0, 6) : AIC Calculated =4027.5935692779885, BIC Calculated =4034.6839241669477\n",
      "ARIMA (0, 1, 1) x (0, 1, 1, 6) : AIC Calculated =3794.931323587643, BIC Calculated =3805.49570634123\n",
      "ARIMA (0, 1, 1) x (1, 0, 0, 6) : AIC Calculated =4266.525067804305, BIC Calculated =4277.18394655907\n"
     ]
    },
    {
     "name": "stderr",
     "output_type": "stream",
     "text": [
      "C:\\Users\\Rahkeem\\Anaconda3\\envs\\learn-env\\lib\\site-packages\\statsmodels\\base\\model.py:508: ConvergenceWarning: Maximum Likelihood optimization failed to converge. Check mle_retvals\n",
      "  \"Check mle_retvals\", ConvergenceWarning)\n"
     ]
    },
    {
     "name": "stdout",
     "output_type": "stream",
     "text": [
      "ARIMA (0, 1, 1) x (1, 0, 1, 6) : AIC Calculated =3875.885939282981, BIC Calculated =3890.066649060899\n",
      "ARIMA (0, 1, 1) x (1, 1, 0, 6) : AIC Calculated =3821.5338142570763, BIC Calculated =3832.1221015196106\n",
      "ARIMA (0, 1, 1) x (1, 1, 1, 6) : AIC Calculated =3796.1914587426063, BIC Calculated =3810.277302414055\n",
      "ARIMA (0, 1, 1) x (0, 0, 0, 7) : AIC Calculated =4353.738444144726, BIC Calculated =4360.875133152248\n",
      "ARIMA (0, 1, 1) x (0, 0, 1, 7) : AIC Calculated =4057.728597628728, BIC Calculated =4068.3523882642035\n",
      "ARIMA (0, 1, 1) x (0, 1, 0, 7) : AIC Calculated =4063.293161288946, BIC Calculated =4070.375688379263\n",
      "ARIMA (0, 1, 1) x (0, 1, 1, 7) : AIC Calculated =3836.982355268731, BIC Calculated =3847.522641507226\n",
      "ARIMA (0, 1, 1) x (1, 0, 0, 7) : AIC Calculated =4257.452494277481, BIC Calculated =4268.099722532166\n",
      "ARIMA (0, 1, 1) x (1, 0, 1, 7) : AIC Calculated =3926.802079738731, BIC Calculated =3940.967133919365\n",
      "ARIMA (0, 1, 1) x (1, 1, 0, 7) : AIC Calculated =3905.843332848829, BIC Calculated =3916.407715602416\n",
      "ARIMA (0, 1, 1) x (1, 1, 1, 7) : AIC Calculated =3837.6227855293246, BIC Calculated =3851.6765005139846\n",
      "ARIMA (0, 1, 1) x (0, 0, 0, 8) : AIC Calculated =4353.738444144726, BIC Calculated =4360.875133152248\n",
      "ARIMA (0, 1, 1) x (0, 0, 1, 8) : AIC Calculated =4033.3997825719653, BIC Calculated =4044.0117853730208\n",
      "ARIMA (0, 1, 1) x (0, 1, 0, 8) : AIC Calculated =4096.935543626487, BIC Calculated =4104.010212160523\n",
      "ARIMA (0, 1, 1) x (0, 1, 1, 8) : AIC Calculated =3817.552395003525, BIC Calculated =3828.068389611322\n",
      "ARIMA (0, 1, 1) x (1, 0, 0, 8) : AIC Calculated =4239.722370742744, BIC Calculated =4250.357903076182\n",
      "ARIMA (0, 1, 1) x (1, 0, 1, 8) : AIC Calculated =3919.9399944278816, BIC Calculated =3934.089331495956\n",
      "ARIMA (0, 1, 1) x (1, 1, 0, 8) : AIC Calculated =3855.087258530337, BIC Calculated =3865.6275447688317\n",
      "ARIMA (0, 1, 1) x (1, 1, 1, 8) : AIC Calculated =3818.6254619015226, BIC Calculated =3832.646788045252\n",
      "ARIMA (0, 1, 1) x (0, 0, 0, 9) : AIC Calculated =4353.738444144726, BIC Calculated =4360.875133152248\n",
      "ARIMA (0, 1, 1) x (0, 0, 1, 9) : AIC Calculated =4034.47458860521, BIC Calculated =4045.0747570713925\n",
      "ARIMA (0, 1, 1) x (0, 1, 0, 9) : AIC Calculated =4123.2271661292825, BIC Calculated =4130.293945106738\n",
      "ARIMA (0, 1, 1) x (0, 1, 1, 9) : AIC Calculated =3848.335659976231, BIC Calculated =3858.8271646521107\n",
      "ARIMA (0, 1, 1) x (1, 0, 0, 9) : AIC Calculated =4229.395090879379, BIC Calculated =4240.018881514854\n",
      "ARIMA (0, 1, 1) x (1, 0, 1, 9) : AIC Calculated =3959.8000376018153, BIC Calculated =3973.9335955567253\n",
      "ARIMA (0, 1, 1) x (1, 1, 0, 9) : AIC Calculated =3920.981562100649, BIC Calculated =3931.497556708446\n",
      "ARIMA (0, 1, 1) x (1, 1, 1, 9) : AIC Calculated =3848.266761435842, BIC Calculated =3862.255434337015\n",
      "ARIMA (0, 1, 1) x (0, 0, 0, 10) : AIC Calculated =4353.738444144726, BIC Calculated =4360.875133152248\n",
      "ARIMA (0, 1, 1) x (0, 0, 1, 10) : AIC Calculated =4003.9528757739085, BIC Calculated =4014.541163036443\n",
      "ARIMA (0, 1, 1) x (0, 1, 0, 10) : AIC Calculated =4142.687873441871, BIC Calculated =4149.746731616893\n",
      "ARIMA (0, 1, 1) x (0, 1, 1, 10) : AIC Calculated =3830.6727907871687, BIC Calculated =3841.139603965639\n",
      "ARIMA (0, 1, 1) x (1, 0, 0, 10) : AIC Calculated =4211.761626177697, BIC Calculated =4222.373628978752\n",
      "ARIMA (0, 1, 1) x (1, 0, 1, 10) : AIC Calculated =3952.4637125415143, BIC Calculated =3966.58142889156\n",
      "ARIMA (0, 1, 1) x (1, 1, 0, 10) : AIC Calculated =3870.6245361077044, BIC Calculated =3881.116040783584\n",
      "ARIMA (0, 1, 1) x (1, 1, 1, 10) : AIC Calculated =3828.5522830282525, BIC Calculated =3842.5080339328792\n",
      "ARIMA (0, 1, 1) x (0, 0, 0, 11) : AIC Calculated =4353.738444144726, BIC Calculated =4360.875133152248\n",
      "ARIMA (0, 1, 1) x (0, 0, 1, 11) : AIC Calculated =4018.693202677281, BIC Calculated =4029.2695614946765\n",
      "ARIMA (0, 1, 1) x (0, 1, 0, 11) : AIC Calculated =4163.002597144596, BIC Calculated =4170.053503022859\n",
      "ARIMA (0, 1, 1) x (0, 1, 1, 11) : AIC Calculated =3850.2302526832937, BIC Calculated =3860.67216945332\n",
      "ARIMA (0, 1, 1) x (1, 0, 0, 11) : AIC Calculated =4200.958733646326, BIC Calculated =4211.558902112509\n",
      "ARIMA (0, 1, 1) x (1, 0, 1, 11) : AIC Calculated =3980.845188565242, BIC Calculated =3994.9470003217693\n",
      "ARIMA (0, 1, 1) x (1, 1, 0, 11) : AIC Calculated =3917.657813832602, BIC Calculated =3928.1246270110723\n",
      "ARIMA (0, 1, 1) x (1, 1, 1, 11) : AIC Calculated =3847.413288387314, BIC Calculated =3861.335844080682\n",
      "ARIMA (0, 1, 1) x (0, 0, 0, 12) : AIC Calculated =4353.738444144726, BIC Calculated =4360.875133152248\n",
      "ARIMA (0, 1, 1) x (0, 0, 1, 12) : AIC Calculated =4012.140017798817, BIC Calculated =4022.704400552404\n",
      "ARIMA (0, 1, 1) x (0, 1, 0, 12) : AIC Calculated =4183.5850608729115, BIC Calculated =4190.627982708636\n",
      "ARIMA (0, 1, 1) x (0, 1, 1, 12) : AIC Calculated =3846.511115660365, BIC Calculated =3856.927927681379\n",
      "ARIMA (0, 1, 1) x (1, 0, 0, 12) : AIC Calculated =4184.859537147248, BIC Calculated =4195.447824409783\n",
      "ARIMA (0, 1, 1) x (1, 0, 1, 12) : AIC Calculated =3984.6120907179525, BIC Calculated =3998.6979343894013\n",
      "ARIMA (0, 1, 1) x (1, 1, 0, 12) : AIC Calculated =3884.205234507456, BIC Calculated =3894.6471512774824\n",
      "ARIMA (0, 1, 1) x (1, 1, 1, 12) : AIC Calculated =3845.0374593726237, BIC Calculated =3858.9265420673096\n",
      "ARIMA (1, 0, 0) x (0, 0, 0, 0) : AIC Calculated =4713.930258225683, BIC Calculated =4721.082156431976\n"
     ]
    },
    {
     "name": "stderr",
     "output_type": "stream",
     "text": [
      "C:\\Users\\Rahkeem\\Anaconda3\\envs\\learn-env\\lib\\site-packages\\statsmodels\\base\\model.py:508: ConvergenceWarning: Maximum Likelihood optimization failed to converge. Check mle_retvals\n",
      "  \"Check mle_retvals\", ConvergenceWarning)\n"
     ]
    },
    {
     "name": "stdout",
     "output_type": "stream",
     "text": [
      "ARIMA (1, 0, 0) x (0, 0, 1, 0) : AIC Calculated =4352.508501670781, BIC Calculated =4363.224963767314\n",
      "ARIMA (1, 0, 0) x (1, 0, 0, 0) : AIC Calculated =3640.4331361430523, BIC Calculated =3651.1495982395854\n",
      "ARIMA (1, 0, 0) x (1, 0, 1, 0) : AIC Calculated =4508.249943775562, BIC Calculated =4522.538559904274\n",
      "ARIMA (1, 0, 0) x (0, 0, 0, 1) : AIC Calculated =4713.930258225683, BIC Calculated =4721.082156431976\n"
     ]
    },
    {
     "name": "stderr",
     "output_type": "stream",
     "text": [
      "C:\\Users\\Rahkeem\\Anaconda3\\envs\\learn-env\\lib\\site-packages\\statsmodels\\base\\model.py:508: ConvergenceWarning: Maximum Likelihood optimization failed to converge. Check mle_retvals\n",
      "  \"Check mle_retvals\", ConvergenceWarning)\n"
     ]
    },
    {
     "name": "stdout",
     "output_type": "stream",
     "text": [
      "ARIMA (1, 0, 0) x (0, 0, 1, 1) : AIC Calculated =4352.508501670781, BIC Calculated =4363.224963767314\n",
      "ARIMA (1, 0, 0) x (0, 1, 0, 1) : AIC Calculated =3638.4991625539355, BIC Calculated =3645.6434706182913\n",
      "ARIMA (1, 0, 0) x (0, 1, 1, 1) : AIC Calculated =3570.8648862424443, BIC Calculated =3581.5699197537274\n",
      "ARIMA (1, 0, 0) x (1, 0, 0, 1) : AIC Calculated =3640.4331361430523, BIC Calculated =3651.1495982395854\n",
      "ARIMA (1, 0, 0) x (1, 0, 1, 1) : AIC Calculated =4508.249943775562, BIC Calculated =4522.538559904274\n",
      "ARIMA (1, 0, 0) x (1, 1, 0, 1) : AIC Calculated =3602.8042646164286, BIC Calculated =3613.5092981277116\n",
      "ARIMA (1, 0, 0) x (1, 1, 1, 1) : AIC Calculated =3580.0660809845836, BIC Calculated =3594.339458999628\n",
      "ARIMA (1, 0, 0) x (0, 0, 0, 2) : AIC Calculated =4713.930258225683, BIC Calculated =4721.082156431976\n",
      "ARIMA (1, 0, 0) x (0, 0, 1, 2) : AIC Calculated =4500.749323568838, BIC Calculated =4511.454357080122\n",
      "ARIMA (1, 0, 0) x (0, 1, 0, 2) : AIC Calculated =3894.642882609543, BIC Calculated =3901.7795716170654\n",
      "ARIMA (1, 0, 0) x (0, 1, 1, 2) : AIC Calculated =3843.010223401735, BIC Calculated =3853.6922682947816\n",
      "ARIMA (1, 0, 0) x (1, 0, 0, 2) : AIC Calculated =3894.993473345694, BIC Calculated =3905.698506856977\n",
      "ARIMA (1, 0, 0) x (1, 0, 1, 2) : AIC Calculated =4501.5338856317885, BIC Calculated =4515.807263646833\n",
      "ARIMA (1, 0, 0) x (1, 1, 0, 2) : AIC Calculated =3830.3058727894445, BIC Calculated =3840.987917682491\n",
      "ARIMA (1, 0, 0) x (1, 1, 1, 2) : AIC Calculated =3844.892763082035, BIC Calculated =3859.135489606097\n",
      "ARIMA (1, 0, 0) x (0, 0, 0, 3) : AIC Calculated =4713.930258225683, BIC Calculated =4721.082156431976\n",
      "ARIMA (1, 0, 0) x (0, 0, 1, 3) : AIC Calculated =4485.9452265547325, BIC Calculated =4496.6387877767\n",
      "ARIMA (1, 0, 0) x (0, 1, 0, 3) : AIC Calculated =4024.1859380819033, BIC Calculated =4031.314978896549\n",
      "ARIMA (1, 0, 0) x (0, 1, 1, 3) : AIC Calculated =3941.397317789866, BIC Calculated =3952.056196544631\n",
      "ARIMA (1, 0, 0) x (1, 0, 0, 3) : AIC Calculated =4022.310107474715, BIC Calculated =4033.0036686966832\n",
      "ARIMA (1, 0, 0) x (1, 0, 1, 3) : AIC Calculated =4486.2904823827275, BIC Calculated =4500.548564012019\n",
      "ARIMA (1, 0, 0) x (1, 1, 0, 3) : AIC Calculated =3937.565143975339, BIC Calculated =3948.224022730104\n",
      "ARIMA (1, 0, 0) x (1, 1, 1, 3) : AIC Calculated =3935.767228146069, BIC Calculated =3949.9790664857555\n",
      "ARIMA (1, 0, 0) x (0, 0, 0, 4) : AIC Calculated =4713.930258225683, BIC Calculated =4721.082156431976\n",
      "ARIMA (1, 0, 0) x (0, 0, 1, 4) : AIC Calculated =4951.641194803824, BIC Calculated =4962.323239696871\n",
      "ARIMA (1, 0, 0) x (0, 1, 0, 4) : AIC Calculated =4120.074149324348, BIC Calculated =4127.195512586379\n",
      "ARIMA (1, 0, 0) x (0, 1, 1, 4) : AIC Calculated =4040.354395074464, BIC Calculated =4050.9899274079025\n",
      "ARIMA (1, 0, 0) x (1, 0, 0, 4) : AIC Calculated =4115.314930530842, BIC Calculated =4125.996975423888\n",
      "ARIMA (1, 0, 0) x (1, 0, 1, 4) : AIC Calculated =4473.94482166777, BIC Calculated =4488.187548191832\n",
      "ARIMA (1, 0, 0) x (1, 1, 0, 4) : AIC Calculated =4026.440883610813, BIC Calculated =4037.076415944252\n",
      "ARIMA (1, 0, 0) x (1, 1, 1, 4) : AIC Calculated =4035.8160962007837, BIC Calculated =4049.996805978702\n",
      "ARIMA (1, 0, 0) x (0, 0, 0, 5) : AIC Calculated =4713.930258225683, BIC Calculated =4721.082156431976\n",
      "ARIMA (1, 0, 0) x (0, 0, 1, 5) : AIC Calculated =4483.214626752082, BIC Calculated =4493.885110937181\n",
      "ARIMA (1, 0, 0) x (0, 1, 0, 5) : AIC Calculated =4194.060052114766, BIC Calculated =4201.173708238165\n",
      "ARIMA (1, 0, 0) x (0, 1, 1, 5) : AIC Calculated =4106.746396818229, BIC Calculated =4117.358399619285\n",
      "ARIMA (1, 0, 0) x (1, 0, 0, 5) : AIC Calculated =4185.784452643749, BIC Calculated =4196.454936828848\n",
      "ARIMA (1, 0, 0) x (1, 0, 1, 5) : AIC Calculated =4481.899980240317, BIC Calculated =4496.127292487115\n",
      "ARIMA (1, 0, 0) x (1, 1, 0, 5) : AIC Calculated =4094.2620482049924, BIC Calculated =4104.874051006048\n"
     ]
    },
    {
     "name": "stderr",
     "output_type": "stream",
     "text": [
      "C:\\Users\\Rahkeem\\Anaconda3\\envs\\learn-env\\lib\\site-packages\\statsmodels\\base\\model.py:508: ConvergenceWarning: Maximum Likelihood optimization failed to converge. Check mle_retvals\n",
      "  \"Check mle_retvals\", ConvergenceWarning)\n"
     ]
    },
    {
     "name": "stdout",
     "output_type": "stream",
     "text": [
      "ARIMA (1, 0, 0) x (1, 1, 1, 5) : AIC Calculated =4110.202047696446, BIC Calculated =4124.351384764521\n",
      "ARIMA (1, 0, 0) x (0, 0, 0, 6) : AIC Calculated =4713.930258225683, BIC Calculated =4721.082156431976\n",
      "ARIMA (1, 0, 0) x (0, 0, 1, 6) : AIC Calculated =4377.359057732614, BIC Calculated =4388.017936487379\n",
      "ARIMA (1, 0, 0) x (0, 1, 0, 6) : AIC Calculated =4243.695247465173, BIC Calculated =4250.801166635017\n",
      "ARIMA (1, 0, 0) x (0, 1, 1, 6) : AIC Calculated =4134.123967367165, BIC Calculated =4144.7122546297\n",
      "ARIMA (1, 0, 0) x (1, 0, 0, 6) : AIC Calculated =4410.733674290942, BIC Calculated =4421.392553045707\n",
      "ARIMA (1, 0, 0) x (1, 0, 1, 6) : AIC Calculated =4458.9085637535245, BIC Calculated =4473.120402093211\n",
      "ARIMA (1, 0, 0) x (1, 1, 0, 6) : AIC Calculated =4120.2159826211, BIC Calculated =4130.804269883634\n"
     ]
    },
    {
     "name": "stderr",
     "output_type": "stream",
     "text": [
      "C:\\Users\\Rahkeem\\Anaconda3\\envs\\learn-env\\lib\\site-packages\\statsmodels\\base\\model.py:508: ConvergenceWarning: Maximum Likelihood optimization failed to converge. Check mle_retvals\n",
      "  \"Check mle_retvals\", ConvergenceWarning)\n"
     ]
    },
    {
     "name": "stdout",
     "output_type": "stream",
     "text": [
      "ARIMA (1, 0, 0) x (1, 1, 1, 6) : AIC Calculated =4120.540956039558, BIC Calculated =4134.658672389604\n",
      "ARIMA (1, 0, 0) x (0, 0, 0, 7) : AIC Calculated =4713.930258225683, BIC Calculated =4721.082156431976\n",
      "ARIMA (1, 0, 0) x (0, 0, 1, 7) : AIC Calculated =4869.862282870492, BIC Calculated =4880.509511125178\n",
      "ARIMA (1, 0, 0) x (0, 1, 0, 7) : AIC Calculated =4281.095779336926, BIC Calculated =4288.193931506717\n",
      "ARIMA (1, 0, 0) x (0, 1, 1, 7) : AIC Calculated =4145.565484322589, BIC Calculated =4156.129867076176\n",
      "ARIMA (1, 0, 0) x (1, 0, 0, 7) : AIC Calculated =4406.499869646742, BIC Calculated =4417.1470979014275\n"
     ]
    },
    {
     "name": "stderr",
     "output_type": "stream",
     "text": [
      "C:\\Users\\Rahkeem\\Anaconda3\\envs\\learn-env\\lib\\site-packages\\statsmodels\\base\\model.py:508: ConvergenceWarning: Maximum Likelihood optimization failed to converge. Check mle_retvals\n",
      "  \"Check mle_retvals\", ConvergenceWarning)\n"
     ]
    },
    {
     "name": "stdout",
     "output_type": "stream",
     "text": [
      "ARIMA (1, 0, 0) x (1, 0, 1, 7) : AIC Calculated =4868.5114578846305, BIC Calculated =4882.707762224211\n",
      "ARIMA (1, 0, 0) x (1, 1, 0, 7) : AIC Calculated =4132.651390119914, BIC Calculated =4143.215772873501\n",
      "ARIMA (1, 0, 0) x (1, 1, 1, 7) : AIC Calculated =4134.20754235493, BIC Calculated =4148.293386026379\n",
      "ARIMA (1, 0, 0) x (0, 0, 0, 8) : AIC Calculated =4713.930258225683, BIC Calculated =4721.082156431976\n",
      "ARIMA (1, 0, 0) x (0, 0, 1, 8) : AIC Calculated =4841.419905727825, BIC Calculated =4852.055438061263\n",
      "ARIMA (1, 0, 0) x (0, 1, 0, 8) : AIC Calculated =4313.701267989651, BIC Calculated =4320.79162287861\n",
      "ARIMA (1, 0, 0) x (0, 1, 1, 8) : AIC Calculated =4160.681562211603, BIC Calculated =4171.221848450098\n",
      "ARIMA (1, 0, 0) x (1, 0, 0, 8) : AIC Calculated =4294.141195024732, BIC Calculated =4304.77672735817\n",
      "ARIMA (1, 0, 0) x (1, 0, 1, 8) : AIC Calculated =4433.023105480284, BIC Calculated =4447.203815258203\n",
      "ARIMA (1, 0, 0) x (1, 1, 0, 8) : AIC Calculated =4146.08722695739, BIC Calculated =4156.6275131958855\n",
      "ARIMA (1, 0, 0) x (1, 1, 1, 8) : AIC Calculated =4155.993464882401, BIC Calculated =4170.047179867061\n",
      "ARIMA (1, 0, 0) x (0, 0, 0, 9) : AIC Calculated =4713.930258225683, BIC Calculated =4721.082156431976\n",
      "ARIMA (1, 0, 0) x (0, 0, 1, 9) : AIC Calculated =4415.3792229259025, BIC Calculated =4426.003013561378\n",
      "ARIMA (1, 0, 0) x (0, 1, 0, 9) : AIC Calculated =4339.648765087285, BIC Calculated =4346.731292177602\n",
      "ARIMA (1, 0, 0) x (0, 1, 1, 9) : AIC Calculated =4172.157614817872, BIC Calculated =4182.673609425669\n",
      "ARIMA (1, 0, 0) x (1, 0, 0, 9) : AIC Calculated =4400.022097894153, BIC Calculated =4410.645888529629\n",
      "ARIMA (1, 0, 0) x (1, 0, 1, 9) : AIC Calculated =4415.737351925415, BIC Calculated =4429.902406106049\n",
      "ARIMA (1, 0, 0) x (1, 1, 0, 9) : AIC Calculated =4158.031429114204, BIC Calculated =4168.547423722001\n",
      "ARIMA (1, 0, 0) x (1, 1, 1, 9) : AIC Calculated =4161.989068265426, BIC Calculated =4176.010394409155\n",
      "ARIMA (1, 0, 0) x (0, 0, 0, 10) : AIC Calculated =4713.930258225683, BIC Calculated =4721.082156431976\n",
      "ARIMA (1, 0, 0) x (0, 0, 1, 10) : AIC Calculated =4401.871268193392, BIC Calculated =4412.483270994448\n",
      "ARIMA (1, 0, 0) x (0, 1, 0, 10) : AIC Calculated =4360.78826946405, BIC Calculated =4367.862937998088\n",
      "ARIMA (1, 0, 0) x (0, 1, 1, 10) : AIC Calculated =4178.811056654222, BIC Calculated =4189.3025613301015\n",
      "ARIMA (1, 0, 0) x (1, 0, 0, 10) : AIC Calculated =4396.780037499106, BIC Calculated =4407.392040300161\n",
      "ARIMA (1, 0, 0) x (1, 0, 1, 10) : AIC Calculated =4402.69863048387, BIC Calculated =4416.847967551945\n",
      "ARIMA (1, 0, 0) x (1, 1, 0, 10) : AIC Calculated =4166.844404193174, BIC Calculated =4177.335908869054\n",
      "ARIMA (1, 0, 0) x (1, 1, 1, 10) : AIC Calculated =4223.710903476042, BIC Calculated =4237.699576377216\n",
      "ARIMA (1, 0, 0) x (0, 0, 0, 11) : AIC Calculated =4713.930258225683, BIC Calculated =4721.082156431976\n",
      "ARIMA (1, 0, 0) x (0, 0, 1, 11) : AIC Calculated =4343.231876957963, BIC Calculated =4353.832045424146\n",
      "ARIMA (1, 0, 0) x (0, 1, 0, 11) : AIC Calculated =4381.213734150218, BIC Calculated =4388.280513127674\n",
      "ARIMA (1, 0, 0) x (0, 1, 1, 11) : AIC Calculated =4176.5534650021955, BIC Calculated =4187.020278180666\n",
      "ARIMA (1, 0, 0) x (1, 0, 0, 11) : AIC Calculated =4394.7796094163195, BIC Calculated =4405.379777882502\n",
      "ARIMA (1, 0, 0) x (1, 0, 1, 11) : AIC Calculated =4394.132557861781, BIC Calculated =4408.266115816691\n",
      "ARIMA (1, 0, 0) x (1, 1, 0, 11) : AIC Calculated =4176.60784495005, BIC Calculated =4187.07465812852\n",
      "ARIMA (1, 0, 0) x (1, 1, 1, 11) : AIC Calculated =4172.703791786085, BIC Calculated =4186.659542690712\n",
      "ARIMA (1, 0, 0) x (0, 0, 0, 12) : AIC Calculated =4713.930258225683, BIC Calculated =4721.082156431976\n",
      "ARIMA (1, 0, 0) x (0, 0, 1, 12) : AIC Calculated =4388.244615553987, BIC Calculated =4398.832902816522\n",
      "ARIMA (1, 0, 0) x (0, 1, 0, 12) : AIC Calculated =4400.3139472640905, BIC Calculated =4407.372805439113\n",
      "ARIMA (1, 0, 0) x (0, 1, 1, 12) : AIC Calculated =4189.61078231897, BIC Calculated =4200.052699088997\n",
      "ARIMA (1, 0, 0) x (1, 0, 0, 12) : AIC Calculated =4393.6798313346735, BIC Calculated =4404.268118597208\n",
      "ARIMA (1, 0, 0) x (1, 0, 1, 12) : AIC Calculated =4388.37368091981, BIC Calculated =4402.491397269856\n",
      "ARIMA (1, 0, 0) x (1, 1, 0, 12) : AIC Calculated =4184.742362050987, BIC Calculated =4195.184278821013\n",
      "ARIMA (1, 0, 0) x (1, 1, 1, 12) : AIC Calculated =4260.4824533940155, BIC Calculated =4274.405009087383\n",
      "ARIMA (1, 0, 1) x (0, 0, 0, 0) : AIC Calculated =4352.49323085384, BIC Calculated =4363.209692950373\n"
     ]
    },
    {
     "name": "stderr",
     "output_type": "stream",
     "text": [
      "C:\\Users\\Rahkeem\\Anaconda3\\envs\\learn-env\\lib\\site-packages\\statsmodels\\base\\model.py:508: ConvergenceWarning: Maximum Likelihood optimization failed to converge. Check mle_retvals\n",
      "  \"Check mle_retvals\", ConvergenceWarning)\n"
     ]
    },
    {
     "name": "stdout",
     "output_type": "stream",
     "text": [
      "ARIMA (1, 0, 1) x (0, 0, 1, 0) : AIC Calculated =4139.2014998035365, BIC Calculated =4153.474877818581\n",
      "ARIMA (1, 0, 1) x (1, 0, 0, 0) : AIC Calculated =4502.837158148839, BIC Calculated =4517.125774277551\n",
      "ARIMA (1, 0, 1) x (1, 0, 1, 0) : AIC Calculated =3575.3976579697046, BIC Calculated =3593.23938048851\n",
      "ARIMA (1, 0, 1) x (0, 0, 0, 1) : AIC Calculated =4352.49323085384, BIC Calculated =4363.209692950373\n"
     ]
    },
    {
     "name": "stderr",
     "output_type": "stream",
     "text": [
      "C:\\Users\\Rahkeem\\Anaconda3\\envs\\learn-env\\lib\\site-packages\\statsmodels\\base\\model.py:508: ConvergenceWarning: Maximum Likelihood optimization failed to converge. Check mle_retvals\n",
      "  \"Check mle_retvals\", ConvergenceWarning)\n"
     ]
    },
    {
     "name": "stdout",
     "output_type": "stream",
     "text": [
      "ARIMA (1, 0, 1) x (0, 0, 1, 1) : AIC Calculated =4139.2014998035365, BIC Calculated =4153.474877818581\n",
      "ARIMA (1, 0, 1) x (0, 1, 0, 1) : AIC Calculated =3571.260462037554, BIC Calculated =3581.965495548837\n",
      "ARIMA (1, 0, 1) x (0, 1, 1, 1) : AIC Calculated =3557.8198767033873, BIC Calculated =3572.077958332678\n",
      "ARIMA (1, 0, 1) x (1, 0, 0, 1) : AIC Calculated =4502.837158148839, BIC Calculated =4517.125774277551\n",
      "ARIMA (1, 0, 1) x (1, 0, 1, 1) : AIC Calculated =3575.3976579697046, BIC Calculated =3593.23938048851\n",
      "ARIMA (1, 0, 1) x (1, 1, 0, 1) : AIC Calculated =3580.0660809718634, BIC Calculated =3594.3394589869076\n",
      "ARIMA (1, 0, 1) x (1, 1, 1, 1) : AIC Calculated =3579.709429476657, BIC Calculated =3597.5320315132703\n",
      "ARIMA (1, 0, 1) x (0, 0, 0, 2) : AIC Calculated =4352.49323085384, BIC Calculated =4363.209692950373\n",
      "ARIMA (1, 0, 1) x (0, 0, 1, 2) : AIC Calculated =4422.310965802847, BIC Calculated =4436.569047432138\n",
      "ARIMA (1, 0, 1) x (0, 1, 0, 2) : AIC Calculated =3777.5919558932583, BIC Calculated =3788.2855171152264\n"
     ]
    },
    {
     "name": "stderr",
     "output_type": "stream",
     "text": [
      "C:\\Users\\Rahkeem\\Anaconda3\\envs\\learn-env\\lib\\site-packages\\statsmodels\\base\\model.py:508: ConvergenceWarning: Maximum Likelihood optimization failed to converge. Check mle_retvals\n",
      "  \"Check mle_retvals\", ConvergenceWarning)\n"
     ]
    },
    {
     "name": "stdout",
     "output_type": "stream",
     "text": [
      "ARIMA (1, 0, 1) x (0, 1, 1, 2) : AIC Calculated =3592.289125997644, BIC Calculated =3606.5164382444423\n",
      "ARIMA (1, 0, 1) x (1, 0, 0, 2) : AIC Calculated =4484.725110163192, BIC Calculated =4498.998488178237\n"
     ]
    },
    {
     "name": "stderr",
     "output_type": "stream",
     "text": [
      "C:\\Users\\Rahkeem\\Anaconda3\\envs\\learn-env\\lib\\site-packages\\statsmodels\\base\\model.py:508: ConvergenceWarning: Maximum Likelihood optimization failed to converge. Check mle_retvals\n",
      "  \"Check mle_retvals\", ConvergenceWarning)\n"
     ]
    },
    {
     "name": "stdout",
     "output_type": "stream",
     "text": [
      "ARIMA (1, 0, 1) x (1, 0, 1, 2) : AIC Calculated =4406.8160718566, BIC Calculated =4424.638673893213\n",
      "ARIMA (1, 0, 1) x (1, 1, 0, 2) : AIC Calculated =3606.6641651274754, BIC Calculated =3620.9068916515375\n"
     ]
    },
    {
     "name": "stderr",
     "output_type": "stream",
     "text": [
      "C:\\Users\\Rahkeem\\Anaconda3\\envs\\learn-env\\lib\\site-packages\\statsmodels\\base\\model.py:508: ConvergenceWarning: Maximum Likelihood optimization failed to converge. Check mle_retvals\n",
      "  \"Check mle_retvals\", ConvergenceWarning)\n"
     ]
    },
    {
     "name": "stdout",
     "output_type": "stream",
     "text": [
      "ARIMA (1, 0, 1) x (1, 1, 1, 2) : AIC Calculated =3595.301433170556, BIC Calculated =3613.0855734790534\n",
      "ARIMA (1, 0, 1) x (0, 0, 0, 3) : AIC Calculated =4352.49323085384, BIC Calculated =4363.209692950373\n"
     ]
    },
    {
     "name": "stderr",
     "output_type": "stream",
     "text": [
      "C:\\Users\\Rahkeem\\Anaconda3\\envs\\learn-env\\lib\\site-packages\\statsmodels\\base\\model.py:508: ConvergenceWarning: Maximum Likelihood optimization failed to converge. Check mle_retvals\n",
      "  \"Check mle_retvals\", ConvergenceWarning)\n"
     ]
    },
    {
     "name": "stdout",
     "output_type": "stream",
     "text": [
      "ARIMA (1, 0, 1) x (0, 0, 1, 3) : AIC Calculated =4086.8280416777825, BIC Calculated =4101.070768201845\n",
      "ARIMA (1, 0, 1) x (0, 1, 0, 3) : AIC Calculated =3906.982469869, BIC Calculated =3917.6645147620466\n",
      "ARIMA (1, 0, 1) x (0, 1, 1, 3) : AIC Calculated =3735.6975248154386, BIC Calculated =3749.8938291550194\n",
      "ARIMA (1, 0, 1) x (1, 0, 0, 3) : AIC Calculated =4825.445284540803, BIC Calculated =4839.703366170094\n"
     ]
    },
    {
     "name": "stderr",
     "output_type": "stream",
     "text": [
      "C:\\Users\\Rahkeem\\Anaconda3\\envs\\learn-env\\lib\\site-packages\\statsmodels\\base\\model.py:508: ConvergenceWarning: Maximum Likelihood optimization failed to converge. Check mle_retvals\n",
      "  \"Check mle_retvals\", ConvergenceWarning)\n"
     ]
    },
    {
     "name": "stdout",
     "output_type": "stream",
     "text": [
      "ARIMA (1, 0, 1) x (1, 0, 1, 3) : AIC Calculated =4399.3175218074575, BIC Calculated =4417.120929962535\n",
      "ARIMA (1, 0, 1) x (1, 1, 0, 3) : AIC Calculated =3760.925706780037, BIC Calculated =3775.1375451197237\n",
      "ARIMA (1, 0, 1) x (1, 1, 1, 3) : AIC Calculated =3737.3897097948084, BIC Calculated =3755.1350902192844\n",
      "ARIMA (1, 0, 1) x (0, 0, 0, 4) : AIC Calculated =4352.49323085384, BIC Calculated =4363.209692950373\n",
      "ARIMA (1, 0, 1) x (0, 0, 1, 4) : AIC Calculated =4752.003891854443, BIC Calculated =4766.231204101241\n",
      "ARIMA (1, 0, 1) x (0, 1, 0, 4) : AIC Calculated =4002.0505556516473, BIC Calculated =4012.721039836746\n",
      "ARIMA (1, 0, 1) x (0, 1, 1, 4) : AIC Calculated =3722.9691516750995, BIC Calculated =3737.1342058557334\n"
     ]
    },
    {
     "name": "stderr",
     "output_type": "stream",
     "text": [
      "C:\\Users\\Rahkeem\\Anaconda3\\envs\\learn-env\\lib\\site-packages\\statsmodels\\base\\model.py:508: ConvergenceWarning: Maximum Likelihood optimization failed to converge. Check mle_retvals\n",
      "  \"Check mle_retvals\", ConvergenceWarning)\n"
     ]
    },
    {
     "name": "stdout",
     "output_type": "stream",
     "text": [
      "ARIMA (1, 0, 1) x (1, 0, 0, 4) : AIC Calculated =4077.192530285082, BIC Calculated =4091.435256809144\n"
     ]
    },
    {
     "name": "stderr",
     "output_type": "stream",
     "text": [
      "C:\\Users\\Rahkeem\\Anaconda3\\envs\\learn-env\\lib\\site-packages\\statsmodels\\base\\model.py:508: ConvergenceWarning: Maximum Likelihood optimization failed to converge. Check mle_retvals\n",
      "  \"Check mle_retvals\", ConvergenceWarning)\n"
     ]
    },
    {
     "name": "stdout",
     "output_type": "stream",
     "text": [
      "ARIMA (1, 0, 1) x (1, 0, 1, 4) : AIC Calculated =4392.156372967471, BIC Calculated =4409.940513275968\n",
      "ARIMA (1, 0, 1) x (1, 1, 0, 4) : AIC Calculated =3748.2349635822247, BIC Calculated =3762.415673360143\n"
     ]
    },
    {
     "name": "stderr",
     "output_type": "stream",
     "text": [
      "C:\\Users\\Rahkeem\\Anaconda3\\envs\\learn-env\\lib\\site-packages\\statsmodels\\base\\model.py:508: ConvergenceWarning: Maximum Likelihood optimization failed to converge. Check mle_retvals\n",
      "  \"Check mle_retvals\", ConvergenceWarning)\n"
     ]
    },
    {
     "name": "stdout",
     "output_type": "stream",
     "text": [
      "ARIMA (1, 0, 1) x (1, 1, 1, 4) : AIC Calculated =3724.0770101072194, BIC Calculated =3741.7833278330113\n",
      "ARIMA (1, 0, 1) x (0, 0, 0, 5) : AIC Calculated =4352.49323085384, BIC Calculated =4363.209692950373\n",
      "ARIMA (1, 0, 1) x (0, 0, 1, 5) : AIC Calculated =4385.057565467047, BIC Calculated =4399.269403806734\n",
      "ARIMA (1, 0, 1) x (0, 1, 0, 5) : AIC Calculated =4076.913169073184, BIC Calculated =4087.5720478279486\n"
     ]
    },
    {
     "name": "stderr",
     "output_type": "stream",
     "text": [
      "C:\\Users\\Rahkeem\\Anaconda3\\envs\\learn-env\\lib\\site-packages\\statsmodels\\base\\model.py:508: ConvergenceWarning: Maximum Likelihood optimization failed to converge. Check mle_retvals\n",
      "  \"Check mle_retvals\", ConvergenceWarning)\n"
     ]
    },
    {
     "name": "stdout",
     "output_type": "stream",
     "text": [
      "ARIMA (1, 0, 1) x (0, 1, 1, 5) : AIC Calculated =3841.4964616543684, BIC Calculated =3855.6300196092784\n",
      "ARIMA (1, 0, 1) x (1, 0, 0, 5) : AIC Calculated =4434.836468291049, BIC Calculated =4449.0637805378465\n",
      "ARIMA (1, 0, 1) x (1, 0, 1, 5) : AIC Calculated =4386.837922187961, BIC Calculated =4404.60272011257\n",
      "ARIMA (1, 0, 1) x (1, 1, 0, 5) : AIC Calculated =3860.852077908134, BIC Calculated =3875.0014149762083\n"
     ]
    },
    {
     "name": "stderr",
     "output_type": "stream",
     "text": [
      "C:\\Users\\Rahkeem\\Anaconda3\\envs\\learn-env\\lib\\site-packages\\statsmodels\\base\\model.py:508: ConvergenceWarning: Maximum Likelihood optimization failed to converge. Check mle_retvals\n",
      "  \"Check mle_retvals\", ConvergenceWarning)\n"
     ]
    },
    {
     "name": "stdout",
     "output_type": "stream",
     "text": [
      "ARIMA (1, 0, 1) x (1, 1, 1, 5) : AIC Calculated =3855.0546947512294, BIC Calculated =3872.721642194867\n",
      "ARIMA (1, 0, 1) x (0, 0, 0, 6) : AIC Calculated =4352.49323085384, BIC Calculated =4363.209692950373\n",
      "ARIMA (1, 0, 1) x (0, 0, 1, 6) : AIC Calculated =4361.826672418956, BIC Calculated =4376.022976758537\n",
      "ARIMA (1, 0, 1) x (0, 1, 0, 6) : AIC Calculated =4120.425533088194, BIC Calculated =4131.07276134288\n"
     ]
    },
    {
     "name": "stderr",
     "output_type": "stream",
     "text": [
      "C:\\Users\\Rahkeem\\Anaconda3\\envs\\learn-env\\lib\\site-packages\\statsmodels\\base\\model.py:508: ConvergenceWarning: Maximum Likelihood optimization failed to converge. Check mle_retvals\n",
      "  \"Check mle_retvals\", ConvergenceWarning)\n"
     ]
    },
    {
     "name": "stdout",
     "output_type": "stream",
     "text": [
      "ARIMA (1, 0, 1) x (0, 1, 1, 6) : AIC Calculated =3814.65333902149, BIC Calculated =3828.755150778017\n",
      "ARIMA (1, 0, 1) x (1, 0, 0, 6) : AIC Calculated =4417.502934304509, BIC Calculated =4431.714772644195\n"
     ]
    },
    {
     "name": "stderr",
     "output_type": "stream",
     "text": [
      "C:\\Users\\Rahkeem\\Anaconda3\\envs\\learn-env\\lib\\site-packages\\statsmodels\\base\\model.py:508: ConvergenceWarning: Maximum Likelihood optimization failed to converge. Check mle_retvals\n",
      "  \"Check mle_retvals\", ConvergenceWarning)\n"
     ]
    },
    {
     "name": "stdout",
     "output_type": "stream",
     "text": [
      "ARIMA (1, 0, 1) x (1, 0, 1, 6) : AIC Calculated =4363.665740367951, BIC Calculated =4381.411120792427\n",
      "ARIMA (1, 0, 1) x (1, 1, 0, 6) : AIC Calculated =3929.5726487546763, BIC Calculated =3943.690365104722\n",
      "ARIMA (1, 0, 1) x (1, 1, 1, 6) : AIC Calculated =3813.2262472176944, BIC Calculated =3830.8535119133535\n",
      "ARIMA (1, 0, 1) x (0, 0, 0, 7) : AIC Calculated =4352.49323085384, BIC Calculated =4363.209692950373\n",
      "ARIMA (1, 0, 1) x (0, 0, 1, 7) : AIC Calculated =4349.933098108768, BIC Calculated =4364.113807886686\n",
      "ARIMA (1, 0, 1) x (0, 1, 0, 7) : AIC Calculated =4152.978783495503, BIC Calculated =4163.6143158289415\n"
     ]
    },
    {
     "name": "stderr",
     "output_type": "stream",
     "text": [
      "C:\\Users\\Rahkeem\\Anaconda3\\envs\\learn-env\\lib\\site-packages\\statsmodels\\base\\model.py:508: ConvergenceWarning: Maximum Likelihood optimization failed to converge. Check mle_retvals\n",
      "  \"Check mle_retvals\", ConvergenceWarning)\n"
     ]
    },
    {
     "name": "stdout",
     "output_type": "stream",
     "text": [
      "ARIMA (1, 0, 1) x (0, 1, 1, 7) : AIC Calculated =3858.81456919561, BIC Calculated =3872.884380781469\n",
      "ARIMA (1, 0, 1) x (1, 0, 0, 7) : AIC Calculated =4399.358880578566, BIC Calculated =4413.555184918147\n",
      "ARIMA (1, 0, 1) x (1, 0, 1, 7) : AIC Calculated =4351.632853443945, BIC Calculated =4369.358740666343\n",
      "ARIMA (1, 0, 1) x (1, 1, 0, 7) : AIC Calculated =3893.0091869122443, BIC Calculated =3907.095030583693\n"
     ]
    },
    {
     "name": "stderr",
     "output_type": "stream",
     "text": [
      "C:\\Users\\Rahkeem\\Anaconda3\\envs\\learn-env\\lib\\site-packages\\statsmodels\\base\\model.py:508: ConvergenceWarning: Maximum Likelihood optimization failed to converge. Check mle_retvals\n",
      "  \"Check mle_retvals\", ConvergenceWarning)\n"
     ]
    },
    {
     "name": "stdout",
     "output_type": "stream",
     "text": [
      "ARIMA (1, 0, 1) x (1, 1, 1, 7) : AIC Calculated =3855.2409359734925, BIC Calculated =3872.828200455816\n",
      "ARIMA (1, 0, 1) x (0, 0, 0, 8) : AIC Calculated =4352.49323085384, BIC Calculated =4363.209692950373\n",
      "ARIMA (1, 0, 1) x (0, 0, 1, 8) : AIC Calculated =4635.115222620284, BIC Calculated =4649.280276800918\n",
      "ARIMA (1, 0, 1) x (0, 1, 0, 8) : AIC Calculated =4184.626652994436, BIC Calculated =4195.250443629911\n"
     ]
    },
    {
     "name": "stderr",
     "output_type": "stream",
     "text": [
      "C:\\Users\\Rahkeem\\Anaconda3\\envs\\learn-env\\lib\\site-packages\\statsmodels\\base\\model.py:508: ConvergenceWarning: Maximum Likelihood optimization failed to converge. Check mle_retvals\n",
      "  \"Check mle_retvals\", ConvergenceWarning)\n"
     ]
    },
    {
     "name": "stdout",
     "output_type": "stream",
     "text": [
      "ARIMA (1, 0, 1) x (0, 1, 1, 8) : AIC Calculated =3840.50380212728, BIC Calculated =3854.5413554737916\n",
      "ARIMA (1, 0, 1) x (1, 0, 0, 8) : AIC Calculated =4384.265744241107, BIC Calculated =4398.446454019026\n",
      "ARIMA (1, 0, 1) x (1, 0, 1, 8) : AIC Calculated =4333.069301167692, BIC Calculated =4350.7756188934845\n"
     ]
    },
    {
     "name": "stderr",
     "output_type": "stream",
     "text": [
      "C:\\Users\\Rahkeem\\Anaconda3\\envs\\learn-env\\lib\\site-packages\\statsmodels\\base\\model.py:508: ConvergenceWarning: Maximum Likelihood optimization failed to converge. Check mle_retvals\n",
      "  \"Check mle_retvals\", ConvergenceWarning)\n"
     ]
    },
    {
     "name": "stdout",
     "output_type": "stream",
     "text": [
      "ARIMA (1, 0, 1) x (1, 1, 0, 8) : AIC Calculated =3869.771915531587, BIC Calculated =3883.825630516247\n"
     ]
    },
    {
     "name": "stderr",
     "output_type": "stream",
     "text": [
      "C:\\Users\\Rahkeem\\Anaconda3\\envs\\learn-env\\lib\\site-packages\\statsmodels\\base\\model.py:508: ConvergenceWarning: Maximum Likelihood optimization failed to converge. Check mle_retvals\n",
      "  \"Check mle_retvals\", ConvergenceWarning)\n"
     ]
    },
    {
     "name": "stdout",
     "output_type": "stream",
     "text": [
      "ARIMA (1, 0, 1) x (1, 1, 1, 8) : AIC Calculated =3959.6012519505625, BIC Calculated =3977.1481936337022\n",
      "ARIMA (1, 0, 1) x (0, 0, 0, 9) : AIC Calculated =4352.49323085384, BIC Calculated =4363.209692950373\n",
      "ARIMA (1, 0, 1) x (0, 0, 1, 9) : AIC Calculated =4038.050868413149, BIC Calculated =4052.2002054812233\n",
      "ARIMA (1, 0, 1) x (0, 1, 0, 9) : AIC Calculated =4209.635946126846, BIC Calculated =4220.247948927901\n",
      "ARIMA (1, 0, 1) x (0, 1, 1, 9) : AIC Calculated =3872.1828518001803, BIC Calculated =3886.187884642359\n",
      "ARIMA (1, 0, 1) x (1, 0, 0, 9) : AIC Calculated =4368.031354093385, BIC Calculated =4382.196408274019\n",
      "ARIMA (1, 0, 1) x (1, 0, 1, 9) : AIC Calculated =4343.835368518967, BIC Calculated =4361.52203985406\n",
      "ARIMA (1, 0, 1) x (1, 1, 0, 9) : AIC Calculated =3910.094715664732, BIC Calculated =3924.1160418084614\n",
      "ARIMA (1, 0, 1) x (1, 1, 1, 9) : AIC Calculated =4167.591799028947, BIC Calculated =4185.098090081671\n",
      "ARIMA (1, 0, 1) x (0, 0, 0, 10) : AIC Calculated =4352.49323085384, BIC Calculated =4363.209692950373\n",
      "ARIMA (1, 0, 1) x (0, 0, 1, 10) : AIC Calculated =4298.8125940714035, BIC Calculated =4312.946152026314\n",
      "ARIMA (1, 0, 1) x (0, 1, 0, 10) : AIC Calculated =4227.751193244784, BIC Calculated =4238.351361710967\n"
     ]
    },
    {
     "name": "stderr",
     "output_type": "stream",
     "text": [
      "C:\\Users\\Rahkeem\\Anaconda3\\envs\\learn-env\\lib\\site-packages\\statsmodels\\base\\model.py:508: ConvergenceWarning: Maximum Likelihood optimization failed to converge. Check mle_retvals\n",
      "  \"Check mle_retvals\", ConvergenceWarning)\n"
     ]
    },
    {
     "name": "stdout",
     "output_type": "stream",
     "text": [
      "ARIMA (1, 0, 1) x (0, 1, 1, 10) : AIC Calculated =3859.882745400375, BIC Calculated =3873.8549911737373\n"
     ]
    },
    {
     "name": "stderr",
     "output_type": "stream",
     "text": [
      "C:\\Users\\Rahkeem\\Anaconda3\\envs\\learn-env\\lib\\site-packages\\statsmodels\\base\\model.py:508: ConvergenceWarning: Maximum Likelihood optimization failed to converge. Check mle_retvals\n",
      "  \"Check mle_retvals\", ConvergenceWarning)\n"
     ]
    },
    {
     "name": "stdout",
     "output_type": "stream",
     "text": [
      "ARIMA (1, 0, 1) x (1, 0, 0, 10) : AIC Calculated =4193.088827416077, BIC Calculated =4207.238164484152\n",
      "ARIMA (1, 0, 1) x (1, 0, 1, 10) : AIC Calculated =4300.606990312532, BIC Calculated =4318.273937756169\n",
      "ARIMA (1, 0, 1) x (1, 1, 0, 10) : AIC Calculated =4004.803394821248, BIC Calculated =4018.7920677224206\n"
     ]
    },
    {
     "name": "stderr",
     "output_type": "stream",
     "text": [
      "C:\\Users\\Rahkeem\\Anaconda3\\envs\\learn-env\\lib\\site-packages\\statsmodels\\base\\model.py:508: ConvergenceWarning: Maximum Likelihood optimization failed to converge. Check mle_retvals\n",
      "  \"Check mle_retvals\", ConvergenceWarning)\n"
     ]
    },
    {
     "name": "stdout",
     "output_type": "stream",
     "text": [
      "ARIMA (1, 0, 1) x (1, 1, 1, 10) : AIC Calculated =3988.5673895729324, BIC Calculated =4006.0326967896353\n",
      "ARIMA (1, 0, 1) x (0, 0, 0, 11) : AIC Calculated =4352.49323085384, BIC Calculated =4363.209692950373\n",
      "ARIMA (1, 0, 1) x (0, 0, 1, 11) : AIC Calculated =4286.401565638504, BIC Calculated =4300.51928198855\n",
      "ARIMA (1, 0, 1) x (0, 1, 0, 11) : AIC Calculated =4246.684940545414, BIC Calculated =4257.273227807948\n"
     ]
    },
    {
     "name": "stderr",
     "output_type": "stream",
     "text": [
      "C:\\Users\\Rahkeem\\Anaconda3\\envs\\learn-env\\lib\\site-packages\\statsmodels\\base\\model.py:508: ConvergenceWarning: Maximum Likelihood optimization failed to converge. Check mle_retvals\n",
      "  \"Check mle_retvals\", ConvergenceWarning)\n"
     ]
    },
    {
     "name": "stdout",
     "output_type": "stream",
     "text": [
      "ARIMA (1, 0, 1) x (0, 1, 1, 11) : AIC Calculated =3881.586822756725, BIC Calculated =3895.5260104906874\n",
      "ARIMA (1, 0, 1) x (1, 0, 0, 11) : AIC Calculated =4334.587732894246, BIC Calculated =4348.7212908491565\n"
     ]
    },
    {
     "name": "stderr",
     "output_type": "stream",
     "text": [
      "C:\\Users\\Rahkeem\\Anaconda3\\envs\\learn-env\\lib\\site-packages\\statsmodels\\base\\model.py:508: ConvergenceWarning: Maximum Likelihood optimization failed to converge. Check mle_retvals\n",
      "  \"Check mle_retvals\", ConvergenceWarning)\n"
     ]
    },
    {
     "name": "stdout",
     "output_type": "stream",
     "text": [
      "ARIMA (1, 0, 1) x (1, 0, 1, 11) : AIC Calculated =4289.159432426846, BIC Calculated =4306.806577864403\n",
      "ARIMA (1, 0, 1) x (1, 1, 0, 11) : AIC Calculated =4019.808329700906, BIC Calculated =4033.764080605533\n"
     ]
    },
    {
     "name": "stderr",
     "output_type": "stream",
     "text": [
      "C:\\Users\\Rahkeem\\Anaconda3\\envs\\learn-env\\lib\\site-packages\\statsmodels\\base\\model.py:508: ConvergenceWarning: Maximum Likelihood optimization failed to converge. Check mle_retvals\n",
      "  \"Check mle_retvals\", ConvergenceWarning)\n"
     ]
    },
    {
     "name": "stdout",
     "output_type": "stream",
     "text": [
      "ARIMA (1, 0, 1) x (1, 1, 1, 11) : AIC Calculated =3872.282657577097, BIC Calculated =3889.70664224455\n",
      "ARIMA (1, 0, 1) x (0, 0, 0, 12) : AIC Calculated =4352.49323085384, BIC Calculated =4363.209692950373\n",
      "ARIMA (1, 0, 1) x (0, 0, 1, 12) : AIC Calculated =4270.306725180598, BIC Calculated =4284.408536937125\n",
      "ARIMA (1, 0, 1) x (0, 1, 0, 12) : AIC Calculated =4265.1733098640325, BIC Calculated =4275.7496686814275\n"
     ]
    },
    {
     "name": "stderr",
     "output_type": "stream",
     "text": [
      "C:\\Users\\Rahkeem\\Anaconda3\\envs\\learn-env\\lib\\site-packages\\statsmodels\\base\\model.py:508: ConvergenceWarning: Maximum Likelihood optimization failed to converge. Check mle_retvals\n",
      "  \"Check mle_retvals\", ConvergenceWarning)\n"
     ]
    },
    {
     "name": "stdout",
     "output_type": "stream",
     "text": [
      "ARIMA (1, 0, 1) x (0, 1, 1, 12) : AIC Calculated =3868.807395837519, BIC Calculated =3882.713250045245\n",
      "ARIMA (1, 0, 1) x (1, 0, 0, 12) : AIC Calculated =4317.62560131333, BIC Calculated =4331.743317663376\n"
     ]
    },
    {
     "name": "stderr",
     "output_type": "stream",
     "text": [
      "C:\\Users\\Rahkeem\\Anaconda3\\envs\\learn-env\\lib\\site-packages\\statsmodels\\base\\model.py:508: ConvergenceWarning: Maximum Likelihood optimization failed to converge. Check mle_retvals\n",
      "  \"Check mle_retvals\", ConvergenceWarning)\n"
     ]
    },
    {
     "name": "stdout",
     "output_type": "stream",
     "text": [
      "ARIMA (1, 0, 1) x (1, 0, 1, 12) : AIC Calculated =4272.063819630481, BIC Calculated =4289.691084326139\n",
      "ARIMA (1, 0, 1) x (1, 1, 0, 12) : AIC Calculated =3891.227681843586, BIC Calculated =3905.150237536954\n"
     ]
    },
    {
     "name": "stderr",
     "output_type": "stream",
     "text": [
      "C:\\Users\\Rahkeem\\Anaconda3\\envs\\learn-env\\lib\\site-packages\\statsmodels\\base\\model.py:508: ConvergenceWarning: Maximum Likelihood optimization failed to converge. Check mle_retvals\n",
      "  \"Check mle_retvals\", ConvergenceWarning)\n"
     ]
    },
    {
     "name": "stdout",
     "output_type": "stream",
     "text": [
      "ARIMA (1, 0, 1) x (1, 1, 1, 12) : AIC Calculated =3996.9552686495067, BIC Calculated =4014.337586409164\n",
      "ARIMA (1, 1, 0) x (0, 0, 0, 0) : AIC Calculated =3638.4991625539355, BIC Calculated =3645.6434706182913\n",
      "ARIMA (1, 1, 0) x (0, 0, 1, 0) : AIC Calculated =3570.8648862424443, BIC Calculated =3581.5699197537274\n",
      "ARIMA (1, 1, 0) x (1, 0, 0, 0) : AIC Calculated =3602.8042646164286, BIC Calculated =3613.5092981277116\n",
      "ARIMA (1, 1, 0) x (1, 0, 1, 0) : AIC Calculated =3580.0660809845836, BIC Calculated =3594.339458999628\n",
      "ARIMA (1, 1, 0) x (0, 0, 0, 1) : AIC Calculated =3638.4991625539355, BIC Calculated =3645.6434706182913\n",
      "ARIMA (1, 1, 0) x (0, 0, 1, 1) : AIC Calculated =3570.8648862424443, BIC Calculated =3581.5699197537274\n",
      "ARIMA (1, 1, 0) x (0, 1, 0, 1) : AIC Calculated =3578.2977798517163, BIC Calculated =3585.4344688592387\n",
      "ARIMA (1, 1, 0) x (0, 1, 1, 1) : AIC Calculated =3564.6503507324805, BIC Calculated =3575.3439119544487\n",
      "ARIMA (1, 1, 0) x (1, 0, 0, 1) : AIC Calculated =3602.8042646164286, BIC Calculated =3613.5092981277116\n",
      "ARIMA (1, 1, 0) x (1, 0, 1, 1) : AIC Calculated =3580.0660809845836, BIC Calculated =3594.339458999628\n",
      "ARIMA (1, 1, 0) x (1, 1, 0, 1) : AIC Calculated =3566.375385379219, BIC Calculated =3577.0689466011872\n",
      "ARIMA (1, 1, 0) x (1, 1, 1, 1) : AIC Calculated =3559.365570819467, BIC Calculated =3573.6236524487576\n",
      "ARIMA (1, 1, 0) x (0, 0, 0, 2) : AIC Calculated =3638.4991625539355, BIC Calculated =3645.6434706182913\n",
      "ARIMA (1, 1, 0) x (0, 0, 1, 2) : AIC Calculated =3611.706793716245, BIC Calculated =3622.4003549382132\n",
      "ARIMA (1, 1, 0) x (0, 1, 0, 2) : AIC Calculated =3704.833686130698, BIC Calculated =3711.9627269453435\n",
      "ARIMA (1, 1, 0) x (0, 1, 1, 2) : AIC Calculated =3631.0266854206693, BIC Calculated =3641.697169605768\n",
      "ARIMA (1, 1, 0) x (1, 0, 0, 2) : AIC Calculated =3610.236719260659, BIC Calculated =3620.930280482627\n",
      "ARIMA (1, 1, 0) x (1, 0, 1, 2) : AIC Calculated =3612.1051526354586, BIC Calculated =3626.3632342647493\n",
      "ARIMA (1, 1, 0) x (1, 1, 0, 2) : AIC Calculated =3616.196890455679, BIC Calculated =3626.8673746407776\n",
      "ARIMA (1, 1, 0) x (1, 1, 1, 2) : AIC Calculated =3617.4575562115597, BIC Calculated =3631.684868458358\n",
      "ARIMA (1, 1, 0) x (0, 0, 0, 3) : AIC Calculated =3638.4991625539355, BIC Calculated =3645.6434706182913\n",
      "ARIMA (1, 1, 0) x (0, 0, 1, 3) : AIC Calculated =3576.1570479238226, BIC Calculated =3586.839092816869\n",
      "ARIMA (1, 1, 0) x (0, 1, 0, 3) : AIC Calculated =3655.2852989371477, BIC Calculated =3662.4066621991788\n",
      "ARIMA (1, 1, 0) x (0, 1, 1, 3) : AIC Calculated =3590.105388232145, BIC Calculated =3600.7526164868304\n",
      "ARIMA (1, 1, 0) x (1, 0, 0, 3) : AIC Calculated =3576.2601692385083, BIC Calculated =3586.942214131555\n",
      "ARIMA (1, 1, 0) x (1, 0, 1, 3) : AIC Calculated =3578.2259225085295, BIC Calculated =3592.4686490325917\n",
      "ARIMA (1, 1, 0) x (1, 1, 0, 3) : AIC Calculated =3600.0571253258217, BIC Calculated =3610.7043535805074\n",
      "ARIMA (1, 1, 0) x (1, 1, 1, 3) : AIC Calculated =3591.473867681505, BIC Calculated =3605.670172021086\n",
      "ARIMA (1, 1, 0) x (0, 0, 0, 4) : AIC Calculated =3638.4991625539355, BIC Calculated =3645.6434706182913\n",
      "ARIMA (1, 1, 0) x (0, 0, 1, 4) : AIC Calculated =3574.73008407508, BIC Calculated =3585.4005682601787\n",
      "ARIMA (1, 1, 0) x (0, 1, 0, 4) : AIC Calculated =3670.7211697754324, BIC Calculated =3677.8348258988312\n",
      "ARIMA (1, 1, 0) x (0, 1, 1, 4) : AIC Calculated =3582.120119468135, BIC Calculated =3592.7439101036102\n",
      "ARIMA (1, 1, 0) x (1, 0, 0, 4) : AIC Calculated =3574.4094640770263, BIC Calculated =3585.079948262125\n",
      "ARIMA (1, 1, 0) x (1, 0, 1, 4) : AIC Calculated =3576.72736581795, BIC Calculated =3590.9546780647484\n",
      "ARIMA (1, 1, 0) x (1, 1, 0, 4) : AIC Calculated =3588.5928283721832, BIC Calculated =3599.2166190076587\n",
      "ARIMA (1, 1, 0) x (1, 1, 1, 4) : AIC Calculated =3583.9414175266024, BIC Calculated =3598.1064717072363\n",
      "ARIMA (1, 1, 0) x (0, 0, 0, 5) : AIC Calculated =3638.4991625539355, BIC Calculated =3645.6434706182913\n"
     ]
    },
    {
     "name": "stderr",
     "output_type": "stream",
     "text": [
      "C:\\Users\\Rahkeem\\Anaconda3\\envs\\learn-env\\lib\\site-packages\\statsmodels\\base\\model.py:508: ConvergenceWarning: Maximum Likelihood optimization failed to converge. Check mle_retvals\n",
      "  \"Check mle_retvals\", ConvergenceWarning)\n"
     ]
    },
    {
     "name": "stdout",
     "output_type": "stream",
     "text": [
      "ARIMA (1, 1, 0) x (0, 0, 1, 5) : AIC Calculated =3577.3466512213145, BIC Calculated =3588.0055299760793\n",
      "ARIMA (1, 1, 0) x (0, 1, 0, 5) : AIC Calculated =3732.767107660463, BIC Calculated =3739.873026830306\n",
      "ARIMA (1, 1, 0) x (0, 1, 1, 5) : AIC Calculated =3588.3857336231504, BIC Calculated =3598.9859020893327\n",
      "ARIMA (1, 1, 0) x (1, 0, 0, 5) : AIC Calculated =3576.1947450132866, BIC Calculated =3586.8536237680514\n"
     ]
    },
    {
     "name": "stderr",
     "output_type": "stream",
     "text": [
      "C:\\Users\\Rahkeem\\Anaconda3\\envs\\learn-env\\lib\\site-packages\\statsmodels\\base\\model.py:508: ConvergenceWarning: Maximum Likelihood optimization failed to converge. Check mle_retvals\n",
      "  \"Check mle_retvals\", ConvergenceWarning)\n"
     ]
    },
    {
     "name": "stdout",
     "output_type": "stream",
     "text": [
      "ARIMA (1, 1, 0) x (1, 0, 1, 5) : AIC Calculated =3578.254300721767, BIC Calculated =3592.4661390614533\n",
      "ARIMA (1, 1, 0) x (1, 1, 0, 5) : AIC Calculated =3544.8512077900414, BIC Calculated =3555.4513762562237\n",
      "ARIMA (1, 1, 0) x (1, 1, 1, 5) : AIC Calculated =3546.0171756255854, BIC Calculated =3560.1507335804954\n",
      "ARIMA (1, 1, 0) x (0, 0, 0, 6) : AIC Calculated =3638.4991625539355, BIC Calculated =3645.6434706182913\n"
     ]
    },
    {
     "name": "stderr",
     "output_type": "stream",
     "text": [
      "C:\\Users\\Rahkeem\\Anaconda3\\envs\\learn-env\\lib\\site-packages\\statsmodels\\base\\model.py:508: ConvergenceWarning: Maximum Likelihood optimization failed to converge. Check mle_retvals\n",
      "  \"Check mle_retvals\", ConvergenceWarning)\n"
     ]
    },
    {
     "name": "stdout",
     "output_type": "stream",
     "text": [
      "ARIMA (1, 1, 0) x (0, 0, 1, 6) : AIC Calculated =3562.9350647911106, BIC Calculated =3573.582293045796\n",
      "ARIMA (1, 1, 0) x (0, 1, 0, 6) : AIC Calculated =3703.9104922323013, BIC Calculated =3711.0086444020917\n",
      "ARIMA (1, 1, 0) x (0, 1, 1, 6) : AIC Calculated =3567.579409022075, BIC Calculated =3578.1557678394706\n",
      "ARIMA (1, 1, 0) x (1, 0, 0, 6) : AIC Calculated =3562.866860372871, BIC Calculated =3573.5140886275567\n"
     ]
    },
    {
     "name": "stderr",
     "output_type": "stream",
     "text": [
      "C:\\Users\\Rahkeem\\Anaconda3\\envs\\learn-env\\lib\\site-packages\\statsmodels\\base\\model.py:508: ConvergenceWarning: Maximum Likelihood optimization failed to converge. Check mle_retvals\n",
      "  \"Check mle_retvals\", ConvergenceWarning)\n"
     ]
    },
    {
     "name": "stdout",
     "output_type": "stream",
     "text": [
      "ARIMA (1, 1, 0) x (1, 0, 1, 6) : AIC Calculated =3565.3554422551915, BIC Calculated =3579.5517465947723\n",
      "ARIMA (1, 1, 0) x (1, 1, 0, 6) : AIC Calculated =3560.9683178124706, BIC Calculated =3571.544676629866\n",
      "ARIMA (1, 1, 0) x (1, 1, 1, 6) : AIC Calculated =3560.8719635120224, BIC Calculated =3574.9737752685496\n",
      "ARIMA (1, 1, 0) x (0, 0, 0, 7) : AIC Calculated =3638.4991625539355, BIC Calculated =3645.6434706182913\n",
      "ARIMA (1, 1, 0) x (0, 0, 1, 7) : AIC Calculated =3542.2300338516206, BIC Calculated =3552.8655661850594\n",
      "ARIMA (1, 1, 0) x (0, 1, 0, 7) : AIC Calculated =3654.360444518632, BIC Calculated =3661.450799407591\n"
     ]
    },
    {
     "name": "stderr",
     "output_type": "stream",
     "text": [
      "C:\\Users\\Rahkeem\\Anaconda3\\envs\\learn-env\\lib\\site-packages\\statsmodels\\base\\model.py:508: ConvergenceWarning: Maximum Likelihood optimization failed to converge. Check mle_retvals\n",
      "  \"Check mle_retvals\", ConvergenceWarning)\n"
     ]
    },
    {
     "name": "stdout",
     "output_type": "stream",
     "text": [
      "ARIMA (1, 1, 0) x (0, 1, 1, 7) : AIC Calculated =3515.391402767974, BIC Calculated =3525.943761457368\n",
      "ARIMA (1, 1, 0) x (1, 0, 0, 7) : AIC Calculated =3541.7154777017545, BIC Calculated =3552.351010035193\n"
     ]
    },
    {
     "name": "stderr",
     "output_type": "stream",
     "text": [
      "C:\\Users\\Rahkeem\\Anaconda3\\envs\\learn-env\\lib\\site-packages\\statsmodels\\base\\model.py:508: ConvergenceWarning: Maximum Likelihood optimization failed to converge. Check mle_retvals\n",
      "  \"Check mle_retvals\", ConvergenceWarning)\n"
     ]
    },
    {
     "name": "stdout",
     "output_type": "stream",
     "text": [
      "ARIMA (1, 1, 0) x (1, 0, 1, 7) : AIC Calculated =3544.154381144076, BIC Calculated =3558.3350909219944\n",
      "ARIMA (1, 1, 0) x (1, 1, 0, 7) : AIC Calculated =3522.2104892807965, BIC Calculated =3532.7628479701907\n",
      "ARIMA (1, 1, 0) x (1, 1, 1, 7) : AIC Calculated =3515.9643302245913, BIC Calculated =3530.0341418104504\n",
      "ARIMA (1, 1, 0) x (0, 0, 0, 8) : AIC Calculated =3638.4991625539355, BIC Calculated =3645.6434706182913\n"
     ]
    },
    {
     "name": "stderr",
     "output_type": "stream",
     "text": [
      "C:\\Users\\Rahkeem\\Anaconda3\\envs\\learn-env\\lib\\site-packages\\statsmodels\\base\\model.py:508: ConvergenceWarning: Maximum Likelihood optimization failed to converge. Check mle_retvals\n",
      "  \"Check mle_retvals\", ConvergenceWarning)\n"
     ]
    },
    {
     "name": "stdout",
     "output_type": "stream",
     "text": [
      "ARIMA (1, 1, 0) x (0, 0, 1, 8) : AIC Calculated =3536.2258901177165, BIC Calculated =3546.849680753192\n",
      "ARIMA (1, 1, 0) x (0, 1, 0, 8) : AIC Calculated =3675.71101680429, BIC Calculated =3682.793543894607\n",
      "ARIMA (1, 1, 0) x (0, 1, 1, 8) : AIC Calculated =3524.3947026708247, BIC Calculated =3534.922867680709\n",
      "ARIMA (1, 1, 0) x (1, 0, 0, 8) : AIC Calculated =3536.578052438123, BIC Calculated =3547.2018430735984\n"
     ]
    },
    {
     "name": "stderr",
     "output_type": "stream",
     "text": [
      "C:\\Users\\Rahkeem\\Anaconda3\\envs\\learn-env\\lib\\site-packages\\statsmodels\\base\\model.py:508: ConvergenceWarning: Maximum Likelihood optimization failed to converge. Check mle_retvals\n",
      "  \"Check mle_retvals\", ConvergenceWarning)\n"
     ]
    },
    {
     "name": "stdout",
     "output_type": "stream",
     "text": [
      "ARIMA (1, 1, 0) x (1, 0, 1, 8) : AIC Calculated =3538.3634214556696, BIC Calculated =3552.5284756363035\n",
      "ARIMA (1, 1, 0) x (1, 1, 0, 8) : AIC Calculated =3533.5626244661125, BIC Calculated =3544.0907894759966\n",
      "ARIMA (1, 1, 0) x (1, 1, 1, 8) : AIC Calculated =3507.004417251288, BIC Calculated =3521.0419705977997\n",
      "ARIMA (1, 1, 0) x (0, 0, 0, 9) : AIC Calculated =3638.4991625539355, BIC Calculated =3645.6434706182913\n",
      "ARIMA (1, 1, 0) x (0, 0, 1, 9) : AIC Calculated =3522.7994350114095, BIC Calculated =3533.411437812465\n",
      "ARIMA (1, 1, 0) x (0, 1, 0, 9) : AIC Calculated =3657.7171981882, BIC Calculated =3664.7918667222375\n",
      "ARIMA (1, 1, 0) x (0, 1, 1, 9) : AIC Calculated =3493.828810802792, BIC Calculated =3504.332585434426\n",
      "ARIMA (1, 1, 0) x (1, 0, 0, 9) : AIC Calculated =3522.967543457432, BIC Calculated =3533.5795462584874\n"
     ]
    },
    {
     "name": "stderr",
     "output_type": "stream",
     "text": [
      "C:\\Users\\Rahkeem\\Anaconda3\\envs\\learn-env\\lib\\site-packages\\statsmodels\\base\\model.py:508: ConvergenceWarning: Maximum Likelihood optimization failed to converge. Check mle_retvals\n",
      "  \"Check mle_retvals\", ConvergenceWarning)\n"
     ]
    },
    {
     "name": "stdout",
     "output_type": "stream",
     "text": [
      "ARIMA (1, 1, 0) x (1, 0, 1, 9) : AIC Calculated =3524.982272354298, BIC Calculated =3539.131609422372\n",
      "ARIMA (1, 1, 0) x (1, 1, 0, 9) : AIC Calculated =3496.1217979629196, BIC Calculated =3506.625572594554\n",
      "ARIMA (1, 1, 0) x (1, 1, 1, 9) : AIC Calculated =3495.687334235401, BIC Calculated =3509.69236707758\n",
      "ARIMA (1, 1, 0) x (0, 0, 0, 10) : AIC Calculated =3638.4991625539355, BIC Calculated =3645.6434706182913\n",
      "ARIMA (1, 1, 0) x (0, 0, 1, 10) : AIC Calculated =3490.6970784858086, BIC Calculated =3501.297246951991\n",
      "ARIMA (1, 1, 0) x (0, 1, 0, 10) : AIC Calculated =3584.6349996081444, BIC Calculated =3591.7017785855996\n"
     ]
    },
    {
     "name": "stderr",
     "output_type": "stream",
     "text": [
      "C:\\Users\\Rahkeem\\Anaconda3\\envs\\learn-env\\lib\\site-packages\\statsmodels\\base\\model.py:508: ConvergenceWarning: Maximum Likelihood optimization failed to converge. Check mle_retvals\n",
      "  \"Check mle_retvals\", ConvergenceWarning)\n"
     ]
    },
    {
     "name": "stdout",
     "output_type": "stream",
     "text": [
      "ARIMA (1, 1, 0) x (0, 1, 1, 10) : AIC Calculated =3458.326713145915, BIC Calculated =3468.805897475937\n",
      "ARIMA (1, 1, 0) x (1, 0, 0, 10) : AIC Calculated =3491.0287464977982, BIC Calculated =3501.6289149639806\n",
      "ARIMA (1, 1, 0) x (1, 0, 1, 10) : AIC Calculated =3492.6973008812283, BIC Calculated =3506.8308588361383\n",
      "ARIMA (1, 1, 0) x (1, 1, 0, 10) : AIC Calculated =3431.9735203550235, BIC Calculated =3442.4527046850453\n",
      "ARIMA (1, 1, 0) x (1, 1, 1, 10) : AIC Calculated =3415.261505212239, BIC Calculated =3429.2337509856015\n",
      "ARIMA (1, 1, 0) x (0, 0, 0, 11) : AIC Calculated =3638.4991625539355, BIC Calculated =3645.6434706182913\n",
      "ARIMA (1, 1, 0) x (0, 0, 1, 11) : AIC Calculated =3481.802799004258, BIC Calculated =3492.391086266792\n",
      "ARIMA (1, 1, 0) x (0, 1, 0, 11) : AIC Calculated =3576.796184784735, BIC Calculated =3583.855042959758\n"
     ]
    },
    {
     "name": "stderr",
     "output_type": "stream",
     "text": [
      "C:\\Users\\Rahkeem\\Anaconda3\\envs\\learn-env\\lib\\site-packages\\statsmodels\\base\\model.py:508: ConvergenceWarning: Maximum Likelihood optimization failed to converge. Check mle_retvals\n",
      "  \"Check mle_retvals\", ConvergenceWarning)\n"
     ]
    },
    {
     "name": "stdout",
     "output_type": "stream",
     "text": [
      "ARIMA (1, 1, 0) x (0, 1, 1, 11) : AIC Calculated =3437.5958543927086, BIC Calculated =3448.0502451931807\n",
      "ARIMA (1, 1, 0) x (1, 0, 0, 11) : AIC Calculated =3480.3742527970344, BIC Calculated =3490.9625400595687\n",
      "ARIMA (1, 1, 0) x (1, 0, 1, 11) : AIC Calculated =3483.299846398925, BIC Calculated =3497.417562748971\n",
      "ARIMA (1, 1, 0) x (1, 1, 0, 11) : AIC Calculated =3407.5641918219044, BIC Calculated =3418.0185826223765\n"
     ]
    },
    {
     "name": "stderr",
     "output_type": "stream",
     "text": [
      "C:\\Users\\Rahkeem\\Anaconda3\\envs\\learn-env\\lib\\site-packages\\statsmodels\\base\\model.py:508: ConvergenceWarning: Maximum Likelihood optimization failed to converge. Check mle_retvals\n",
      "  \"Check mle_retvals\", ConvergenceWarning)\n"
     ]
    },
    {
     "name": "stdout",
     "output_type": "stream",
     "text": [
      "ARIMA (1, 1, 0) x (1, 1, 1, 11) : AIC Calculated =3412.915139342069, BIC Calculated =3426.8543270760315\n",
      "ARIMA (1, 1, 0) x (0, 0, 0, 12) : AIC Calculated =3638.4991625539355, BIC Calculated =3645.6434706182913\n"
     ]
    },
    {
     "name": "stderr",
     "output_type": "stream",
     "text": [
      "C:\\Users\\Rahkeem\\Anaconda3\\envs\\learn-env\\lib\\site-packages\\statsmodels\\base\\model.py:508: ConvergenceWarning: Maximum Likelihood optimization failed to converge. Check mle_retvals\n",
      "  \"Check mle_retvals\", ConvergenceWarning)\n"
     ]
    },
    {
     "name": "stdout",
     "output_type": "stream",
     "text": [
      "ARIMA (1, 1, 0) x (0, 0, 1, 12) : AIC Calculated =3484.8741427101495, BIC Calculated =3495.450501527545\n",
      "ARIMA (1, 1, 0) x (0, 1, 0, 12) : AIC Calculated =3625.4313464884126, BIC Calculated =3632.482252366676\n"
     ]
    },
    {
     "name": "stderr",
     "output_type": "stream",
     "text": [
      "C:\\Users\\Rahkeem\\Anaconda3\\envs\\learn-env\\lib\\site-packages\\statsmodels\\base\\model.py:508: ConvergenceWarning: Maximum Likelihood optimization failed to converge. Check mle_retvals\n",
      "  \"Check mle_retvals\", ConvergenceWarning)\n"
     ]
    },
    {
     "name": "stdout",
     "output_type": "stream",
     "text": [
      "ARIMA (1, 1, 0) x (0, 1, 1, 12) : AIC Calculated =3469.240772613137, BIC Calculated =3479.6701632689314\n",
      "ARIMA (1, 1, 0) x (1, 0, 0, 12) : AIC Calculated =3485.340095854307, BIC Calculated =3495.9164546717025\n",
      "ARIMA (1, 1, 0) x (1, 0, 1, 12) : AIC Calculated =3487.0657859363473, BIC Calculated =3501.1675976928746\n",
      "ARIMA (1, 1, 0) x (1, 1, 0, 12) : AIC Calculated =3434.9881362734286, BIC Calculated =3445.417526929223\n",
      "ARIMA (1, 1, 0) x (1, 1, 1, 12) : AIC Calculated =3413.297133967477, BIC Calculated =3427.202988175203\n",
      "ARIMA (1, 1, 1) x (0, 0, 0, 0) : AIC Calculated =3571.260462037554, BIC Calculated =3581.965495548837\n",
      "ARIMA (1, 1, 1) x (0, 0, 1, 0) : AIC Calculated =3557.8198767033873, BIC Calculated =3572.077958332678\n",
      "ARIMA (1, 1, 1) x (1, 0, 0, 0) : AIC Calculated =3580.0660809718634, BIC Calculated =3594.3394589869076\n",
      "ARIMA (1, 1, 1) x (1, 0, 1, 0) : AIC Calculated =3579.709429476657, BIC Calculated =3597.5320315132703\n",
      "ARIMA (1, 1, 1) x (0, 0, 0, 1) : AIC Calculated =3571.260462037554, BIC Calculated =3581.965495548837\n",
      "ARIMA (1, 1, 1) x (0, 0, 1, 1) : AIC Calculated =3557.8198767033873, BIC Calculated =3572.077958332678\n",
      "ARIMA (1, 1, 1) x (0, 1, 0, 1) : AIC Calculated =3557.394084334065, BIC Calculated =3568.0876455560333\n",
      "ARIMA (1, 1, 1) x (0, 1, 1, 1) : AIC Calculated =3546.6621380045367, BIC Calculated =3560.904864528599\n",
      "ARIMA (1, 1, 1) x (1, 0, 0, 1) : AIC Calculated =3580.0660809718634, BIC Calculated =3594.3394589869076\n",
      "ARIMA (1, 1, 1) x (1, 0, 1, 1) : AIC Calculated =3579.709429476657, BIC Calculated =3597.5320315132703\n",
      "ARIMA (1, 1, 1) x (1, 1, 0, 1) : AIC Calculated =3559.2948873191567, BIC Calculated =3573.5529689484474\n",
      "ARIMA (1, 1, 1) x (1, 1, 1, 1) : AIC Calculated =3548.8280217509564, BIC Calculated =3566.631429906034\n",
      "ARIMA (1, 1, 1) x (0, 0, 0, 2) : AIC Calculated =3571.260462037554, BIC Calculated =3581.965495548837\n"
     ]
    },
    {
     "name": "stderr",
     "output_type": "stream",
     "text": [
      "C:\\Users\\Rahkeem\\Anaconda3\\envs\\learn-env\\lib\\site-packages\\statsmodels\\base\\model.py:508: ConvergenceWarning: Maximum Likelihood optimization failed to converge. Check mle_retvals\n",
      "  \"Check mle_retvals\", ConvergenceWarning)\n"
     ]
    },
    {
     "name": "stdout",
     "output_type": "stream",
     "text": [
      "ARIMA (1, 1, 1) x (0, 0, 1, 2) : AIC Calculated =3545.4107665761103, BIC Calculated =3559.6534931001725\n",
      "ARIMA (1, 1, 1) x (0, 1, 0, 2) : AIC Calculated =3652.2863410294267, BIC Calculated =3662.9683859224733\n",
      "ARIMA (1, 1, 1) x (0, 1, 1, 2) : AIC Calculated =3530.879824953428, BIC Calculated =3545.0916632931144\n",
      "ARIMA (1, 1, 1) x (1, 0, 0, 2) : AIC Calculated =3558.098067355172, BIC Calculated =3572.356148984463\n",
      "ARIMA (1, 1, 1) x (1, 0, 1, 2) : AIC Calculated =3546.49159536996, BIC Calculated =3564.295003525038\n",
      "ARIMA (1, 1, 1) x (1, 1, 0, 2) : AIC Calculated =3605.4124740910356, BIC Calculated =3619.639786337834\n",
      "ARIMA (1, 1, 1) x (1, 1, 1, 2) : AIC Calculated =3526.5696266388177, BIC Calculated =3544.3344245634257\n",
      "ARIMA (1, 1, 1) x (0, 0, 0, 3) : AIC Calculated =3571.260462037554, BIC Calculated =3581.965495548837\n",
      "ARIMA (1, 1, 1) x (0, 0, 1, 3) : AIC Calculated =3520.1102064237825, BIC Calculated =3534.3375186705807\n",
      "ARIMA (1, 1, 1) x (0, 1, 0, 3) : AIC Calculated =3603.4002625269595, BIC Calculated =3614.0707467120583\n",
      "ARIMA (1, 1, 1) x (0, 1, 1, 3) : AIC Calculated =3519.4623468898235, BIC Calculated =3533.643056667742\n",
      "ARIMA (1, 1, 1) x (1, 0, 0, 3) : AIC Calculated =3566.285643936003, BIC Calculated =3580.528370460065\n",
      "ARIMA (1, 1, 1) x (1, 0, 1, 3) : AIC Calculated =3521.9863381584214, BIC Calculated =3539.770478466919\n",
      "ARIMA (1, 1, 1) x (1, 1, 0, 3) : AIC Calculated =3560.7258831625677, BIC Calculated =3574.9221875021485\n",
      "ARIMA (1, 1, 1) x (1, 1, 1, 3) : AIC Calculated =3508.7436643214915, BIC Calculated =3526.4695515438893\n",
      "ARIMA (1, 1, 1) x (0, 0, 0, 4) : AIC Calculated =3571.260462037554, BIC Calculated =3581.965495548837\n",
      "ARIMA (1, 1, 1) x (0, 0, 1, 4) : AIC Calculated =3506.565770475917, BIC Calculated =3520.7776088156033\n",
      "ARIMA (1, 1, 1) x (0, 1, 0, 4) : AIC Calculated =3608.155501838337, BIC Calculated =3618.8143805931018\n",
      "ARIMA (1, 1, 1) x (0, 1, 1, 4) : AIC Calculated =3501.8219725455983, BIC Calculated =3515.9713096136725\n",
      "ARIMA (1, 1, 1) x (1, 0, 0, 4) : AIC Calculated =3531.865088444879, BIC Calculated =3546.092400691677\n"
     ]
    },
    {
     "name": "stderr",
     "output_type": "stream",
     "text": [
      "C:\\Users\\Rahkeem\\Anaconda3\\envs\\learn-env\\lib\\site-packages\\statsmodels\\base\\model.py:508: ConvergenceWarning: Maximum Likelihood optimization failed to converge. Check mle_retvals\n",
      "  \"Check mle_retvals\", ConvergenceWarning)\n"
     ]
    },
    {
     "name": "stdout",
     "output_type": "stream",
     "text": [
      "ARIMA (1, 1, 1) x (1, 0, 1, 4) : AIC Calculated =3508.441593953366, BIC Calculated =3526.206391877974\n",
      "ARIMA (1, 1, 1) x (1, 1, 0, 4) : AIC Calculated =3551.0550239890017, BIC Calculated =3565.2200781696356\n",
      "ARIMA (1, 1, 1) x (1, 1, 1, 4) : AIC Calculated =3484.812395814067, BIC Calculated =3502.4990671491596\n",
      "ARIMA (1, 1, 1) x (0, 0, 0, 5) : AIC Calculated =3571.260462037554, BIC Calculated =3581.965495548837\n"
     ]
    },
    {
     "name": "stderr",
     "output_type": "stream",
     "text": [
      "C:\\Users\\Rahkeem\\Anaconda3\\envs\\learn-env\\lib\\site-packages\\statsmodels\\base\\model.py:508: ConvergenceWarning: Maximum Likelihood optimization failed to converge. Check mle_retvals\n",
      "  \"Check mle_retvals\", ConvergenceWarning)\n"
     ]
    },
    {
     "name": "stdout",
     "output_type": "stream",
     "text": [
      "ARIMA (1, 1, 1) x (0, 0, 1, 5) : AIC Calculated =3510.102731163343, BIC Calculated =3524.2990355029237\n",
      "ARIMA (1, 1, 1) x (0, 1, 0, 5) : AIC Calculated =3685.832861007177, BIC Calculated =3696.4800892618628\n",
      "ARIMA (1, 1, 1) x (0, 1, 1, 5) : AIC Calculated =3476.9024430307345, BIC Calculated =3491.02015938078\n",
      "ARIMA (1, 1, 1) x (1, 0, 0, 5) : AIC Calculated =3519.8363353832838, BIC Calculated =3534.04817372297\n",
      "ARIMA (1, 1, 1) x (1, 0, 1, 5) : AIC Calculated =3503.9147760952255, BIC Calculated =3521.6601565197016\n",
      "ARIMA (1, 1, 1) x (1, 1, 0, 5) : AIC Calculated =3533.078261677728, BIC Calculated =3547.211819632638\n",
      "ARIMA (1, 1, 1) x (1, 1, 1, 5) : AIC Calculated =3467.1185116048946, BIC Calculated =3484.7656570424515\n",
      "ARIMA (1, 1, 1) x (0, 0, 0, 6) : AIC Calculated =3571.260462037554, BIC Calculated =3581.965495548837\n"
     ]
    },
    {
     "name": "stderr",
     "output_type": "stream",
     "text": [
      "C:\\Users\\Rahkeem\\Anaconda3\\envs\\learn-env\\lib\\site-packages\\statsmodels\\base\\model.py:508: ConvergenceWarning: Maximum Likelihood optimization failed to converge. Check mle_retvals\n",
      "  \"Check mle_retvals\", ConvergenceWarning)\n"
     ]
    },
    {
     "name": "stdout",
     "output_type": "stream",
     "text": [
      "ARIMA (1, 1, 1) x (0, 0, 1, 6) : AIC Calculated =3494.4274793636514, BIC Calculated =3508.6081891415697\n",
      "ARIMA (1, 1, 1) x (0, 1, 0, 6) : AIC Calculated =3646.147776391998, BIC Calculated =3656.7833087254367\n",
      "ARIMA (1, 1, 1) x (0, 1, 1, 6) : AIC Calculated =3455.9238046335017, BIC Calculated =3470.0096483049506\n",
      "ARIMA (1, 1, 1) x (1, 0, 0, 6) : AIC Calculated =3507.3332485189267, BIC Calculated =3521.5295528585075\n",
      "ARIMA (1, 1, 1) x (1, 0, 1, 6) : AIC Calculated =3496.4207889755853, BIC Calculated =3514.146676197983\n",
      "ARIMA (1, 1, 1) x (1, 1, 0, 6) : AIC Calculated =3548.551981384967, BIC Calculated =3562.653793141494\n",
      "ARIMA (1, 1, 1) x (1, 1, 1, 6) : AIC Calculated =3440.7463827115353, BIC Calculated =3458.3536873008466\n",
      "ARIMA (1, 1, 1) x (0, 0, 0, 7) : AIC Calculated =3571.260462037554, BIC Calculated =3581.965495548837\n",
      "ARIMA (1, 1, 1) x (0, 0, 1, 7) : AIC Calculated =3472.7831368464495, BIC Calculated =3486.9481910270833\n",
      "ARIMA (1, 1, 1) x (0, 1, 0, 7) : AIC Calculated =3586.7973109837385, BIC Calculated =3597.421101619214\n",
      "ARIMA (1, 1, 1) x (0, 1, 1, 7) : AIC Calculated =3418.3988189168804, BIC Calculated =3432.4525339015404\n",
      "ARIMA (1, 1, 1) x (1, 0, 0, 7) : AIC Calculated =3494.0974516799283, BIC Calculated =3508.2781614578466\n",
      "ARIMA (1, 1, 1) x (1, 0, 1, 7) : AIC Calculated =3474.50067312385, BIC Calculated =3492.206990849642\n",
      "ARIMA (1, 1, 1) x (1, 1, 0, 7) : AIC Calculated =3482.732665482606, BIC Calculated =3496.802477068465\n",
      "ARIMA (1, 1, 1) x (1, 1, 1, 7) : AIC Calculated =3411.8172862186425, BIC Calculated =3429.3844299494676\n",
      "ARIMA (1, 1, 1) x (0, 0, 0, 8) : AIC Calculated =3571.260462037554, BIC Calculated =3581.965495548837\n"
     ]
    },
    {
     "name": "stderr",
     "output_type": "stream",
     "text": [
      "C:\\Users\\Rahkeem\\Anaconda3\\envs\\learn-env\\lib\\site-packages\\statsmodels\\base\\model.py:508: ConvergenceWarning: Maximum Likelihood optimization failed to converge. Check mle_retvals\n",
      "  \"Check mle_retvals\", ConvergenceWarning)\n"
     ]
    },
    {
     "name": "stdout",
     "output_type": "stream",
     "text": [
      "ARIMA (1, 1, 1) x (0, 0, 1, 8) : AIC Calculated =3470.4047698509166, BIC Calculated =3484.554106918991\n",
      "ARIMA (1, 1, 1) x (0, 1, 0, 8) : AIC Calculated =3626.962492684554, BIC Calculated =3637.5744954856095\n",
      "ARIMA (1, 1, 1) x (0, 1, 1, 8) : AIC Calculated =3407.5749895031086, BIC Calculated =3421.596315646838\n",
      "ARIMA (1, 1, 1) x (1, 0, 0, 8) : AIC Calculated =3481.9942909324927, BIC Calculated =3496.1593451131266\n",
      "ARIMA (1, 1, 1) x (1, 0, 1, 8) : AIC Calculated =3471.1403150966908, BIC Calculated =3488.8269864317836\n",
      "ARIMA (1, 1, 1) x (1, 1, 0, 8) : AIC Calculated =3504.8291768412096, BIC Calculated =3518.8667301877213\n",
      "ARIMA (1, 1, 1) x (1, 1, 1, 8) : AIC Calculated =3392.5243344349046, BIC Calculated =3410.0509921145663\n",
      "ARIMA (1, 1, 1) x (0, 0, 0, 9) : AIC Calculated =3571.260462037554, BIC Calculated =3581.965495548837\n"
     ]
    },
    {
     "name": "stderr",
     "output_type": "stream",
     "text": [
      "C:\\Users\\Rahkeem\\Anaconda3\\envs\\learn-env\\lib\\site-packages\\statsmodels\\base\\model.py:508: ConvergenceWarning: Maximum Likelihood optimization failed to converge. Check mle_retvals\n",
      "  \"Check mle_retvals\", ConvergenceWarning)\n"
     ]
    },
    {
     "name": "stdout",
     "output_type": "stream",
     "text": [
      "ARIMA (1, 1, 1) x (0, 0, 1, 9) : AIC Calculated =3457.0764282122177, BIC Calculated =3471.2099861671277\n",
      "ARIMA (1, 1, 1) x (0, 1, 0, 9) : AIC Calculated =3613.586274442145, BIC Calculated =3624.1864429083275\n",
      "ARIMA (1, 1, 1) x (0, 1, 1, 9) : AIC Calculated =3380.8571718491417, BIC Calculated =3394.8458447503144\n",
      "ARIMA (1, 1, 1) x (1, 0, 0, 9) : AIC Calculated =3469.2434842342645, BIC Calculated =3483.3928213023387\n",
      "ARIMA (1, 1, 1) x (1, 0, 1, 9) : AIC Calculated =3458.449136412377, BIC Calculated =3476.1160838560145\n",
      "ARIMA (1, 1, 1) x (1, 1, 0, 9) : AIC Calculated =3471.3049558802777, BIC Calculated =3485.3099887224566\n",
      "ARIMA (1, 1, 1) x (1, 1, 1, 9) : AIC Calculated =3368.6009597037682, BIC Calculated =3386.086800830234\n",
      "ARIMA (1, 1, 1) x (0, 0, 0, 10) : AIC Calculated =3571.260462037554, BIC Calculated =3581.965495548837\n",
      "ARIMA (1, 1, 1) x (0, 0, 1, 10) : AIC Calculated =3433.5823649443137, BIC Calculated =3447.7000812943593\n",
      "ARIMA (1, 1, 1) x (0, 1, 0, 10) : AIC Calculated =3540.1919622647238, BIC Calculated =3550.780249527258\n"
     ]
    },
    {
     "name": "stderr",
     "output_type": "stream",
     "text": [
      "C:\\Users\\Rahkeem\\Anaconda3\\envs\\learn-env\\lib\\site-packages\\statsmodels\\base\\model.py:508: ConvergenceWarning: Maximum Likelihood optimization failed to converge. Check mle_retvals\n",
      "  \"Check mle_retvals\", ConvergenceWarning)\n"
     ]
    },
    {
     "name": "stdout",
     "output_type": "stream",
     "text": [
      "ARIMA (1, 1, 1) x (0, 1, 1, 10) : AIC Calculated =3412.1431191485894, BIC Calculated =3426.098870053216\n",
      "ARIMA (1, 1, 1) x (1, 0, 0, 10) : AIC Calculated =3455.931515170992, BIC Calculated =3470.065073125902\n",
      "ARIMA (1, 1, 1) x (1, 0, 1, 10) : AIC Calculated =3435.460678485305, BIC Calculated =3453.107823922862\n",
      "ARIMA (1, 1, 1) x (1, 1, 0, 10) : AIC Calculated =3403.494598861891, BIC Calculated =3417.4668446352534\n",
      "ARIMA (1, 1, 1) x (1, 1, 1, 10) : AIC Calculated =3334.8590495034036, BIC Calculated =3352.303738134187\n",
      "ARIMA (1, 1, 1) x (0, 0, 0, 11) : AIC Calculated =3571.260462037554, BIC Calculated =3581.965495548837\n",
      "ARIMA (1, 1, 1) x (0, 0, 1, 11) : AIC Calculated =3416.5589726672097, BIC Calculated =3430.660784423737\n",
      "ARIMA (1, 1, 1) x (0, 1, 0, 11) : AIC Calculated =3525.786709546336, BIC Calculated =3536.3630683637316\n"
     ]
    },
    {
     "name": "stderr",
     "output_type": "stream",
     "text": [
      "C:\\Users\\Rahkeem\\Anaconda3\\envs\\learn-env\\lib\\site-packages\\statsmodels\\base\\model.py:508: ConvergenceWarning: Maximum Likelihood optimization failed to converge. Check mle_retvals\n",
      "  \"Check mle_retvals\", ConvergenceWarning)\n"
     ]
    },
    {
     "name": "stdout",
     "output_type": "stream",
     "text": [
      "ARIMA (1, 1, 1) x (0, 1, 1, 11) : AIC Calculated =3377.4252517694026, BIC Calculated =3391.3478074627706\n",
      "ARIMA (1, 1, 1) x (1, 0, 0, 11) : AIC Calculated =3443.2944458817474, BIC Calculated =3457.412162231793\n"
     ]
    },
    {
     "name": "stderr",
     "output_type": "stream",
     "text": [
      "C:\\Users\\Rahkeem\\Anaconda3\\envs\\learn-env\\lib\\site-packages\\statsmodels\\base\\model.py:508: ConvergenceWarning: Maximum Likelihood optimization failed to converge. Check mle_retvals\n",
      "  \"Check mle_retvals\", ConvergenceWarning)\n"
     ]
    },
    {
     "name": "stdout",
     "output_type": "stream",
     "text": [
      "ARIMA (1, 1, 1) x (1, 0, 1, 11) : AIC Calculated =3418.3105268967643, BIC Calculated =3435.9377915924233\n",
      "ARIMA (1, 1, 1) x (1, 1, 0, 11) : AIC Calculated =3373.8194592998934, BIC Calculated =3387.758647033856\n"
     ]
    },
    {
     "name": "stderr",
     "output_type": "stream",
     "text": [
      "C:\\Users\\Rahkeem\\Anaconda3\\envs\\learn-env\\lib\\site-packages\\statsmodels\\base\\model.py:508: ConvergenceWarning: Maximum Likelihood optimization failed to converge. Check mle_retvals\n",
      "  \"Check mle_retvals\", ConvergenceWarning)\n"
     ]
    },
    {
     "name": "stdout",
     "output_type": "stream",
     "text": [
      "ARIMA (1, 1, 1) x (1, 1, 1, 11) : AIC Calculated =3370.7228107415244, BIC Calculated =3388.1260053582346\n",
      "ARIMA (1, 1, 1) x (0, 0, 0, 12) : AIC Calculated =3571.260462037554, BIC Calculated =3581.965495548837\n"
     ]
    },
    {
     "name": "stderr",
     "output_type": "stream",
     "text": [
      "C:\\Users\\Rahkeem\\Anaconda3\\envs\\learn-env\\lib\\site-packages\\statsmodels\\base\\model.py:508: ConvergenceWarning: Maximum Likelihood optimization failed to converge. Check mle_retvals\n",
      "  \"Check mle_retvals\", ConvergenceWarning)\n"
     ]
    },
    {
     "name": "stdout",
     "output_type": "stream",
     "text": [
      "ARIMA (1, 1, 1) x (0, 0, 1, 12) : AIC Calculated =3420.715658905041, BIC Calculated =3434.80150257649\n",
      "ARIMA (1, 1, 1) x (0, 1, 0, 12) : AIC Calculated =3589.3736289651533, BIC Calculated =3599.93801171874\n"
     ]
    },
    {
     "name": "stderr",
     "output_type": "stream",
     "text": [
      "C:\\Users\\Rahkeem\\Anaconda3\\envs\\learn-env\\lib\\site-packages\\statsmodels\\base\\model.py:508: ConvergenceWarning: Maximum Likelihood optimization failed to converge. Check mle_retvals\n",
      "  \"Check mle_retvals\", ConvergenceWarning)\n"
     ]
    },
    {
     "name": "stdout",
     "output_type": "stream",
     "text": [
      "ARIMA (1, 1, 1) x (0, 1, 1, 12) : AIC Calculated =3431.947667786315, BIC Calculated =3445.8367504810008\n",
      "ARIMA (1, 1, 1) x (1, 0, 0, 12) : AIC Calculated =3431.185267542851, BIC Calculated =3445.287079299378\n",
      "ARIMA (1, 1, 1) x (1, 0, 1, 12) : AIC Calculated =3415.3439008599394, BIC Calculated =3432.9512054492507\n",
      "ARIMA (1, 1, 1) x (1, 1, 0, 12) : AIC Calculated =3415.7279588921074, BIC Calculated =3429.6338130998333\n",
      "ARIMA (1, 1, 1) x (1, 1, 1, 12) : AIC Calculated =3393.598774560397, BIC Calculated =3410.9601279287544\n"
     ]
    },
    {
     "name": "stderr",
     "output_type": "stream",
     "text": [
      "C:\\Users\\Rahkeem\\Anaconda3\\envs\\learn-env\\lib\\site-packages\\statsmodels\\base\\model.py:508: ConvergenceWarning: Maximum Likelihood optimization failed to converge. Check mle_retvals\n",
      "  \"Check mle_retvals\", ConvergenceWarning)\n"
     ]
    }
   ],
   "source": [
    "## Run multiple models with the different combination generated  for pdq & pdqs##\n",
    "ans = []\n",
    "for comb in pdq:\n",
    "    for combs in pdqs:\n",
    "        try:\n",
    "            mod = hf.model_SARIMA(df=central_fl, order=comb, s_order=combs)\n",
    "            ans.append([comb, combs, mod.aic, mod.bic])\n",
    "            print('ARIMA {} x {} : AIC Calculated ={}, BIC Calculated ={}'.format(comb, combs, mod.aic, mod.bic))\n",
    "        except:\n",
    "            continue"
   ]
  },
  {
   "cell_type": "markdown",
   "metadata": {},
   "source": [
    "After running all of the possible combinations through the seasonal ARIMA model, the results of each combination was stored in a dataframe, so that we can easily search for the optimum model."
   ]
  },
  {
   "cell_type": "code",
   "execution_count": 21,
   "metadata": {
    "scrolled": true
   },
   "outputs": [
    {
     "data": {
      "text/html": [
       "<div>\n",
       "<style scoped>\n",
       "    .dataframe tbody tr th:only-of-type {\n",
       "        vertical-align: middle;\n",
       "    }\n",
       "\n",
       "    .dataframe tbody tr th {\n",
       "        vertical-align: top;\n",
       "    }\n",
       "\n",
       "    .dataframe thead th {\n",
       "        text-align: right;\n",
       "    }\n",
       "</style>\n",
       "<table border=\"1\" class=\"dataframe\">\n",
       "  <thead>\n",
       "    <tr style=\"text-align: right;\">\n",
       "      <th></th>\n",
       "      <th>pdq</th>\n",
       "      <th>pdqs</th>\n",
       "      <th>aic</th>\n",
       "      <th>bic</th>\n",
       "    </tr>\n",
       "  </thead>\n",
       "  <tbody>\n",
       "    <tr>\n",
       "      <th>0</th>\n",
       "      <td>(0, 0, 0)</td>\n",
       "      <td>(0, 0, 0, 0)</td>\n",
       "      <td>7090.036088</td>\n",
       "      <td>7093.612037</td>\n",
       "    </tr>\n",
       "    <tr>\n",
       "      <th>1</th>\n",
       "      <td>(0, 0, 0)</td>\n",
       "      <td>(0, 0, 1, 0)</td>\n",
       "      <td>6872.806440</td>\n",
       "      <td>6879.950749</td>\n",
       "    </tr>\n",
       "    <tr>\n",
       "      <th>2</th>\n",
       "      <td>(0, 0, 0)</td>\n",
       "      <td>(1, 0, 0, 0)</td>\n",
       "      <td>4713.930258</td>\n",
       "      <td>4721.082156</td>\n",
       "    </tr>\n",
       "    <tr>\n",
       "      <th>3</th>\n",
       "      <td>(0, 0, 0)</td>\n",
       "      <td>(1, 0, 1, 0)</td>\n",
       "      <td>4352.493231</td>\n",
       "      <td>4363.209693</td>\n",
       "    </tr>\n",
       "    <tr>\n",
       "      <th>4</th>\n",
       "      <td>(0, 0, 0)</td>\n",
       "      <td>(0, 0, 0, 1)</td>\n",
       "      <td>7090.036088</td>\n",
       "      <td>7093.612037</td>\n",
       "    </tr>\n",
       "    <tr>\n",
       "      <th>5</th>\n",
       "      <td>(0, 0, 0)</td>\n",
       "      <td>(0, 0, 1, 1)</td>\n",
       "      <td>6872.806440</td>\n",
       "      <td>6879.950749</td>\n",
       "    </tr>\n",
       "    <tr>\n",
       "      <th>6</th>\n",
       "      <td>(0, 0, 0)</td>\n",
       "      <td>(0, 1, 0, 1)</td>\n",
       "      <td>4714.914364</td>\n",
       "      <td>4718.486518</td>\n",
       "    </tr>\n",
       "    <tr>\n",
       "      <th>7</th>\n",
       "      <td>(0, 0, 0)</td>\n",
       "      <td>(0, 1, 1, 1)</td>\n",
       "      <td>4353.738444</td>\n",
       "      <td>4360.875133</td>\n",
       "    </tr>\n",
       "    <tr>\n",
       "      <th>8</th>\n",
       "      <td>(0, 0, 0)</td>\n",
       "      <td>(1, 0, 0, 1)</td>\n",
       "      <td>4713.930258</td>\n",
       "      <td>4721.082156</td>\n",
       "    </tr>\n",
       "    <tr>\n",
       "      <th>9</th>\n",
       "      <td>(0, 0, 0)</td>\n",
       "      <td>(1, 0, 1, 1)</td>\n",
       "      <td>4352.493231</td>\n",
       "      <td>4363.209693</td>\n",
       "    </tr>\n",
       "    <tr>\n",
       "      <th>10</th>\n",
       "      <td>(0, 0, 0)</td>\n",
       "      <td>(1, 1, 0, 1)</td>\n",
       "      <td>3638.499163</td>\n",
       "      <td>3645.643471</td>\n",
       "    </tr>\n",
       "    <tr>\n",
       "      <th>11</th>\n",
       "      <td>(0, 0, 0)</td>\n",
       "      <td>(1, 1, 1, 1)</td>\n",
       "      <td>3571.260462</td>\n",
       "      <td>3581.965496</td>\n",
       "    </tr>\n",
       "    <tr>\n",
       "      <th>12</th>\n",
       "      <td>(0, 0, 0)</td>\n",
       "      <td>(0, 0, 0, 2)</td>\n",
       "      <td>7090.036088</td>\n",
       "      <td>7093.612037</td>\n",
       "    </tr>\n",
       "    <tr>\n",
       "      <th>13</th>\n",
       "      <td>(0, 0, 0)</td>\n",
       "      <td>(0, 0, 1, 2)</td>\n",
       "      <td>6849.867842</td>\n",
       "      <td>6857.004531</td>\n",
       "    </tr>\n",
       "    <tr>\n",
       "      <th>14</th>\n",
       "      <td>(0, 0, 0)</td>\n",
       "      <td>(0, 1, 0, 2)</td>\n",
       "      <td>5059.334395</td>\n",
       "      <td>5062.902739</td>\n",
       "    </tr>\n",
       "    <tr>\n",
       "      <th>15</th>\n",
       "      <td>(0, 0, 0)</td>\n",
       "      <td>(0, 1, 1, 2)</td>\n",
       "      <td>4960.339395</td>\n",
       "      <td>4967.460758</td>\n",
       "    </tr>\n",
       "    <tr>\n",
       "      <th>16</th>\n",
       "      <td>(0, 0, 0)</td>\n",
       "      <td>(1, 0, 0, 2)</td>\n",
       "      <td>5060.874224</td>\n",
       "      <td>5068.018532</td>\n",
       "    </tr>\n",
       "    <tr>\n",
       "      <th>17</th>\n",
       "      <td>(0, 0, 0)</td>\n",
       "      <td>(1, 0, 1, 2)</td>\n",
       "      <td>4985.428542</td>\n",
       "      <td>4996.133575</td>\n",
       "    </tr>\n",
       "    <tr>\n",
       "      <th>18</th>\n",
       "      <td>(0, 0, 0)</td>\n",
       "      <td>(1, 1, 0, 2)</td>\n",
       "      <td>4198.619304</td>\n",
       "      <td>4205.748345</td>\n",
       "    </tr>\n",
       "    <tr>\n",
       "      <th>19</th>\n",
       "      <td>(0, 0, 0)</td>\n",
       "      <td>(1, 1, 1, 2)</td>\n",
       "      <td>4171.204263</td>\n",
       "      <td>4181.886308</td>\n",
       "    </tr>\n",
       "    <tr>\n",
       "      <th>20</th>\n",
       "      <td>(0, 0, 0)</td>\n",
       "      <td>(0, 0, 0, 3)</td>\n",
       "      <td>7090.036088</td>\n",
       "      <td>7093.612037</td>\n",
       "    </tr>\n",
       "    <tr>\n",
       "      <th>21</th>\n",
       "      <td>(0, 0, 0)</td>\n",
       "      <td>(0, 0, 1, 3)</td>\n",
       "      <td>32825.366887</td>\n",
       "      <td>32832.495928</td>\n",
       "    </tr>\n",
       "    <tr>\n",
       "      <th>22</th>\n",
       "      <td>(0, 0, 0)</td>\n",
       "      <td>(0, 1, 0, 3)</td>\n",
       "      <td>5250.398927</td>\n",
       "      <td>5253.963448</td>\n",
       "    </tr>\n",
       "    <tr>\n",
       "      <th>23</th>\n",
       "      <td>(0, 0, 0)</td>\n",
       "      <td>(0, 1, 1, 3)</td>\n",
       "      <td>5158.091234</td>\n",
       "      <td>5165.197153</td>\n",
       "    </tr>\n",
       "    <tr>\n",
       "      <th>24</th>\n",
       "      <td>(0, 0, 0)</td>\n",
       "      <td>(1, 0, 0, 3)</td>\n",
       "      <td>5253.886184</td>\n",
       "      <td>5261.022873</td>\n",
       "    </tr>\n",
       "    <tr>\n",
       "      <th>25</th>\n",
       "      <td>(0, 0, 0)</td>\n",
       "      <td>(1, 0, 1, 3)</td>\n",
       "      <td>5178.985791</td>\n",
       "      <td>5189.679352</td>\n",
       "    </tr>\n",
       "    <tr>\n",
       "      <th>26</th>\n",
       "      <td>(0, 0, 0)</td>\n",
       "      <td>(1, 1, 0, 3)</td>\n",
       "      <td>4516.274975</td>\n",
       "      <td>4523.388631</td>\n",
       "    </tr>\n",
       "    <tr>\n",
       "      <th>27</th>\n",
       "      <td>(0, 0, 0)</td>\n",
       "      <td>(1, 1, 1, 3)</td>\n",
       "      <td>4491.130146</td>\n",
       "      <td>4501.789025</td>\n",
       "    </tr>\n",
       "    <tr>\n",
       "      <th>28</th>\n",
       "      <td>(0, 0, 0)</td>\n",
       "      <td>(0, 0, 0, 4)</td>\n",
       "      <td>7090.036088</td>\n",
       "      <td>7093.612037</td>\n",
       "    </tr>\n",
       "    <tr>\n",
       "      <th>29</th>\n",
       "      <td>(0, 0, 0)</td>\n",
       "      <td>(0, 0, 1, 4)</td>\n",
       "      <td>40693.676630</td>\n",
       "      <td>40700.797993</td>\n",
       "    </tr>\n",
       "    <tr>\n",
       "      <th>...</th>\n",
       "      <td>...</td>\n",
       "      <td>...</td>\n",
       "      <td>...</td>\n",
       "      <td>...</td>\n",
       "    </tr>\n",
       "    <tr>\n",
       "      <th>770</th>\n",
       "      <td>(1, 1, 1)</td>\n",
       "      <td>(0, 1, 0, 9)</td>\n",
       "      <td>3613.586274</td>\n",
       "      <td>3624.186443</td>\n",
       "    </tr>\n",
       "    <tr>\n",
       "      <th>771</th>\n",
       "      <td>(1, 1, 1)</td>\n",
       "      <td>(0, 1, 1, 9)</td>\n",
       "      <td>3380.857172</td>\n",
       "      <td>3394.845845</td>\n",
       "    </tr>\n",
       "    <tr>\n",
       "      <th>772</th>\n",
       "      <td>(1, 1, 1)</td>\n",
       "      <td>(1, 0, 0, 9)</td>\n",
       "      <td>3469.243484</td>\n",
       "      <td>3483.392821</td>\n",
       "    </tr>\n",
       "    <tr>\n",
       "      <th>773</th>\n",
       "      <td>(1, 1, 1)</td>\n",
       "      <td>(1, 0, 1, 9)</td>\n",
       "      <td>3458.449136</td>\n",
       "      <td>3476.116084</td>\n",
       "    </tr>\n",
       "    <tr>\n",
       "      <th>774</th>\n",
       "      <td>(1, 1, 1)</td>\n",
       "      <td>(1, 1, 0, 9)</td>\n",
       "      <td>3471.304956</td>\n",
       "      <td>3485.309989</td>\n",
       "    </tr>\n",
       "    <tr>\n",
       "      <th>775</th>\n",
       "      <td>(1, 1, 1)</td>\n",
       "      <td>(1, 1, 1, 9)</td>\n",
       "      <td>3368.600960</td>\n",
       "      <td>3386.086801</td>\n",
       "    </tr>\n",
       "    <tr>\n",
       "      <th>776</th>\n",
       "      <td>(1, 1, 1)</td>\n",
       "      <td>(0, 0, 0, 10)</td>\n",
       "      <td>3571.260462</td>\n",
       "      <td>3581.965496</td>\n",
       "    </tr>\n",
       "    <tr>\n",
       "      <th>777</th>\n",
       "      <td>(1, 1, 1)</td>\n",
       "      <td>(0, 0, 1, 10)</td>\n",
       "      <td>3433.582365</td>\n",
       "      <td>3447.700081</td>\n",
       "    </tr>\n",
       "    <tr>\n",
       "      <th>778</th>\n",
       "      <td>(1, 1, 1)</td>\n",
       "      <td>(0, 1, 0, 10)</td>\n",
       "      <td>3540.191962</td>\n",
       "      <td>3550.780250</td>\n",
       "    </tr>\n",
       "    <tr>\n",
       "      <th>779</th>\n",
       "      <td>(1, 1, 1)</td>\n",
       "      <td>(0, 1, 1, 10)</td>\n",
       "      <td>3412.143119</td>\n",
       "      <td>3426.098870</td>\n",
       "    </tr>\n",
       "    <tr>\n",
       "      <th>780</th>\n",
       "      <td>(1, 1, 1)</td>\n",
       "      <td>(1, 0, 0, 10)</td>\n",
       "      <td>3455.931515</td>\n",
       "      <td>3470.065073</td>\n",
       "    </tr>\n",
       "    <tr>\n",
       "      <th>781</th>\n",
       "      <td>(1, 1, 1)</td>\n",
       "      <td>(1, 0, 1, 10)</td>\n",
       "      <td>3435.460678</td>\n",
       "      <td>3453.107824</td>\n",
       "    </tr>\n",
       "    <tr>\n",
       "      <th>782</th>\n",
       "      <td>(1, 1, 1)</td>\n",
       "      <td>(1, 1, 0, 10)</td>\n",
       "      <td>3403.494599</td>\n",
       "      <td>3417.466845</td>\n",
       "    </tr>\n",
       "    <tr>\n",
       "      <th>783</th>\n",
       "      <td>(1, 1, 1)</td>\n",
       "      <td>(1, 1, 1, 10)</td>\n",
       "      <td>3334.859050</td>\n",
       "      <td>3352.303738</td>\n",
       "    </tr>\n",
       "    <tr>\n",
       "      <th>784</th>\n",
       "      <td>(1, 1, 1)</td>\n",
       "      <td>(0, 0, 0, 11)</td>\n",
       "      <td>3571.260462</td>\n",
       "      <td>3581.965496</td>\n",
       "    </tr>\n",
       "    <tr>\n",
       "      <th>785</th>\n",
       "      <td>(1, 1, 1)</td>\n",
       "      <td>(0, 0, 1, 11)</td>\n",
       "      <td>3416.558973</td>\n",
       "      <td>3430.660784</td>\n",
       "    </tr>\n",
       "    <tr>\n",
       "      <th>786</th>\n",
       "      <td>(1, 1, 1)</td>\n",
       "      <td>(0, 1, 0, 11)</td>\n",
       "      <td>3525.786710</td>\n",
       "      <td>3536.363068</td>\n",
       "    </tr>\n",
       "    <tr>\n",
       "      <th>787</th>\n",
       "      <td>(1, 1, 1)</td>\n",
       "      <td>(0, 1, 1, 11)</td>\n",
       "      <td>3377.425252</td>\n",
       "      <td>3391.347807</td>\n",
       "    </tr>\n",
       "    <tr>\n",
       "      <th>788</th>\n",
       "      <td>(1, 1, 1)</td>\n",
       "      <td>(1, 0, 0, 11)</td>\n",
       "      <td>3443.294446</td>\n",
       "      <td>3457.412162</td>\n",
       "    </tr>\n",
       "    <tr>\n",
       "      <th>789</th>\n",
       "      <td>(1, 1, 1)</td>\n",
       "      <td>(1, 0, 1, 11)</td>\n",
       "      <td>3418.310527</td>\n",
       "      <td>3435.937792</td>\n",
       "    </tr>\n",
       "    <tr>\n",
       "      <th>790</th>\n",
       "      <td>(1, 1, 1)</td>\n",
       "      <td>(1, 1, 0, 11)</td>\n",
       "      <td>3373.819459</td>\n",
       "      <td>3387.758647</td>\n",
       "    </tr>\n",
       "    <tr>\n",
       "      <th>791</th>\n",
       "      <td>(1, 1, 1)</td>\n",
       "      <td>(1, 1, 1, 11)</td>\n",
       "      <td>3370.722811</td>\n",
       "      <td>3388.126005</td>\n",
       "    </tr>\n",
       "    <tr>\n",
       "      <th>792</th>\n",
       "      <td>(1, 1, 1)</td>\n",
       "      <td>(0, 0, 0, 12)</td>\n",
       "      <td>3571.260462</td>\n",
       "      <td>3581.965496</td>\n",
       "    </tr>\n",
       "    <tr>\n",
       "      <th>793</th>\n",
       "      <td>(1, 1, 1)</td>\n",
       "      <td>(0, 0, 1, 12)</td>\n",
       "      <td>3420.715659</td>\n",
       "      <td>3434.801503</td>\n",
       "    </tr>\n",
       "    <tr>\n",
       "      <th>794</th>\n",
       "      <td>(1, 1, 1)</td>\n",
       "      <td>(0, 1, 0, 12)</td>\n",
       "      <td>3589.373629</td>\n",
       "      <td>3599.938012</td>\n",
       "    </tr>\n",
       "    <tr>\n",
       "      <th>795</th>\n",
       "      <td>(1, 1, 1)</td>\n",
       "      <td>(0, 1, 1, 12)</td>\n",
       "      <td>3431.947668</td>\n",
       "      <td>3445.836750</td>\n",
       "    </tr>\n",
       "    <tr>\n",
       "      <th>796</th>\n",
       "      <td>(1, 1, 1)</td>\n",
       "      <td>(1, 0, 0, 12)</td>\n",
       "      <td>3431.185268</td>\n",
       "      <td>3445.287079</td>\n",
       "    </tr>\n",
       "    <tr>\n",
       "      <th>797</th>\n",
       "      <td>(1, 1, 1)</td>\n",
       "      <td>(1, 0, 1, 12)</td>\n",
       "      <td>3415.343901</td>\n",
       "      <td>3432.951205</td>\n",
       "    </tr>\n",
       "    <tr>\n",
       "      <th>798</th>\n",
       "      <td>(1, 1, 1)</td>\n",
       "      <td>(1, 1, 0, 12)</td>\n",
       "      <td>3415.727959</td>\n",
       "      <td>3429.633813</td>\n",
       "    </tr>\n",
       "    <tr>\n",
       "      <th>799</th>\n",
       "      <td>(1, 1, 1)</td>\n",
       "      <td>(1, 1, 1, 12)</td>\n",
       "      <td>3393.598775</td>\n",
       "      <td>3410.960128</td>\n",
       "    </tr>\n",
       "  </tbody>\n",
       "</table>\n",
       "<p>800 rows × 4 columns</p>\n",
       "</div>"
      ],
      "text/plain": [
       "           pdq           pdqs           aic           bic\n",
       "0    (0, 0, 0)   (0, 0, 0, 0)   7090.036088   7093.612037\n",
       "1    (0, 0, 0)   (0, 0, 1, 0)   6872.806440   6879.950749\n",
       "2    (0, 0, 0)   (1, 0, 0, 0)   4713.930258   4721.082156\n",
       "3    (0, 0, 0)   (1, 0, 1, 0)   4352.493231   4363.209693\n",
       "4    (0, 0, 0)   (0, 0, 0, 1)   7090.036088   7093.612037\n",
       "5    (0, 0, 0)   (0, 0, 1, 1)   6872.806440   6879.950749\n",
       "6    (0, 0, 0)   (0, 1, 0, 1)   4714.914364   4718.486518\n",
       "7    (0, 0, 0)   (0, 1, 1, 1)   4353.738444   4360.875133\n",
       "8    (0, 0, 0)   (1, 0, 0, 1)   4713.930258   4721.082156\n",
       "9    (0, 0, 0)   (1, 0, 1, 1)   4352.493231   4363.209693\n",
       "10   (0, 0, 0)   (1, 1, 0, 1)   3638.499163   3645.643471\n",
       "11   (0, 0, 0)   (1, 1, 1, 1)   3571.260462   3581.965496\n",
       "12   (0, 0, 0)   (0, 0, 0, 2)   7090.036088   7093.612037\n",
       "13   (0, 0, 0)   (0, 0, 1, 2)   6849.867842   6857.004531\n",
       "14   (0, 0, 0)   (0, 1, 0, 2)   5059.334395   5062.902739\n",
       "15   (0, 0, 0)   (0, 1, 1, 2)   4960.339395   4967.460758\n",
       "16   (0, 0, 0)   (1, 0, 0, 2)   5060.874224   5068.018532\n",
       "17   (0, 0, 0)   (1, 0, 1, 2)   4985.428542   4996.133575\n",
       "18   (0, 0, 0)   (1, 1, 0, 2)   4198.619304   4205.748345\n",
       "19   (0, 0, 0)   (1, 1, 1, 2)   4171.204263   4181.886308\n",
       "20   (0, 0, 0)   (0, 0, 0, 3)   7090.036088   7093.612037\n",
       "21   (0, 0, 0)   (0, 0, 1, 3)  32825.366887  32832.495928\n",
       "22   (0, 0, 0)   (0, 1, 0, 3)   5250.398927   5253.963448\n",
       "23   (0, 0, 0)   (0, 1, 1, 3)   5158.091234   5165.197153\n",
       "24   (0, 0, 0)   (1, 0, 0, 3)   5253.886184   5261.022873\n",
       "25   (0, 0, 0)   (1, 0, 1, 3)   5178.985791   5189.679352\n",
       "26   (0, 0, 0)   (1, 1, 0, 3)   4516.274975   4523.388631\n",
       "27   (0, 0, 0)   (1, 1, 1, 3)   4491.130146   4501.789025\n",
       "28   (0, 0, 0)   (0, 0, 0, 4)   7090.036088   7093.612037\n",
       "29   (0, 0, 0)   (0, 0, 1, 4)  40693.676630  40700.797993\n",
       "..         ...            ...           ...           ...\n",
       "770  (1, 1, 1)   (0, 1, 0, 9)   3613.586274   3624.186443\n",
       "771  (1, 1, 1)   (0, 1, 1, 9)   3380.857172   3394.845845\n",
       "772  (1, 1, 1)   (1, 0, 0, 9)   3469.243484   3483.392821\n",
       "773  (1, 1, 1)   (1, 0, 1, 9)   3458.449136   3476.116084\n",
       "774  (1, 1, 1)   (1, 1, 0, 9)   3471.304956   3485.309989\n",
       "775  (1, 1, 1)   (1, 1, 1, 9)   3368.600960   3386.086801\n",
       "776  (1, 1, 1)  (0, 0, 0, 10)   3571.260462   3581.965496\n",
       "777  (1, 1, 1)  (0, 0, 1, 10)   3433.582365   3447.700081\n",
       "778  (1, 1, 1)  (0, 1, 0, 10)   3540.191962   3550.780250\n",
       "779  (1, 1, 1)  (0, 1, 1, 10)   3412.143119   3426.098870\n",
       "780  (1, 1, 1)  (1, 0, 0, 10)   3455.931515   3470.065073\n",
       "781  (1, 1, 1)  (1, 0, 1, 10)   3435.460678   3453.107824\n",
       "782  (1, 1, 1)  (1, 1, 0, 10)   3403.494599   3417.466845\n",
       "783  (1, 1, 1)  (1, 1, 1, 10)   3334.859050   3352.303738\n",
       "784  (1, 1, 1)  (0, 0, 0, 11)   3571.260462   3581.965496\n",
       "785  (1, 1, 1)  (0, 0, 1, 11)   3416.558973   3430.660784\n",
       "786  (1, 1, 1)  (0, 1, 0, 11)   3525.786710   3536.363068\n",
       "787  (1, 1, 1)  (0, 1, 1, 11)   3377.425252   3391.347807\n",
       "788  (1, 1, 1)  (1, 0, 0, 11)   3443.294446   3457.412162\n",
       "789  (1, 1, 1)  (1, 0, 1, 11)   3418.310527   3435.937792\n",
       "790  (1, 1, 1)  (1, 1, 0, 11)   3373.819459   3387.758647\n",
       "791  (1, 1, 1)  (1, 1, 1, 11)   3370.722811   3388.126005\n",
       "792  (1, 1, 1)  (0, 0, 0, 12)   3571.260462   3581.965496\n",
       "793  (1, 1, 1)  (0, 0, 1, 12)   3420.715659   3434.801503\n",
       "794  (1, 1, 1)  (0, 1, 0, 12)   3589.373629   3599.938012\n",
       "795  (1, 1, 1)  (0, 1, 1, 12)   3431.947668   3445.836750\n",
       "796  (1, 1, 1)  (1, 0, 0, 12)   3431.185268   3445.287079\n",
       "797  (1, 1, 1)  (1, 0, 1, 12)   3415.343901   3432.951205\n",
       "798  (1, 1, 1)  (1, 1, 0, 12)   3415.727959   3429.633813\n",
       "799  (1, 1, 1)  (1, 1, 1, 12)   3393.598775   3410.960128\n",
       "\n",
       "[800 rows x 4 columns]"
      ]
     },
     "execution_count": 21,
     "metadata": {},
     "output_type": "execute_result"
    }
   ],
   "source": [
    "ans_df = pd.DataFrame(ans, columns=['pdq', 'pdqs', 'aic', 'bic'])\n",
    "ans_df"
   ]
  },
  {
   "cell_type": "markdown",
   "metadata": {},
   "source": [
    "Here we see that the our best model has both the highest `aic`and `bic` scores."
   ]
  },
  {
   "cell_type": "code",
   "execution_count": 22,
   "metadata": {},
   "outputs": [
    {
     "data": {
      "text/plain": [
       "pdq         (1, 1, 1)\n",
       "pdqs    (1, 1, 1, 10)\n",
       "aic           3334.86\n",
       "bic            3352.3\n",
       "Name: 783, dtype: object"
      ]
     },
     "execution_count": 22,
     "metadata": {},
     "output_type": "execute_result"
    }
   ],
   "source": [
    "ans_df.loc[ans_df['aic'].idxmin()]"
   ]
  },
  {
   "cell_type": "code",
   "execution_count": 23,
   "metadata": {},
   "outputs": [
    {
     "data": {
      "text/plain": [
       "pdq         (1, 1, 1)\n",
       "pdqs    (1, 1, 1, 10)\n",
       "aic           3334.86\n",
       "bic            3352.3\n",
       "Name: 783, dtype: object"
      ]
     },
     "execution_count": 23,
     "metadata": {},
     "output_type": "execute_result"
    }
   ],
   "source": [
    "ans_df.loc[ans_df['bic'].idxmin()]"
   ]
  },
  {
   "cell_type": "code",
   "execution_count": 24,
   "metadata": {},
   "outputs": [
    {
     "data": {
      "text/html": [
       "<div>\n",
       "<style scoped>\n",
       "    .dataframe tbody tr th:only-of-type {\n",
       "        vertical-align: middle;\n",
       "    }\n",
       "\n",
       "    .dataframe tbody tr th {\n",
       "        vertical-align: top;\n",
       "    }\n",
       "\n",
       "    .dataframe thead th {\n",
       "        text-align: right;\n",
       "    }\n",
       "</style>\n",
       "<table border=\"1\" class=\"dataframe\">\n",
       "  <thead>\n",
       "    <tr style=\"text-align: right;\">\n",
       "      <th></th>\n",
       "      <th>pdq</th>\n",
       "      <th>pdqs</th>\n",
       "      <th>aic</th>\n",
       "      <th>bic</th>\n",
       "    </tr>\n",
       "  </thead>\n",
       "  <tbody>\n",
       "    <tr>\n",
       "      <th>783</th>\n",
       "      <td>(1, 1, 1)</td>\n",
       "      <td>(1, 1, 1, 10)</td>\n",
       "      <td>3334.859050</td>\n",
       "      <td>3352.303738</td>\n",
       "    </tr>\n",
       "    <tr>\n",
       "      <th>775</th>\n",
       "      <td>(1, 1, 1)</td>\n",
       "      <td>(1, 1, 1, 9)</td>\n",
       "      <td>3368.600960</td>\n",
       "      <td>3386.086801</td>\n",
       "    </tr>\n",
       "    <tr>\n",
       "      <th>791</th>\n",
       "      <td>(1, 1, 1)</td>\n",
       "      <td>(1, 1, 1, 11)</td>\n",
       "      <td>3370.722811</td>\n",
       "      <td>3388.126005</td>\n",
       "    </tr>\n",
       "    <tr>\n",
       "      <th>790</th>\n",
       "      <td>(1, 1, 1)</td>\n",
       "      <td>(1, 1, 0, 11)</td>\n",
       "      <td>3373.819459</td>\n",
       "      <td>3387.758647</td>\n",
       "    </tr>\n",
       "    <tr>\n",
       "      <th>787</th>\n",
       "      <td>(1, 1, 1)</td>\n",
       "      <td>(0, 1, 1, 11)</td>\n",
       "      <td>3377.425252</td>\n",
       "      <td>3391.347807</td>\n",
       "    </tr>\n",
       "    <tr>\n",
       "      <th>771</th>\n",
       "      <td>(1, 1, 1)</td>\n",
       "      <td>(0, 1, 1, 9)</td>\n",
       "      <td>3380.857172</td>\n",
       "      <td>3394.845845</td>\n",
       "    </tr>\n",
       "    <tr>\n",
       "      <th>767</th>\n",
       "      <td>(1, 1, 1)</td>\n",
       "      <td>(1, 1, 1, 8)</td>\n",
       "      <td>3392.524334</td>\n",
       "      <td>3410.050992</td>\n",
       "    </tr>\n",
       "    <tr>\n",
       "      <th>799</th>\n",
       "      <td>(1, 1, 1)</td>\n",
       "      <td>(1, 1, 1, 12)</td>\n",
       "      <td>3393.598775</td>\n",
       "      <td>3410.960128</td>\n",
       "    </tr>\n",
       "    <tr>\n",
       "      <th>782</th>\n",
       "      <td>(1, 1, 1)</td>\n",
       "      <td>(1, 1, 0, 10)</td>\n",
       "      <td>3403.494599</td>\n",
       "      <td>3417.466845</td>\n",
       "    </tr>\n",
       "    <tr>\n",
       "      <th>690</th>\n",
       "      <td>(1, 1, 0)</td>\n",
       "      <td>(1, 1, 0, 11)</td>\n",
       "      <td>3407.564192</td>\n",
       "      <td>3418.018583</td>\n",
       "    </tr>\n",
       "  </tbody>\n",
       "</table>\n",
       "</div>"
      ],
      "text/plain": [
       "           pdq           pdqs          aic          bic\n",
       "783  (1, 1, 1)  (1, 1, 1, 10)  3334.859050  3352.303738\n",
       "775  (1, 1, 1)   (1, 1, 1, 9)  3368.600960  3386.086801\n",
       "791  (1, 1, 1)  (1, 1, 1, 11)  3370.722811  3388.126005\n",
       "790  (1, 1, 1)  (1, 1, 0, 11)  3373.819459  3387.758647\n",
       "787  (1, 1, 1)  (0, 1, 1, 11)  3377.425252  3391.347807\n",
       "771  (1, 1, 1)   (0, 1, 1, 9)  3380.857172  3394.845845\n",
       "767  (1, 1, 1)   (1, 1, 1, 8)  3392.524334  3410.050992\n",
       "799  (1, 1, 1)  (1, 1, 1, 12)  3393.598775  3410.960128\n",
       "782  (1, 1, 1)  (1, 1, 0, 10)  3403.494599  3417.466845\n",
       "690  (1, 1, 0)  (1, 1, 0, 11)  3407.564192  3418.018583"
      ]
     },
     "execution_count": 24,
     "metadata": {},
     "output_type": "execute_result"
    }
   ],
   "source": [
    "ans_df.sort_values(by=['aic','bic'], ascending=True, inplace=True)\n",
    "ans_df.head(10)"
   ]
  },
  {
   "cell_type": "markdown",
   "metadata": {},
   "source": [
    "Now that we have the results from our SARIMA model, we will now take the results with best AIC and BIC and pass it into our Model to see how ti performed compared to the others"
   ]
  },
  {
   "cell_type": "markdown",
   "metadata": {},
   "source": [
    "Fitting ARIMA Time Series Model "
   ]
  },
  {
   "cell_type": "code",
   "execution_count": 25,
   "metadata": {
    "scrolled": false
   },
   "outputs": [
    {
     "name": "stdout",
     "output_type": "stream",
     "text": [
      "==============================================================================\n",
      "                 coef    std err          z      P>|z|      [0.025      0.975]\n",
      "------------------------------------------------------------------------------\n",
      "ar.L1          0.9850      0.014     69.530      0.000       0.957       1.013\n",
      "ma.L1          0.4889      0.031     15.526      0.000       0.427       0.551\n",
      "ar.S.L10       0.0283      0.014      1.999      0.046       0.001       0.056\n",
      "ma.S.L10      -0.9909      0.359     -2.762      0.006      -1.694      -0.288\n",
      "sigma2      4.842e+04   1.53e+04      3.155      0.002    1.83e+04    7.85e+04\n",
      "==============================================================================\n"
     ]
    }
   ],
   "source": [
    "### Get the results of our best parameters for our ARIMA model ###\n",
    "order = ans_df.loc[ans_df['aic'].idxmin()]['pdq']\n",
    "s_order = ans_df.loc[ans_df['aic'].idxmin()]['pdqs']\n",
    "SARIMA_MODEL = hf.model_SARIMA(central_fl, order=order, s_order=s_order, print_table=True)"
   ]
  },
  {
   "cell_type": "markdown",
   "metadata": {},
   "source": [
    "Now, we are going to take a look where some of the residuals are deviating from the standard deviation and attempt to create a batter model with"
   ]
  },
  {
   "cell_type": "markdown",
   "metadata": {},
   "source": [
    "### Plottting residuals "
   ]
  },
  {
   "cell_type": "code",
   "execution_count": 26,
   "metadata": {
    "scrolled": false
   },
   "outputs": [
    {
     "data": {
      "image/png": "[encoded data removed]",
      "text/plain": [
       "<Figure size 1080x1296 with 4 Axes>"
      ]
     },
     "metadata": {
      "needs_background": "light"
     },
     "output_type": "display_data"
    }
   ],
   "source": [
    "hf.diagnostics_plot(model=SARIMA_MODEL)"
   ]
  },
  {
   "cell_type": "markdown",
   "metadata": {},
   "source": [
    "Based on the results of the plot diagnostics, we see that our data is not normally distributed. From here, we will continue to further look into our model and attempt to improve the results by removing outliers and the residuals that are causing issues within our model."
   ]
  },
  {
   "cell_type": "markdown",
   "metadata": {},
   "source": [
    "## Making predictions using our model parameters "
   ]
  },
  {
   "cell_type": "code",
   "execution_count": 27,
   "metadata": {
    "scrolled": true
   },
   "outputs": [
    {
     "data": {
      "text/plain": [
       "value   1996-04-01\n",
       "dtype: datetime64[ns]"
      ]
     },
     "execution_count": 27,
     "metadata": {},
     "output_type": "execute_result"
    }
   ],
   "source": [
    "central_fl.idxmin()"
   ]
  },
  {
   "cell_type": "code",
   "execution_count": 28,
   "metadata": {
    "scrolled": false
   },
   "outputs": [
    {
     "data": {
      "image/png": "[encoded data removed]",
      "text/plain": [
       "<Figure size 1080x432 with 1 Axes>"
      ]
     },
     "metadata": {
      "needs_background": "light"
     },
     "output_type": "display_data"
    },
    {
     "name": "stdout",
     "output_type": "stream",
     "text": [
      "The Mean Squared Error of our forecasts is 51361.05\n"
     ]
    }
   ],
   "source": [
    "hf.one_step_ahead_forecast(df=central_fl, start_date='2014', end_date='2021', arima_model=SARIMA_MODEL)"
   ]
  },
  {
   "cell_type": "markdown",
   "metadata": {},
   "source": [
    "### Dynamic forecasting of the data\n"
   ]
  },
  {
   "cell_type": "code",
   "execution_count": 29,
   "metadata": {
    "scrolled": false
   },
   "outputs": [
    {
     "name": "stdout",
     "output_type": "stream",
     "text": [
      "The Mean Squared Error of our Dynamic forecasts is 52496946.2\n"
     ]
    },
    {
     "data": {
      "image/png": "[encoded data removed]",
      "text/plain": [
       "<Figure size 1080x432 with 1 Axes>"
      ]
     },
     "metadata": {
      "needs_background": "light"
     },
     "output_type": "display_data"
    }
   ],
   "source": [
    "hf.dynamic_prediction(df=central_fl, start_date='2014', end_date='2021', arima_model=SARIMA_MODEL)"
   ]
  },
  {
   "cell_type": "markdown",
   "metadata": {},
   "source": [
    "Based on the results of our dynamic prediction, the housign prices are forecast to steadily increase into 2021"
   ]
  },
  {
   "cell_type": "markdown",
   "metadata": {},
   "source": [
    "## Findng the best zip code within Orange County"
   ]
  },
  {
   "cell_type": "markdown",
   "metadata": {},
   "source": [
    "To find the best zip code within the given area, we wil use the following formula to calculate the return of investment:\n",
    "\n",
    "$$\\large R.O.I = \\frac{(GFI - CoI)}{CoI}$$\n",
    "\n",
    "- ROI = Return of Investment\n",
    "- GFI = Gain from Investment\n",
    "- CoI = Cost of Investment\n",
    "\n",
    "Our Cost of Ivestment will be the average of 2017, since we do not have a complete dataset for 2018\n",
    "\n",
    "\n",
    "To calculate GFI, we will take our cost of investment and subtract it from the average predicted means from 2018 to 2021.\n",
    "\n",
    "We will then use the formula above to calculate the return of investment for each zip code observed"
   ]
  },
  {
   "cell_type": "code",
   "execution_count": 38,
   "metadata": {},
   "outputs": [],
   "source": [
    "## Zipcodes of Orange County, Florida\n",
    "zipcodes = df_fl.loc[(df_fl.CountyName.isin(central_florida))].RegionName.unique()"
   ]
  },
  {
   "cell_type": "code",
   "execution_count": 39,
   "metadata": {
    "scrolled": true
   },
   "outputs": [
    {
     "name": "stderr",
     "output_type": "stream",
     "text": [
      "C:\\Users\\Rahkeem\\Anaconda3\\envs\\learn-env\\lib\\site-packages\\statsmodels\\base\\model.py:508: ConvergenceWarning: Maximum Likelihood optimization failed to converge. Check mle_retvals\n",
      "  \"Check mle_retvals\", ConvergenceWarning)\n",
      "C:\\Users\\Rahkeem\\Anaconda3\\envs\\learn-env\\lib\\site-packages\\statsmodels\\base\\model.py:508: ConvergenceWarning: Maximum Likelihood optimization failed to converge. Check mle_retvals\n",
      "  \"Check mle_retvals\", ConvergenceWarning)\n",
      "C:\\Users\\Rahkeem\\Anaconda3\\envs\\learn-env\\lib\\site-packages\\statsmodels\\base\\model.py:508: ConvergenceWarning: Maximum Likelihood optimization failed to converge. Check mle_retvals\n",
      "  \"Check mle_retvals\", ConvergenceWarning)\n",
      "C:\\Users\\Rahkeem\\Anaconda3\\envs\\learn-env\\lib\\site-packages\\statsmodels\\base\\model.py:508: ConvergenceWarning: Maximum Likelihood optimization failed to converge. Check mle_retvals\n",
      "  \"Check mle_retvals\", ConvergenceWarning)\n",
      "C:\\Users\\Rahkeem\\Anaconda3\\envs\\learn-env\\lib\\site-packages\\statsmodels\\base\\model.py:508: ConvergenceWarning: Maximum Likelihood optimization failed to converge. Check mle_retvals\n",
      "  \"Check mle_retvals\", ConvergenceWarning)\n",
      "C:\\Users\\Rahkeem\\Anaconda3\\envs\\learn-env\\lib\\site-packages\\statsmodels\\base\\model.py:508: ConvergenceWarning: Maximum Likelihood optimization failed to converge. Check mle_retvals\n",
      "  \"Check mle_retvals\", ConvergenceWarning)\n",
      "C:\\Users\\Rahkeem\\Anaconda3\\envs\\learn-env\\lib\\site-packages\\statsmodels\\base\\model.py:508: ConvergenceWarning: Maximum Likelihood optimization failed to converge. Check mle_retvals\n",
      "  \"Check mle_retvals\", ConvergenceWarning)\n",
      "C:\\Users\\Rahkeem\\Anaconda3\\envs\\learn-env\\lib\\site-packages\\statsmodels\\base\\model.py:508: ConvergenceWarning: Maximum Likelihood optimization failed to converge. Check mle_retvals\n",
      "  \"Check mle_retvals\", ConvergenceWarning)\n",
      "C:\\Users\\Rahkeem\\Anaconda3\\envs\\learn-env\\lib\\site-packages\\statsmodels\\base\\model.py:508: ConvergenceWarning: Maximum Likelihood optimization failed to converge. Check mle_retvals\n",
      "  \"Check mle_retvals\", ConvergenceWarning)\n",
      "C:\\Users\\Rahkeem\\Anaconda3\\envs\\learn-env\\lib\\site-packages\\statsmodels\\base\\model.py:508: ConvergenceWarning: Maximum Likelihood optimization failed to converge. Check mle_retvals\n",
      "  \"Check mle_retvals\", ConvergenceWarning)\n",
      "C:\\Users\\Rahkeem\\Anaconda3\\envs\\learn-env\\lib\\site-packages\\statsmodels\\base\\model.py:508: ConvergenceWarning: Maximum Likelihood optimization failed to converge. Check mle_retvals\n",
      "  \"Check mle_retvals\", ConvergenceWarning)\n",
      "C:\\Users\\Rahkeem\\Anaconda3\\envs\\learn-env\\lib\\site-packages\\statsmodels\\base\\model.py:508: ConvergenceWarning: Maximum Likelihood optimization failed to converge. Check mle_retvals\n",
      "  \"Check mle_retvals\", ConvergenceWarning)\n",
      "C:\\Users\\Rahkeem\\Anaconda3\\envs\\learn-env\\lib\\site-packages\\statsmodels\\base\\model.py:508: ConvergenceWarning: Maximum Likelihood optimization failed to converge. Check mle_retvals\n",
      "  \"Check mle_retvals\", ConvergenceWarning)\n",
      "C:\\Users\\Rahkeem\\Anaconda3\\envs\\learn-env\\lib\\site-packages\\statsmodels\\base\\model.py:508: ConvergenceWarning: Maximum Likelihood optimization failed to converge. Check mle_retvals\n",
      "  \"Check mle_retvals\", ConvergenceWarning)\n",
      "C:\\Users\\Rahkeem\\Anaconda3\\envs\\learn-env\\lib\\site-packages\\statsmodels\\base\\model.py:508: ConvergenceWarning: Maximum Likelihood optimization failed to converge. Check mle_retvals\n",
      "  \"Check mle_retvals\", ConvergenceWarning)\n",
      "C:\\Users\\Rahkeem\\Anaconda3\\envs\\learn-env\\lib\\site-packages\\statsmodels\\base\\model.py:508: ConvergenceWarning: Maximum Likelihood optimization failed to converge. Check mle_retvals\n",
      "  \"Check mle_retvals\", ConvergenceWarning)\n",
      "C:\\Users\\Rahkeem\\Anaconda3\\envs\\learn-env\\lib\\site-packages\\statsmodels\\base\\model.py:508: ConvergenceWarning: Maximum Likelihood optimization failed to converge. Check mle_retvals\n",
      "  \"Check mle_retvals\", ConvergenceWarning)\n",
      "C:\\Users\\Rahkeem\\Anaconda3\\envs\\learn-env\\lib\\site-packages\\statsmodels\\base\\model.py:508: ConvergenceWarning: Maximum Likelihood optimization failed to converge. Check mle_retvals\n",
      "  \"Check mle_retvals\", ConvergenceWarning)\n",
      "C:\\Users\\Rahkeem\\Anaconda3\\envs\\learn-env\\lib\\site-packages\\statsmodels\\base\\model.py:508: ConvergenceWarning: Maximum Likelihood optimization failed to converge. Check mle_retvals\n",
      "  \"Check mle_retvals\", ConvergenceWarning)\n",
      "C:\\Users\\Rahkeem\\Anaconda3\\envs\\learn-env\\lib\\site-packages\\statsmodels\\base\\model.py:508: ConvergenceWarning: Maximum Likelihood optimization failed to converge. Check mle_retvals\n",
      "  \"Check mle_retvals\", ConvergenceWarning)\n",
      "C:\\Users\\Rahkeem\\Anaconda3\\envs\\learn-env\\lib\\site-packages\\statsmodels\\base\\model.py:508: ConvergenceWarning: Maximum Likelihood optimization failed to converge. Check mle_retvals\n",
      "  \"Check mle_retvals\", ConvergenceWarning)\n",
      "C:\\Users\\Rahkeem\\Anaconda3\\envs\\learn-env\\lib\\site-packages\\statsmodels\\base\\model.py:508: ConvergenceWarning: Maximum Likelihood optimization failed to converge. Check mle_retvals\n",
      "  \"Check mle_retvals\", ConvergenceWarning)\n",
      "C:\\Users\\Rahkeem\\Anaconda3\\envs\\learn-env\\lib\\site-packages\\statsmodels\\base\\model.py:508: ConvergenceWarning: Maximum Likelihood optimization failed to converge. Check mle_retvals\n",
      "  \"Check mle_retvals\", ConvergenceWarning)\n"
     ]
    }
   ],
   "source": [
    "ROI_list = []\n",
    "model_list = []\n",
    "\n",
    "## Loop to get each zip code and calculate return on ivestment ##\n",
    "for code in zipcodes:\n",
    "\n",
    "    zip_df = df_fl.loc[(df_fl.RegionName==code), ['value']].resample('MS').mean()\n",
    "    zip_model = hf.model_SARIMA(zip_df, order=order, s_order=s_order)\n",
    "\n",
    "    pred = zip_model.get_prediction(start=pd.to_datetime('2014'), end=pd.to_datetime('2021'))\n",
    "\n",
    "    ## Define the initial cost of investment as of 2017 ##\n",
    "    cost_of_investment = zip_df['2017'].value.mean()\n",
    "\n",
    "    ## Calculate gain from investmnt from 2018 up to 2021 ##\n",
    "    gain_from_investment = pred.predicted_mean['2018':].mean()\n",
    "\n",
    "    ## calculate Return of Investment for the observed zip code\n",
    "    ROI = (gain_from_investment - cost_of_investment)/cost_of_investment\n",
    "    ROI_list.append(ROI)\n",
    "    model_list.append(zip_model)"
   ]
  },
  {
   "cell_type": "code",
   "execution_count": 40,
   "metadata": {},
   "outputs": [],
   "source": [
    "df_results = pd.DataFrame(data=list(zip(zipcodes, ROI_list, model_list)), columns=['zip_code','ROI','model'])\n",
    "# df_results['county'] = df_results.zip_code.apply(lambda x: central_fl[(df_fl.RegionName == x)].CountyName.unique())"
   ]
  },
  {
   "cell_type": "markdown",
   "metadata": {},
   "source": [
    "# Step 6: Interpreting Results"
   ]
  },
  {
   "cell_type": "markdown",
   "metadata": {},
   "source": [
    "Based on the results of our model, the top 5 zip codes to purchase a house from 2018 -2021 are as follows:\n",
    "    "
   ]
  },
  {
   "cell_type": "code",
   "execution_count": 46,
   "metadata": {
    "scrolled": true
   },
   "outputs": [
    {
     "data": {
      "text/html": [
       "<div>\n",
       "<style scoped>\n",
       "    .dataframe tbody tr th:only-of-type {\n",
       "        vertical-align: middle;\n",
       "    }\n",
       "\n",
       "    .dataframe tbody tr th {\n",
       "        vertical-align: top;\n",
       "    }\n",
       "\n",
       "    .dataframe thead th {\n",
       "        text-align: right;\n",
       "    }\n",
       "</style>\n",
       "<table border=\"1\" class=\"dataframe\">\n",
       "  <thead>\n",
       "    <tr style=\"text-align: right;\">\n",
       "      <th></th>\n",
       "      <th>zip_code</th>\n",
       "      <th>ROI</th>\n",
       "      <th>model</th>\n",
       "      <th>county</th>\n",
       "    </tr>\n",
       "  </thead>\n",
       "  <tbody>\n",
       "    <tr>\n",
       "      <th>223</th>\n",
       "      <td>34785</td>\n",
       "      <td>0.821538</td>\n",
       "      <td>&lt;statsmodels.tsa.statespace.sarimax.SARIMAXRes...</td>\n",
       "      <td>[Sumter]</td>\n",
       "    </tr>\n",
       "    <tr>\n",
       "      <th>79</th>\n",
       "      <td>34652</td>\n",
       "      <td>0.729564</td>\n",
       "      <td>&lt;statsmodels.tsa.statespace.sarimax.SARIMAXRes...</td>\n",
       "      <td>[Pasco]</td>\n",
       "    </tr>\n",
       "    <tr>\n",
       "      <th>122</th>\n",
       "      <td>34691</td>\n",
       "      <td>0.642348</td>\n",
       "      <td>&lt;statsmodels.tsa.statespace.sarimax.SARIMAXRes...</td>\n",
       "      <td>[Pasco]</td>\n",
       "    </tr>\n",
       "    <tr>\n",
       "      <th>239</th>\n",
       "      <td>34488</td>\n",
       "      <td>0.580343</td>\n",
       "      <td>&lt;statsmodels.tsa.statespace.sarimax.SARIMAXRes...</td>\n",
       "      <td>[Marion]</td>\n",
       "    </tr>\n",
       "    <tr>\n",
       "      <th>212</th>\n",
       "      <td>34690</td>\n",
       "      <td>0.561948</td>\n",
       "      <td>&lt;statsmodels.tsa.statespace.sarimax.SARIMAXRes...</td>\n",
       "      <td>[Pasco]</td>\n",
       "    </tr>\n",
       "    <tr>\n",
       "      <th>249</th>\n",
       "      <td>33513</td>\n",
       "      <td>0.534331</td>\n",
       "      <td>&lt;statsmodels.tsa.statespace.sarimax.SARIMAXRes...</td>\n",
       "      <td>[Sumter]</td>\n",
       "    </tr>\n",
       "    <tr>\n",
       "      <th>92</th>\n",
       "      <td>32117</td>\n",
       "      <td>0.482835</td>\n",
       "      <td>&lt;statsmodels.tsa.statespace.sarimax.SARIMAXRes...</td>\n",
       "      <td>[Volusia]</td>\n",
       "    </tr>\n",
       "    <tr>\n",
       "      <th>49</th>\n",
       "      <td>33881</td>\n",
       "      <td>0.477594</td>\n",
       "      <td>&lt;statsmodels.tsa.statespace.sarimax.SARIMAXRes...</td>\n",
       "      <td>[Polk]</td>\n",
       "    </tr>\n",
       "    <tr>\n",
       "      <th>221</th>\n",
       "      <td>32976</td>\n",
       "      <td>0.475470</td>\n",
       "      <td>&lt;statsmodels.tsa.statespace.sarimax.SARIMAXRes...</td>\n",
       "      <td>[Brevard]</td>\n",
       "    </tr>\n",
       "    <tr>\n",
       "      <th>318</th>\n",
       "      <td>32764</td>\n",
       "      <td>0.469361</td>\n",
       "      <td>&lt;statsmodels.tsa.statespace.sarimax.SARIMAXRes...</td>\n",
       "      <td>[Brevard]</td>\n",
       "    </tr>\n",
       "  </tbody>\n",
       "</table>\n",
       "</div>"
      ],
      "text/plain": [
       "    zip_code       ROI                                              model  \\\n",
       "223    34785  0.821538  <statsmodels.tsa.statespace.sarimax.SARIMAXRes...   \n",
       "79     34652  0.729564  <statsmodels.tsa.statespace.sarimax.SARIMAXRes...   \n",
       "122    34691  0.642348  <statsmodels.tsa.statespace.sarimax.SARIMAXRes...   \n",
       "239    34488  0.580343  <statsmodels.tsa.statespace.sarimax.SARIMAXRes...   \n",
       "212    34690  0.561948  <statsmodels.tsa.statespace.sarimax.SARIMAXRes...   \n",
       "249    33513  0.534331  <statsmodels.tsa.statespace.sarimax.SARIMAXRes...   \n",
       "92     32117  0.482835  <statsmodels.tsa.statespace.sarimax.SARIMAXRes...   \n",
       "49     33881  0.477594  <statsmodels.tsa.statespace.sarimax.SARIMAXRes...   \n",
       "221    32976  0.475470  <statsmodels.tsa.statespace.sarimax.SARIMAXRes...   \n",
       "318    32764  0.469361  <statsmodels.tsa.statespace.sarimax.SARIMAXRes...   \n",
       "\n",
       "        county  \n",
       "223   [Sumter]  \n",
       "79     [Pasco]  \n",
       "122    [Pasco]  \n",
       "239   [Marion]  \n",
       "212    [Pasco]  \n",
       "249   [Sumter]  \n",
       "92   [Volusia]  \n",
       "49      [Polk]  \n",
       "221  [Brevard]  \n",
       "318  [Brevard]  "
      ]
     },
     "execution_count": 46,
     "metadata": {},
     "output_type": "execute_result"
    }
   ],
   "source": [
    "df_results.sort_values(by='ROI', ascending=False, inplace=True)\n",
    "df_results['county'] = df_results.zip_code.apply(\n",
    "    lambda x: df_fl[df_fl.RegionName==x].CountyName.unique())    \n",
    "\n",
    "df_results.head(10)"
   ]
  },
  {
   "cell_type": "code",
   "execution_count": 47,
   "metadata": {},
   "outputs": [
    {
     "data": {
      "text/html": [
       "<div>\n",
       "<style scoped>\n",
       "    .dataframe tbody tr th:only-of-type {\n",
       "        vertical-align: middle;\n",
       "    }\n",
       "\n",
       "    .dataframe tbody tr th {\n",
       "        vertical-align: top;\n",
       "    }\n",
       "\n",
       "    .dataframe thead th {\n",
       "        text-align: right;\n",
       "    }\n",
       "</style>\n",
       "<table border=\"1\" class=\"dataframe\">\n",
       "  <thead>\n",
       "    <tr style=\"text-align: right;\">\n",
       "      <th></th>\n",
       "      <th>zip_code</th>\n",
       "      <th>ROI</th>\n",
       "      <th>model</th>\n",
       "      <th>county</th>\n",
       "    </tr>\n",
       "  </thead>\n",
       "  <tbody>\n",
       "    <tr>\n",
       "      <th>39</th>\n",
       "      <td>32714</td>\n",
       "      <td>0.063576</td>\n",
       "      <td>&lt;statsmodels.tsa.statespace.sarimax.SARIMAXRes...</td>\n",
       "      <td>[Seminole]</td>\n",
       "    </tr>\n",
       "    <tr>\n",
       "      <th>114</th>\n",
       "      <td>33541</td>\n",
       "      <td>0.060517</td>\n",
       "      <td>&lt;statsmodels.tsa.statespace.sarimax.SARIMAXRes...</td>\n",
       "      <td>[Pasco]</td>\n",
       "    </tr>\n",
       "    <tr>\n",
       "      <th>98</th>\n",
       "      <td>33618</td>\n",
       "      <td>0.057098</td>\n",
       "      <td>&lt;statsmodels.tsa.statespace.sarimax.SARIMAXRes...</td>\n",
       "      <td>[Hillsborough]</td>\n",
       "    </tr>\n",
       "    <tr>\n",
       "      <th>295</th>\n",
       "      <td>32124</td>\n",
       "      <td>0.056498</td>\n",
       "      <td>&lt;statsmodels.tsa.statespace.sarimax.SARIMAXRes...</td>\n",
       "      <td>[Volusia]</td>\n",
       "    </tr>\n",
       "    <tr>\n",
       "      <th>227</th>\n",
       "      <td>33843</td>\n",
       "      <td>0.055844</td>\n",
       "      <td>&lt;statsmodels.tsa.statespace.sarimax.SARIMAXRes...</td>\n",
       "      <td>[Polk]</td>\n",
       "    </tr>\n",
       "    <tr>\n",
       "      <th>178</th>\n",
       "      <td>32836</td>\n",
       "      <td>0.051416</td>\n",
       "      <td>&lt;statsmodels.tsa.statespace.sarimax.SARIMAXRes...</td>\n",
       "      <td>[Orange]</td>\n",
       "    </tr>\n",
       "    <tr>\n",
       "      <th>222</th>\n",
       "      <td>33715</td>\n",
       "      <td>0.040957</td>\n",
       "      <td>&lt;statsmodels.tsa.statespace.sarimax.SARIMAXRes...</td>\n",
       "      <td>[Pinellas]</td>\n",
       "    </tr>\n",
       "    <tr>\n",
       "      <th>282</th>\n",
       "      <td>34484</td>\n",
       "      <td>0.014895</td>\n",
       "      <td>&lt;statsmodels.tsa.statespace.sarimax.SARIMAXRes...</td>\n",
       "      <td>[Sumter]</td>\n",
       "    </tr>\n",
       "    <tr>\n",
       "      <th>95</th>\n",
       "      <td>33626</td>\n",
       "      <td>0.013987</td>\n",
       "      <td>&lt;statsmodels.tsa.statespace.sarimax.SARIMAXRes...</td>\n",
       "      <td>[Hillsborough]</td>\n",
       "    </tr>\n",
       "    <tr>\n",
       "      <th>210</th>\n",
       "      <td>33598</td>\n",
       "      <td>-0.009668</td>\n",
       "      <td>&lt;statsmodels.tsa.statespace.sarimax.SARIMAXRes...</td>\n",
       "      <td>[Hillsborough]</td>\n",
       "    </tr>\n",
       "  </tbody>\n",
       "</table>\n",
       "</div>"
      ],
      "text/plain": [
       "    zip_code       ROI                                              model  \\\n",
       "39     32714  0.063576  <statsmodels.tsa.statespace.sarimax.SARIMAXRes...   \n",
       "114    33541  0.060517  <statsmodels.tsa.statespace.sarimax.SARIMAXRes...   \n",
       "98     33618  0.057098  <statsmodels.tsa.statespace.sarimax.SARIMAXRes...   \n",
       "295    32124  0.056498  <statsmodels.tsa.statespace.sarimax.SARIMAXRes...   \n",
       "227    33843  0.055844  <statsmodels.tsa.statespace.sarimax.SARIMAXRes...   \n",
       "178    32836  0.051416  <statsmodels.tsa.statespace.sarimax.SARIMAXRes...   \n",
       "222    33715  0.040957  <statsmodels.tsa.statespace.sarimax.SARIMAXRes...   \n",
       "282    34484  0.014895  <statsmodels.tsa.statespace.sarimax.SARIMAXRes...   \n",
       "95     33626  0.013987  <statsmodels.tsa.statespace.sarimax.SARIMAXRes...   \n",
       "210    33598 -0.009668  <statsmodels.tsa.statespace.sarimax.SARIMAXRes...   \n",
       "\n",
       "             county  \n",
       "39       [Seminole]  \n",
       "114         [Pasco]  \n",
       "98   [Hillsborough]  \n",
       "295       [Volusia]  \n",
       "227          [Polk]  \n",
       "178        [Orange]  \n",
       "222      [Pinellas]  \n",
       "282        [Sumter]  \n",
       "95   [Hillsborough]  \n",
       "210  [Hillsborough]  "
      ]
     },
     "execution_count": 47,
     "metadata": {},
     "output_type": "execute_result"
    }
   ],
   "source": [
    "df_results.tail(10)"
   ]
  },
  {
   "cell_type": "markdown",
   "metadata": {},
   "source": [
    "## Conclusion\n",
    "\n",
    "Based on the results of our modeling and testing, the best zip code in Orange County to purchase a home is 32839.\n",
    "The return on investment for this home is listed at 4.\n",
    "\n",
    "My recommmendation would be to purchase a house within the area code of 34785 of Sumter County."
   ]
  },
  {
   "cell_type": "markdown",
   "metadata": {},
   "source": [
    "## Future Works\n",
    "\n",
    "In the future, I would like to implement a means to automatically optimize the models generated, to see if the best model maybe one that was not ranked as high as the top 5."
   ]
  }
 ],
 "metadata": {
  "kernelspec": {
   "display_name": "Python [conda env:learn-env] *",
   "language": "python",
   "name": "conda-env-learn-env-py"
  },
  "language_info": {
   "codemirror_mode": {
    "name": "ipython",
    "version": 3
   },
   "file_extension": ".py",
   "mimetype": "text/x-python",
   "name": "python",
   "nbconvert_exporter": "python",
   "pygments_lexer": "ipython3",
   "version": "3.6.6"
  }
 },
 "nbformat": 4,
 "nbformat_minor": 2
}
